{
 "cells": [
  {
   "cell_type": "markdown",
   "metadata": {},
   "source": [
    "# Data visualization project\n",
    "## Ford GoBike analisys and visualization\n",
    "<span style=\"color:lightslategray;font-size:12px;\">By Andrés Pozuelo, May-2019</span>\n",
    "## Index\n",
    "- [What is Ford GoBike?](#whatis)\n",
    "- [Gathering data and Create a dataset](#create)\n",
    "- [Assessing Data](#asse)\n",
    "- [Cleaning Data](#clean)\n",
    "- [Part IV - Univariate Exploration](#univariate)\n",
    "- [Part V - Bivariate Exploration](#bivariate)\n",
    "- [Part VI - Multivariate Exploration](#multivariate)"
   ]
  },
  {
   "cell_type": "markdown",
   "metadata": {},
   "source": [
    "### What is Ford GoBike? <a id='whatis'></a>\n",
    "Ford GoBike is the Bay Area's bike share system. Bay Area Bike Share was introduced in 2013 as a pilot program for the region, with 700 bikes and 70 stations across San Francisco and San Jose. Once expansion is complete, Ford GoBike will grow to 7,000 bikes across San Francisco, the East Bay and San Jose.\n",
    "\n",
    "Ford GoBike, like other bike share systems, consists of a fleet of specially designed, sturdy and durable bikes that are locked into a network of docking stations throughout the city. The bikes can be unlocked from one station and returned to any other station in the system, making them ideal for one-way trips. People use bike share to commute to work or school, run errands, get to appointments or social engagements and more. It's a fun, convenient and affordable way to get around.\n",
    "\n",
    "The bikes are available for use 24 hours/day, 7 days/week, 365 days/year and riders have access to all bikes in the network when they become a member or purchase a pass."
   ]
  },
  {
   "cell_type": "markdown",
   "metadata": {},
   "source": [
    "### Gathering data and Create a dataset<a id='create'></a>"
   ]
  },
  {
   "cell_type": "code",
   "execution_count": 1,
   "metadata": {},
   "outputs": [],
   "source": [
    "import numpy as np\n",
    "import pandas as pd\n",
    "import matplotlib.pyplot as plt\n",
    "import seaborn as sns\n",
    "import datetime\n",
    "\n",
    "import os\n",
    "import glob\n",
    "\n",
    "%matplotlib inline"
   ]
  },
  {
   "cell_type": "code",
   "execution_count": 2,
   "metadata": {},
   "outputs": [],
   "source": [
    "all_files = glob.glob(os.path.join('csv\\*.csv'))\n",
    "df = pd.concat((pd.read_csv(f) for f in all_files), ignore_index = True)\n",
    "df.to_csv('gobike.csv', index=False)"
   ]
  },
  {
   "cell_type": "markdown",
   "metadata": {},
   "source": [
    "#### Original structure\n",
    "This first dataset has more than 2.7 million records in 16 columns and includes records from 2018-01-01 to 2019-09-30."
   ]
  },
  {
   "cell_type": "code",
   "execution_count": 3,
   "metadata": {
    "scrolled": true
   },
   "outputs": [
    {
     "name": "stdout",
     "output_type": "stream",
     "text": [
      "2018-01-01 00:01:53.8470\n",
      "2019-04-30 23:59:04.7390\n",
      "(2734625, 16)\n",
      "duration_sec                 int64\n",
      "start_time                  object\n",
      "end_time                    object\n",
      "start_station_id           float64\n",
      "start_station_name          object\n",
      "start_station_latitude     float64\n",
      "start_station_longitude    float64\n",
      "end_station_id             float64\n",
      "end_station_name            object\n",
      "end_station_latitude       float64\n",
      "end_station_longitude      float64\n",
      "bike_id                      int64\n",
      "user_type                   object\n",
      "member_birth_year          float64\n",
      "member_gender               object\n",
      "bike_share_for_all_trip     object\n",
      "dtype: object\n"
     ]
    }
   ],
   "source": [
    "print(df['start_time'].min())\n",
    "print(df['start_time'].max())\n",
    "print(df.shape)\n",
    "print(df.dtypes)"
   ]
  },
  {
   "cell_type": "markdown",
   "metadata": {},
   "source": [
    "### Assessing data<a id='asse'></a>"
   ]
  },
  {
   "cell_type": "code",
   "execution_count": 4,
   "metadata": {},
   "outputs": [
    {
     "data": {
      "text/html": [
       "<div>\n",
       "<style scoped>\n",
       "    .dataframe tbody tr th:only-of-type {\n",
       "        vertical-align: middle;\n",
       "    }\n",
       "\n",
       "    .dataframe tbody tr th {\n",
       "        vertical-align: top;\n",
       "    }\n",
       "\n",
       "    .dataframe thead th {\n",
       "        text-align: right;\n",
       "    }\n",
       "</style>\n",
       "<table border=\"1\" class=\"dataframe\">\n",
       "  <thead>\n",
       "    <tr style=\"text-align: right;\">\n",
       "      <th></th>\n",
       "      <th>duration_sec</th>\n",
       "      <th>start_time</th>\n",
       "      <th>end_time</th>\n",
       "      <th>start_station_id</th>\n",
       "      <th>start_station_name</th>\n",
       "      <th>start_station_latitude</th>\n",
       "      <th>start_station_longitude</th>\n",
       "      <th>end_station_id</th>\n",
       "      <th>end_station_name</th>\n",
       "      <th>end_station_latitude</th>\n",
       "      <th>end_station_longitude</th>\n",
       "      <th>bike_id</th>\n",
       "      <th>user_type</th>\n",
       "      <th>member_birth_year</th>\n",
       "      <th>member_gender</th>\n",
       "      <th>bike_share_for_all_trip</th>\n",
       "    </tr>\n",
       "  </thead>\n",
       "  <tbody>\n",
       "    <tr>\n",
       "      <th>920888</th>\n",
       "      <td>242</td>\n",
       "      <td>2018-07-16 19:54:37.3110</td>\n",
       "      <td>2018-07-16 19:58:40.1800</td>\n",
       "      <td>338.0</td>\n",
       "      <td>13th St at Franklin St</td>\n",
       "      <td>37.803189</td>\n",
       "      <td>-122.270579</td>\n",
       "      <td>186.0</td>\n",
       "      <td>Lakeside Dr at 14th St</td>\n",
       "      <td>37.801319</td>\n",
       "      <td>-122.262642</td>\n",
       "      <td>1546</td>\n",
       "      <td>Subscriber</td>\n",
       "      <td>1980.0</td>\n",
       "      <td>Female</td>\n",
       "      <td>No</td>\n",
       "    </tr>\n",
       "    <tr>\n",
       "      <th>2309808</th>\n",
       "      <td>739</td>\n",
       "      <td>2019-03-23 14:23:51.3910</td>\n",
       "      <td>2019-03-23 14:36:11.0690</td>\n",
       "      <td>26.0</td>\n",
       "      <td>1st St at Folsom St</td>\n",
       "      <td>37.787290</td>\n",
       "      <td>-122.394380</td>\n",
       "      <td>345.0</td>\n",
       "      <td>Hubbell St at 16th St</td>\n",
       "      <td>37.766483</td>\n",
       "      <td>-122.398279</td>\n",
       "      <td>5818</td>\n",
       "      <td>Subscriber</td>\n",
       "      <td>1989.0</td>\n",
       "      <td>Female</td>\n",
       "      <td>No</td>\n",
       "    </tr>\n",
       "    <tr>\n",
       "      <th>2725251</th>\n",
       "      <td>244</td>\n",
       "      <td>2019-04-01 21:00:56.4590</td>\n",
       "      <td>2019-04-01 21:05:01.1070</td>\n",
       "      <td>270.0</td>\n",
       "      <td>Ninth St at Heinz Ave</td>\n",
       "      <td>37.853489</td>\n",
       "      <td>-122.289415</td>\n",
       "      <td>265.0</td>\n",
       "      <td>Ninth St at Parker St</td>\n",
       "      <td>37.858868</td>\n",
       "      <td>-122.291209</td>\n",
       "      <td>6684</td>\n",
       "      <td>Subscriber</td>\n",
       "      <td>1982.0</td>\n",
       "      <td>Male</td>\n",
       "      <td>No</td>\n",
       "    </tr>\n",
       "    <tr>\n",
       "      <th>572445</th>\n",
       "      <td>295</td>\n",
       "      <td>2018-05-09 17:41:24.1130</td>\n",
       "      <td>2018-05-09 17:46:19.8060</td>\n",
       "      <td>203.0</td>\n",
       "      <td>Webster St at 2nd St</td>\n",
       "      <td>37.795195</td>\n",
       "      <td>-122.273970</td>\n",
       "      <td>162.0</td>\n",
       "      <td>Franklin St at 9th St</td>\n",
       "      <td>37.800516</td>\n",
       "      <td>-122.272080</td>\n",
       "      <td>3515</td>\n",
       "      <td>Subscriber</td>\n",
       "      <td>1984.0</td>\n",
       "      <td>Male</td>\n",
       "      <td>No</td>\n",
       "    </tr>\n",
       "    <tr>\n",
       "      <th>1090724</th>\n",
       "      <td>384</td>\n",
       "      <td>2018-08-20 17:04:57.8540</td>\n",
       "      <td>2018-08-20 17:11:22.0750</td>\n",
       "      <td>NaN</td>\n",
       "      <td>NaN</td>\n",
       "      <td>37.400000</td>\n",
       "      <td>-121.920000</td>\n",
       "      <td>NaN</td>\n",
       "      <td>NaN</td>\n",
       "      <td>37.390000</td>\n",
       "      <td>-121.930000</td>\n",
       "      <td>4183</td>\n",
       "      <td>Subscriber</td>\n",
       "      <td>1994.0</td>\n",
       "      <td>Male</td>\n",
       "      <td>Yes</td>\n",
       "    </tr>\n",
       "    <tr>\n",
       "      <th>2139568</th>\n",
       "      <td>2093</td>\n",
       "      <td>2019-02-17 20:12:18.9320</td>\n",
       "      <td>2019-02-17 20:47:12.1430</td>\n",
       "      <td>146.0</td>\n",
       "      <td>30th St at San Jose Ave</td>\n",
       "      <td>37.742314</td>\n",
       "      <td>-122.423180</td>\n",
       "      <td>139.0</td>\n",
       "      <td>Garfield Square (25th St at Harrison St)</td>\n",
       "      <td>37.751017</td>\n",
       "      <td>-122.411901</td>\n",
       "      <td>5271</td>\n",
       "      <td>Subscriber</td>\n",
       "      <td>1991.0</td>\n",
       "      <td>Male</td>\n",
       "      <td>No</td>\n",
       "    </tr>\n",
       "    <tr>\n",
       "      <th>1367807</th>\n",
       "      <td>420</td>\n",
       "      <td>2018-09-06 16:20:58.7100</td>\n",
       "      <td>2018-09-06 16:27:59.1130</td>\n",
       "      <td>90.0</td>\n",
       "      <td>Townsend St at 7th St</td>\n",
       "      <td>37.771058</td>\n",
       "      <td>-122.402717</td>\n",
       "      <td>44.0</td>\n",
       "      <td>Civic Center/UN Plaza BART Station (Market St ...</td>\n",
       "      <td>37.781074</td>\n",
       "      <td>-122.411738</td>\n",
       "      <td>3610</td>\n",
       "      <td>Subscriber</td>\n",
       "      <td>1980.0</td>\n",
       "      <td>Male</td>\n",
       "      <td>No</td>\n",
       "    </tr>\n",
       "    <tr>\n",
       "      <th>88707</th>\n",
       "      <td>73555</td>\n",
       "      <td>2018-01-02 15:47:49.2470</td>\n",
       "      <td>2018-01-03 12:13:44.9850</td>\n",
       "      <td>84.0</td>\n",
       "      <td>Duboce Park</td>\n",
       "      <td>37.769201</td>\n",
       "      <td>-122.433812</td>\n",
       "      <td>70.0</td>\n",
       "      <td>Central Ave at Fell St</td>\n",
       "      <td>37.773311</td>\n",
       "      <td>-122.444293</td>\n",
       "      <td>2201</td>\n",
       "      <td>Customer</td>\n",
       "      <td>NaN</td>\n",
       "      <td>NaN</td>\n",
       "      <td>No</td>\n",
       "    </tr>\n",
       "    <tr>\n",
       "      <th>592520</th>\n",
       "      <td>946</td>\n",
       "      <td>2018-05-06 12:25:37.9860</td>\n",
       "      <td>2018-05-06 12:41:24.2770</td>\n",
       "      <td>283.0</td>\n",
       "      <td>Delmas Ave and San Fernando St</td>\n",
       "      <td>37.330264</td>\n",
       "      <td>-121.897702</td>\n",
       "      <td>280.0</td>\n",
       "      <td>San Fernando at 7th St</td>\n",
       "      <td>37.337246</td>\n",
       "      <td>-121.883074</td>\n",
       "      <td>2225</td>\n",
       "      <td>Subscriber</td>\n",
       "      <td>1984.0</td>\n",
       "      <td>Male</td>\n",
       "      <td>Yes</td>\n",
       "    </tr>\n",
       "    <tr>\n",
       "      <th>1424032</th>\n",
       "      <td>2326</td>\n",
       "      <td>2018-10-27 14:08:57.4220</td>\n",
       "      <td>2018-10-27 14:47:44.1500</td>\n",
       "      <td>124.0</td>\n",
       "      <td>19th St at Florida St</td>\n",
       "      <td>37.760447</td>\n",
       "      <td>-122.410807</td>\n",
       "      <td>124.0</td>\n",
       "      <td>19th St at Florida St</td>\n",
       "      <td>37.760447</td>\n",
       "      <td>-122.410807</td>\n",
       "      <td>4331</td>\n",
       "      <td>Subscriber</td>\n",
       "      <td>1993.0</td>\n",
       "      <td>Male</td>\n",
       "      <td>No</td>\n",
       "    </tr>\n",
       "  </tbody>\n",
       "</table>\n",
       "</div>"
      ],
      "text/plain": [
       "         duration_sec                start_time                  end_time  \\\n",
       "920888            242  2018-07-16 19:54:37.3110  2018-07-16 19:58:40.1800   \n",
       "2309808           739  2019-03-23 14:23:51.3910  2019-03-23 14:36:11.0690   \n",
       "2725251           244  2019-04-01 21:00:56.4590  2019-04-01 21:05:01.1070   \n",
       "572445            295  2018-05-09 17:41:24.1130  2018-05-09 17:46:19.8060   \n",
       "1090724           384  2018-08-20 17:04:57.8540  2018-08-20 17:11:22.0750   \n",
       "2139568          2093  2019-02-17 20:12:18.9320  2019-02-17 20:47:12.1430   \n",
       "1367807           420  2018-09-06 16:20:58.7100  2018-09-06 16:27:59.1130   \n",
       "88707           73555  2018-01-02 15:47:49.2470  2018-01-03 12:13:44.9850   \n",
       "592520            946  2018-05-06 12:25:37.9860  2018-05-06 12:41:24.2770   \n",
       "1424032          2326  2018-10-27 14:08:57.4220  2018-10-27 14:47:44.1500   \n",
       "\n",
       "         start_station_id              start_station_name  \\\n",
       "920888              338.0          13th St at Franklin St   \n",
       "2309808              26.0             1st St at Folsom St   \n",
       "2725251             270.0           Ninth St at Heinz Ave   \n",
       "572445              203.0            Webster St at 2nd St   \n",
       "1090724               NaN                             NaN   \n",
       "2139568             146.0         30th St at San Jose Ave   \n",
       "1367807              90.0           Townsend St at 7th St   \n",
       "88707                84.0                     Duboce Park   \n",
       "592520              283.0  Delmas Ave and San Fernando St   \n",
       "1424032             124.0           19th St at Florida St   \n",
       "\n",
       "         start_station_latitude  start_station_longitude  end_station_id  \\\n",
       "920888                37.803189              -122.270579           186.0   \n",
       "2309808               37.787290              -122.394380           345.0   \n",
       "2725251               37.853489              -122.289415           265.0   \n",
       "572445                37.795195              -122.273970           162.0   \n",
       "1090724               37.400000              -121.920000             NaN   \n",
       "2139568               37.742314              -122.423180           139.0   \n",
       "1367807               37.771058              -122.402717            44.0   \n",
       "88707                 37.769201              -122.433812            70.0   \n",
       "592520                37.330264              -121.897702           280.0   \n",
       "1424032               37.760447              -122.410807           124.0   \n",
       "\n",
       "                                          end_station_name  \\\n",
       "920888                              Lakeside Dr at 14th St   \n",
       "2309808                              Hubbell St at 16th St   \n",
       "2725251                              Ninth St at Parker St   \n",
       "572445                               Franklin St at 9th St   \n",
       "1090724                                                NaN   \n",
       "2139568           Garfield Square (25th St at Harrison St)   \n",
       "1367807  Civic Center/UN Plaza BART Station (Market St ...   \n",
       "88707                               Central Ave at Fell St   \n",
       "592520                              San Fernando at 7th St   \n",
       "1424032                              19th St at Florida St   \n",
       "\n",
       "         end_station_latitude  end_station_longitude  bike_id   user_type  \\\n",
       "920888              37.801319            -122.262642     1546  Subscriber   \n",
       "2309808             37.766483            -122.398279     5818  Subscriber   \n",
       "2725251             37.858868            -122.291209     6684  Subscriber   \n",
       "572445              37.800516            -122.272080     3515  Subscriber   \n",
       "1090724             37.390000            -121.930000     4183  Subscriber   \n",
       "2139568             37.751017            -122.411901     5271  Subscriber   \n",
       "1367807             37.781074            -122.411738     3610  Subscriber   \n",
       "88707               37.773311            -122.444293     2201    Customer   \n",
       "592520              37.337246            -121.883074     2225  Subscriber   \n",
       "1424032             37.760447            -122.410807     4331  Subscriber   \n",
       "\n",
       "         member_birth_year member_gender bike_share_for_all_trip  \n",
       "920888              1980.0        Female                      No  \n",
       "2309808             1989.0        Female                      No  \n",
       "2725251             1982.0          Male                      No  \n",
       "572445              1984.0          Male                      No  \n",
       "1090724             1994.0          Male                     Yes  \n",
       "2139568             1991.0          Male                      No  \n",
       "1367807             1980.0          Male                      No  \n",
       "88707                  NaN           NaN                      No  \n",
       "592520              1984.0          Male                     Yes  \n",
       "1424032             1993.0          Male                      No  "
      ]
     },
     "execution_count": 4,
     "metadata": {},
     "output_type": "execute_result"
    }
   ],
   "source": [
    "df.sample(10)"
   ]
  },
  {
   "cell_type": "code",
   "execution_count": 5,
   "metadata": {},
   "outputs": [
    {
     "name": "stdout",
     "output_type": "stream",
     "text": [
      "<class 'pandas.core.frame.DataFrame'>\n",
      "RangeIndex: 2734625 entries, 0 to 2734624\n",
      "Data columns (total 16 columns):\n",
      "duration_sec               2734625 non-null int64\n",
      "start_time                 2734625 non-null object\n",
      "end_time                   2734625 non-null object\n",
      "start_station_id           2722124 non-null float64\n",
      "start_station_name         2722124 non-null object\n",
      "start_station_latitude     2734625 non-null float64\n",
      "start_station_longitude    2734625 non-null float64\n",
      "end_station_id             2722124 non-null float64\n",
      "end_station_name           2722124 non-null object\n",
      "end_station_latitude       2734625 non-null float64\n",
      "end_station_longitude      2734625 non-null float64\n",
      "bike_id                    2734625 non-null int64\n",
      "user_type                  2734625 non-null object\n",
      "member_birth_year          2583000 non-null float64\n",
      "member_gender              2583354 non-null object\n",
      "bike_share_for_all_trip    2734625 non-null object\n",
      "dtypes: float64(7), int64(2), object(7)\n",
      "memory usage: 333.8+ MB\n"
     ]
    }
   ],
   "source": [
    "df.info(null_counts=True)"
   ]
  },
  {
   "cell_type": "code",
   "execution_count": 6,
   "metadata": {
    "scrolled": true
   },
   "outputs": [
    {
     "data": {
      "text/plain": [
       "0"
      ]
     },
     "execution_count": 6,
     "metadata": {},
     "output_type": "execute_result"
    }
   ],
   "source": [
    "# Check duplicates\n",
    "df.duplicated().sum()"
   ]
  },
  {
   "cell_type": "code",
   "execution_count": 7,
   "metadata": {},
   "outputs": [
    {
     "name": "stdout",
     "output_type": "stream",
     "text": [
      "1878.0\n",
      "2001.0\n"
     ]
    }
   ],
   "source": [
    "# It is not possible so elderly users\n",
    "print(df['member_birth_year'].min())\n",
    "print(df['member_birth_year'].max())"
   ]
  },
  {
   "cell_type": "markdown",
   "metadata": {},
   "source": [
    "**Quality issues**\n",
    " * It is not possible so elderly users\n",
    " * The start_time and end_time fields must be of the timestamp type\n",
    " * The user_type, member_gender and bike_share_for_all_trip field can be of the category type\n",
    " * Añadir columnas de año, mes, día, semana y hora"
   ]
  },
  {
   "cell_type": "markdown",
   "metadata": {},
   "source": [
    "### Cleaning Data<a id='clean'></a>"
   ]
  },
  {
   "cell_type": "code",
   "execution_count": 19,
   "metadata": {},
   "outputs": [],
   "source": [
    "# Copy data\n",
    "df_clean = df.copy()"
   ]
  },
  {
   "cell_type": "markdown",
   "metadata": {},
   "source": [
    "#### Calculation of age and discarding users over 80 years"
   ]
  },
  {
   "cell_type": "code",
   "execution_count": 21,
   "metadata": {},
   "outputs": [],
   "source": [
    "# create age field\n",
    "df_clean['age'] = 2019-df_clean['member_birth_year']"
   ]
  },
  {
   "cell_type": "code",
   "execution_count": 22,
   "metadata": {
    "scrolled": true
   },
   "outputs": [
    {
     "data": {
      "image/png": "[encoded data removed]",
      "text/plain": [
       "<Figure size 432x288 with 1 Axes>"
      ]
     },
     "metadata": {
      "needs_background": "light"
     },
     "output_type": "display_data"
    }
   ],
   "source": [
    "df_clean['age'].hist();"
   ]
  },
  {
   "cell_type": "code",
   "execution_count": 23,
   "metadata": {},
   "outputs": [],
   "source": [
    "# Discarding users over 80 years and null values\n",
    "df_clean = df_clean.query('age <= 80')"
   ]
  },
  {
   "cell_type": "code",
   "execution_count": 24,
   "metadata": {},
   "outputs": [
    {
     "data": {
      "image/png": "[encoded data removed]",
      "text/plain": [
       "<Figure size 432x288 with 1 Axes>"
      ]
     },
     "metadata": {
      "needs_background": "light"
     },
     "output_type": "display_data"
    }
   ],
   "source": [
    "df_clean['age'].hist();"
   ]
  },
  {
   "cell_type": "markdown",
   "metadata": {},
   "source": [
    "#### Change to timestamp type"
   ]
  },
  {
   "cell_type": "code",
   "execution_count": 25,
   "metadata": {},
   "outputs": [],
   "source": [
    "df_clean.start_time = pd.to_datetime(df_clean.start_time)\n",
    "df_clean.end_time = pd.to_datetime(df_clean.end_time)"
   ]
  },
  {
   "cell_type": "code",
   "execution_count": 26,
   "metadata": {
    "scrolled": true
   },
   "outputs": [
    {
     "data": {
      "text/plain": [
       "duration_sec                        int64\n",
       "start_time                 datetime64[ns]\n",
       "end_time                   datetime64[ns]\n",
       "start_station_id                  float64\n",
       "start_station_name                 object\n",
       "start_station_latitude            float64\n",
       "start_station_longitude           float64\n",
       "end_station_id                    float64\n",
       "end_station_name                   object\n",
       "end_station_latitude              float64\n",
       "end_station_longitude             float64\n",
       "bike_id                             int64\n",
       "user_type                          object\n",
       "member_birth_year                 float64\n",
       "member_gender                      object\n",
       "bike_share_for_all_trip            object\n",
       "age                               float64\n",
       "dtype: object"
      ]
     },
     "execution_count": 26,
     "metadata": {},
     "output_type": "execute_result"
    }
   ],
   "source": [
    "df_clean.dtypes"
   ]
  },
  {
   "cell_type": "markdown",
   "metadata": {},
   "source": [
    "#### Can be of the category type"
   ]
  },
  {
   "cell_type": "code",
   "execution_count": 27,
   "metadata": {},
   "outputs": [],
   "source": [
    "df_clean.user_type = df_clean.user_type.astype('category')\n",
    "df_clean.member_gender = df_clean.member_gender.astype('category')\n",
    "df_clean.bike_share_for_all_trip = df_clean.bike_share_for_all_trip.astype('category')"
   ]
  },
  {
   "cell_type": "code",
   "execution_count": 28,
   "metadata": {},
   "outputs": [
    {
     "data": {
      "text/plain": [
       "duration_sec                        int64\n",
       "start_time                 datetime64[ns]\n",
       "end_time                   datetime64[ns]\n",
       "start_station_id                  float64\n",
       "start_station_name                 object\n",
       "start_station_latitude            float64\n",
       "start_station_longitude           float64\n",
       "end_station_id                    float64\n",
       "end_station_name                   object\n",
       "end_station_latitude              float64\n",
       "end_station_longitude             float64\n",
       "bike_id                             int64\n",
       "user_type                        category\n",
       "member_birth_year                 float64\n",
       "member_gender                    category\n",
       "bike_share_for_all_trip          category\n",
       "age                               float64\n",
       "dtype: object"
      ]
     },
     "execution_count": 28,
     "metadata": {},
     "output_type": "execute_result"
    }
   ],
   "source": [
    "df_clean.dtypes"
   ]
  },
  {
   "cell_type": "markdown",
   "metadata": {},
   "source": [
    "#### Add columns for year, month, week, day and hour"
   ]
  },
  {
   "cell_type": "code",
   "execution_count": 36,
   "metadata": {},
   "outputs": [],
   "source": [
    "# Create columns\n",
    "df_clean['year']=df_clean['start_time'].dt.year.astype(int)\n",
    "df_clean['month']=df_clean['start_time'].dt.month.astype(int)\n",
    "df_clean['week']=df_clean['start_time'].dt.strftime('%a')\n",
    "df_clean['day']=df_clean['start_time'].dt.day.astype(int)\n",
    "df_clean['hour']=df_clean['start_time'].dt.hour"
   ]
  },
  {
   "cell_type": "code",
   "execution_count": 37,
   "metadata": {},
   "outputs": [
    {
     "name": "stdout",
     "output_type": "stream",
     "text": [
      "<class 'pandas.core.frame.DataFrame'>\n",
      "Int64Index: 2579666 entries, 0 to 2734624\n",
      "Data columns (total 22 columns):\n",
      "duration_sec               2579666 non-null int64\n",
      "start_time                 2579666 non-null datetime64[ns]\n",
      "end_time                   2579666 non-null datetime64[ns]\n",
      "start_station_id           2567499 non-null float64\n",
      "start_station_name         2567499 non-null object\n",
      "start_station_latitude     2579666 non-null float64\n",
      "start_station_longitude    2579666 non-null float64\n",
      "end_station_id             2567499 non-null float64\n",
      "end_station_name           2567499 non-null object\n",
      "end_station_latitude       2579666 non-null float64\n",
      "end_station_longitude      2579666 non-null float64\n",
      "bike_id                    2579666 non-null int64\n",
      "user_type                  2579666 non-null category\n",
      "member_birth_year          2579666 non-null float64\n",
      "member_gender              2579666 non-null category\n",
      "bike_share_for_all_trip    2579666 non-null category\n",
      "age                        2579666 non-null float64\n",
      "year                       2579666 non-null int32\n",
      "month                      2579666 non-null int32\n",
      "day                        2579666 non-null int32\n",
      "hour                       2579666 non-null int64\n",
      "week                       2579666 non-null object\n",
      "dtypes: category(3), datetime64[ns](2), float64(8), int32(3), int64(3), object(3)\n",
      "memory usage: 371.5+ MB\n"
     ]
    }
   ],
   "source": [
    "df_clean.info(null_counts=True)"
   ]
  },
  {
   "cell_type": "markdown",
   "metadata": {},
   "source": [
    "#### Save the clean-master dataset"
   ]
  },
  {
   "cell_type": "code",
   "execution_count": 38,
   "metadata": {},
   "outputs": [],
   "source": [
    "df_clean.to_csv('clean_master_gobike.csv', index=False)"
   ]
  },
  {
   "cell_type": "markdown",
   "metadata": {},
   "source": [
    "### What is the structure of your dataset?\n",
    "The final structure has more than 2.5 million records in 21 columns where we can see:\n",
    "- The times of the journeys\n",
    "- From where and where with geolocation\n",
    "- Age, gender and type of user\n",
    "- The id of the bicycle and if it is shared for the all trip.\n",
    "\n",
    "In addition columns of **year, week, month, day and hour** have been added for a better subsequent analysis"
   ]
  },
  {
   "cell_type": "code",
   "execution_count": 40,
   "metadata": {
    "scrolled": true
   },
   "outputs": [
    {
     "name": "stdout",
     "output_type": "stream",
     "text": [
      "2018-01-01 00:07:41.040000\n",
      "2019-04-30 23:59:04.739000\n",
      "(2579666, 22)\n",
      "duration_sec                        int64\n",
      "start_time                 datetime64[ns]\n",
      "end_time                   datetime64[ns]\n",
      "start_station_id                  float64\n",
      "start_station_name                 object\n",
      "start_station_latitude            float64\n",
      "start_station_longitude           float64\n",
      "end_station_id                    float64\n",
      "end_station_name                   object\n",
      "end_station_latitude              float64\n",
      "end_station_longitude             float64\n",
      "bike_id                             int64\n",
      "user_type                        category\n",
      "member_birth_year                 float64\n",
      "member_gender                    category\n",
      "bike_share_for_all_trip          category\n",
      "age                               float64\n",
      "year                                int32\n",
      "month                               int32\n",
      "day                                 int32\n",
      "hour                                int64\n",
      "week                               object\n",
      "dtype: object\n"
     ]
    }
   ],
   "source": [
    "print(df_clean['start_time'].min())\n",
    "print(df_clean['start_time'].max())\n",
    "print(df_clean.shape)\n",
    "print(df_clean.dtypes)"
   ]
  },
  {
   "cell_type": "markdown",
   "metadata": {},
   "source": [
    "### What is/are the main feature(s) of interest in your dataset?\n",
    "\n",
    "- Estoy interesado en descubrir el uso de GoBike por edades y género.\n",
    "- Cuáles son las horas punta, los días de la semana mayor demanda y si afectan los meses con temperaturas mas bajas.\n",
    "\n",
    "### What features in the dataset do you think will help support your investigation into your feature(s) of interest?\n",
    "\n",
    "> Your answer here!"
   ]
  },
  {
   "cell_type": "code",
   "execution_count": null,
   "metadata": {},
   "outputs": [],
   "source": []
  },
  {
   "cell_type": "markdown",
   "metadata": {},
   "source": [
    "## Univariate Exploration\n",
    "\n",
    "> In this section, investigate distributions of individual variables. If\n",
    "you see unusual points or outliers, take a deeper look to clean things up\n",
    "and prepare yourself to look at relationships between variables."
   ]
  },
  {
   "cell_type": "code",
   "execution_count": null,
   "metadata": {},
   "outputs": [],
   "source": []
  },
  {
   "cell_type": "code",
   "execution_count": null,
   "metadata": {},
   "outputs": [],
   "source": []
  },
  {
   "cell_type": "markdown",
   "metadata": {},
   "source": [
    "> Make sure that, after every plot or related series of plots, that you\n",
    "include a Markdown cell with comments about what you observed, and what\n",
    "you plan on investigating next."
   ]
  },
  {
   "cell_type": "code",
   "execution_count": null,
   "metadata": {},
   "outputs": [],
   "source": []
  },
  {
   "cell_type": "markdown",
   "metadata": {},
   "source": [
    "### Discuss the distribution(s) of your variable(s) of interest. Were there any unusual points? Did you need to perform any transformations?\n",
    "\n",
    "> Your answer here!\n",
    "\n",
    "### Of the features you investigated, were there any unusual distributions? Did you perform any operations on the data to tidy, adjust, or change the form of the data? If so, why did you do this?\n",
    "\n",
    "> Your answer here!"
   ]
  },
  {
   "cell_type": "markdown",
   "metadata": {},
   "source": [
    "## Bivariate Exploration\n",
    "\n",
    "> In this section, investigate relationships between pairs of variables in your\n",
    "data. Make sure the variables that you cover here have been introduced in some\n",
    "fashion in the previous section (univariate exploration)."
   ]
  },
  {
   "cell_type": "code",
   "execution_count": null,
   "metadata": {},
   "outputs": [],
   "source": []
  },
  {
   "cell_type": "markdown",
   "metadata": {},
   "source": [
    "### Talk about some of the relationships you observed in this part of the investigation. How did the feature(s) of interest vary with other features in the dataset?\n",
    "\n",
    "> Your answer here!\n",
    "\n",
    "### Did you observe any interesting relationships between the other features (not the main feature(s) of interest)?\n",
    "\n",
    "> Your answer here!"
   ]
  },
  {
   "cell_type": "markdown",
   "metadata": {},
   "source": [
    "## Multivariate Exploration\n",
    "\n",
    "> Create plots of three or more variables to investigate your data even\n",
    "further. Make sure that your investigations are justified, and follow from\n",
    "your work in the previous sections."
   ]
  },
  {
   "cell_type": "code",
   "execution_count": null,
   "metadata": {},
   "outputs": [],
   "source": []
  },
  {
   "cell_type": "markdown",
   "metadata": {},
   "source": [
    "### Talk about some of the relationships you observed in this part of the investigation. Were there features that strengthened each other in terms of looking at your feature(s) of interest?\n",
    "\n",
    "> Your answer here!\n",
    "\n",
    "### Were there any interesting or surprising interactions between features?\n",
    "\n",
    "> Your answer here!"
   ]
  },
  {
   "cell_type": "markdown",
   "metadata": {},
   "source": [
    "> At the end of your report, make sure that you export the notebook as an\n",
    "html file from the `File > Download as... > HTML` menu. Make sure you keep\n",
    "track of where the exported file goes, so you can put it in the same folder\n",
    "as this notebook for project submission. Also, make sure you remove all of\n",
    "the quote-formatted guide notes like this one before you finish your report!"
   ]
  },
  {
   "cell_type": "code",
   "execution_count": null,
   "metadata": {},
   "outputs": [],
   "source": []
  }
 ],
 "metadata": {
  "kernelspec": {
   "display_name": "Python 3",
   "language": "python",
   "name": "python3"
  },
  "language_info": {
   "codemirror_mode": {
    "name": "ipython",
    "version": 3
   },
   "file_extension": ".py",
   "mimetype": "text/x-python",
   "name": "python",
   "nbconvert_exporter": "python",
   "pygments_lexer": "ipython3",
   "version": "3.7.1"
  }
 },
 "nbformat": 4,
 "nbformat_minor": 2
}
