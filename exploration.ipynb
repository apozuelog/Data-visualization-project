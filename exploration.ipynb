{
 "cells": [
  {
   "cell_type": "markdown",
   "metadata": {
    "slideshow": {
     "slide_type": "slide"
    }
   },
   "source": [
    "# Data visualization project\n",
    "## Ford GoBike analisys and visualization\n",
    "<span style=\"color:lightslategray;font-size:12px;\">By Andrés Pozuelo, May-2019</span>\n",
    "## Index\n",
    "- [What is Ford GoBike?](#whatis)\n",
    "- [Gathering data and Create a dataset](#create)\n",
    "- [Assessing Data](#asse)\n",
    "- [Cleaning Data](#clean)\n",
    "- [Answering the questions](#answer)\n",
    "- [Univariate Exploration](#uni)\n",
    "- [Bivariate Exploration](#bi)\n",
    "- [Multivariate Exploration](#multi)"
   ]
  },
  {
   "cell_type": "markdown",
   "metadata": {},
   "source": [
    "### What is Ford GoBike? <a id='whatis'></a>\n",
    "Ford GoBike is the Bay Area's bike share system. Bay Area Bike Share was introduced in 2013 as a pilot program for the region, with 700 bikes and 70 stations across San Francisco and San Jose. Once expansion is complete, Ford GoBike will grow to 7,000 bikes across San Francisco, the East Bay and San Jose.\n",
    "\n",
    "Ford GoBike, like other bike share systems, consists of a fleet of specially designed, sturdy and durable bikes that are locked into a network of docking stations throughout the city. The bikes can be unlocked from one station and returned to any other station in the system, making them ideal for one-way trips. People use bike share to commute to work or school, run errands, get to appointments or social engagements and more. It's a fun, convenient and affordable way to get around.\n",
    "\n",
    "The bikes are available for use 24 hours/day, 7 days/week, 365 days/year and riders have access to all bikes in the network when they become a member or purchase a pass."
   ]
  },
  {
   "cell_type": "markdown",
   "metadata": {},
   "source": [
    "### Gathering data and Create a dataset<a id='create'></a>"
   ]
  },
  {
   "cell_type": "code",
   "execution_count": 1,
   "metadata": {},
   "outputs": [],
   "source": [
    "import numpy as np\n",
    "import pandas as pd\n",
    "import matplotlib.pyplot as plt\n",
    "import seaborn as sb\n",
    "import datetime\n",
    "\n",
    "import plotly.plotly as py\n",
    "import plotly.graph_objs as go\n",
    "\n",
    "import os\n",
    "import glob\n",
    "\n",
    "%matplotlib inline\n",
    "from matplotlib.sankey import Sankey"
   ]
  },
  {
   "cell_type": "code",
   "execution_count": 2,
   "metadata": {},
   "outputs": [],
   "source": [
    "all_files = glob.glob(os.path.join('csv\\*.csv'))\n",
    "df = pd.concat((pd.read_csv(f) for f in all_files), ignore_index = True)\n",
    "#df.to_csv('gobike.csv', index=False)"
   ]
  },
  {
   "cell_type": "markdown",
   "metadata": {},
   "source": [
    "#### Original structure\n",
    "This first dataset has more than 2.7 million records in 16 columns and includes records from 2018-01-01 to 2019-09-30."
   ]
  },
  {
   "cell_type": "code",
   "execution_count": 3,
   "metadata": {
    "scrolled": true
   },
   "outputs": [
    {
     "name": "stdout",
     "output_type": "stream",
     "text": [
      "2018-01-01 00:01:53.8470\n",
      "2019-04-30 23:59:04.7390\n",
      "(2734625, 16)\n",
      "duration_sec                 int64\n",
      "start_time                  object\n",
      "end_time                    object\n",
      "start_station_id           float64\n",
      "start_station_name          object\n",
      "start_station_latitude     float64\n",
      "start_station_longitude    float64\n",
      "end_station_id             float64\n",
      "end_station_name            object\n",
      "end_station_latitude       float64\n",
      "end_station_longitude      float64\n",
      "bike_id                      int64\n",
      "user_type                   object\n",
      "member_birth_year          float64\n",
      "member_gender               object\n",
      "bike_share_for_all_trip     object\n",
      "dtype: object\n"
     ]
    }
   ],
   "source": [
    "print(df['start_time'].min())\n",
    "print(df['start_time'].max())\n",
    "print(df.shape)\n",
    "print(df.dtypes)"
   ]
  },
  {
   "cell_type": "markdown",
   "metadata": {},
   "source": [
    "### Assessing data<a id='asse'></a>"
   ]
  },
  {
   "cell_type": "code",
   "execution_count": 4,
   "metadata": {},
   "outputs": [
    {
     "data": {
      "text/html": [
       "<div>\n",
       "<style scoped>\n",
       "    .dataframe tbody tr th:only-of-type {\n",
       "        vertical-align: middle;\n",
       "    }\n",
       "\n",
       "    .dataframe tbody tr th {\n",
       "        vertical-align: top;\n",
       "    }\n",
       "\n",
       "    .dataframe thead th {\n",
       "        text-align: right;\n",
       "    }\n",
       "</style>\n",
       "<table border=\"1\" class=\"dataframe\">\n",
       "  <thead>\n",
       "    <tr style=\"text-align: right;\">\n",
       "      <th></th>\n",
       "      <th>duration_sec</th>\n",
       "      <th>start_time</th>\n",
       "      <th>end_time</th>\n",
       "      <th>start_station_id</th>\n",
       "      <th>start_station_name</th>\n",
       "      <th>start_station_latitude</th>\n",
       "      <th>start_station_longitude</th>\n",
       "      <th>end_station_id</th>\n",
       "      <th>end_station_name</th>\n",
       "      <th>end_station_latitude</th>\n",
       "      <th>end_station_longitude</th>\n",
       "      <th>bike_id</th>\n",
       "      <th>user_type</th>\n",
       "      <th>member_birth_year</th>\n",
       "      <th>member_gender</th>\n",
       "      <th>bike_share_for_all_trip</th>\n",
       "    </tr>\n",
       "  </thead>\n",
       "  <tbody>\n",
       "    <tr>\n",
       "      <th>1743364</th>\n",
       "      <td>1392</td>\n",
       "      <td>2018-12-28 11:39:22.7210</td>\n",
       "      <td>2018-12-28 12:02:34.9160</td>\n",
       "      <td>368.0</td>\n",
       "      <td>Myrtle St at Polk St</td>\n",
       "      <td>37.785434</td>\n",
       "      <td>-122.419622</td>\n",
       "      <td>42.0</td>\n",
       "      <td>San Francisco City Hall (Polk St at Grove St)</td>\n",
       "      <td>37.778650</td>\n",
       "      <td>-122.418230</td>\n",
       "      <td>5463</td>\n",
       "      <td>Customer</td>\n",
       "      <td>1986.0</td>\n",
       "      <td>Male</td>\n",
       "      <td>No</td>\n",
       "    </tr>\n",
       "    <tr>\n",
       "      <th>87787</th>\n",
       "      <td>293</td>\n",
       "      <td>2018-01-03 17:59:06.9650</td>\n",
       "      <td>2018-01-03 18:04:00.7100</td>\n",
       "      <td>14.0</td>\n",
       "      <td>Clay St at Battery St</td>\n",
       "      <td>37.795001</td>\n",
       "      <td>-122.399970</td>\n",
       "      <td>323.0</td>\n",
       "      <td>Broadway at Kearny</td>\n",
       "      <td>37.798014</td>\n",
       "      <td>-122.405950</td>\n",
       "      <td>3621</td>\n",
       "      <td>Subscriber</td>\n",
       "      <td>1991.0</td>\n",
       "      <td>Male</td>\n",
       "      <td>No</td>\n",
       "    </tr>\n",
       "    <tr>\n",
       "      <th>380593</th>\n",
       "      <td>518</td>\n",
       "      <td>2018-04-17 08:19:19.2300</td>\n",
       "      <td>2018-04-17 08:27:58.1730</td>\n",
       "      <td>67.0</td>\n",
       "      <td>San Francisco Caltrain Station 2  (Townsend St...</td>\n",
       "      <td>37.776639</td>\n",
       "      <td>-122.395526</td>\n",
       "      <td>21.0</td>\n",
       "      <td>Montgomery St BART Station (Market St at 2nd St)</td>\n",
       "      <td>37.789625</td>\n",
       "      <td>-122.400811</td>\n",
       "      <td>3386</td>\n",
       "      <td>Subscriber</td>\n",
       "      <td>1984.0</td>\n",
       "      <td>Male</td>\n",
       "      <td>No</td>\n",
       "    </tr>\n",
       "    <tr>\n",
       "      <th>2059138</th>\n",
       "      <td>830</td>\n",
       "      <td>2019-02-28 17:14:54.2820</td>\n",
       "      <td>2019-02-28 17:28:44.3340</td>\n",
       "      <td>90.0</td>\n",
       "      <td>Townsend St at 7th St</td>\n",
       "      <td>37.771058</td>\n",
       "      <td>-122.402717</td>\n",
       "      <td>368.0</td>\n",
       "      <td>Myrtle St at Polk St</td>\n",
       "      <td>37.785434</td>\n",
       "      <td>-122.419622</td>\n",
       "      <td>5932</td>\n",
       "      <td>Subscriber</td>\n",
       "      <td>1981.0</td>\n",
       "      <td>Male</td>\n",
       "      <td>No</td>\n",
       "    </tr>\n",
       "    <tr>\n",
       "      <th>359259</th>\n",
       "      <td>3846</td>\n",
       "      <td>2018-04-21 14:44:56.3880</td>\n",
       "      <td>2018-04-21 15:49:02.6430</td>\n",
       "      <td>15.0</td>\n",
       "      <td>San Francisco Ferry Building (Harry Bridges Pl...</td>\n",
       "      <td>37.795392</td>\n",
       "      <td>-122.394203</td>\n",
       "      <td>8.0</td>\n",
       "      <td>The Embarcadero at Vallejo St</td>\n",
       "      <td>37.799953</td>\n",
       "      <td>-122.398525</td>\n",
       "      <td>670</td>\n",
       "      <td>Customer</td>\n",
       "      <td>NaN</td>\n",
       "      <td>NaN</td>\n",
       "      <td>No</td>\n",
       "    </tr>\n",
       "    <tr>\n",
       "      <th>1571611</th>\n",
       "      <td>307</td>\n",
       "      <td>2018-10-04 15:31:16.5870</td>\n",
       "      <td>2018-10-04 15:36:24.0190</td>\n",
       "      <td>349.0</td>\n",
       "      <td>Howard St at Mary St</td>\n",
       "      <td>37.781010</td>\n",
       "      <td>-122.405666</td>\n",
       "      <td>60.0</td>\n",
       "      <td>8th St at Ringold St</td>\n",
       "      <td>37.774520</td>\n",
       "      <td>-122.409449</td>\n",
       "      <td>3906</td>\n",
       "      <td>Subscriber</td>\n",
       "      <td>1992.0</td>\n",
       "      <td>Male</td>\n",
       "      <td>No</td>\n",
       "    </tr>\n",
       "    <tr>\n",
       "      <th>2119645</th>\n",
       "      <td>763</td>\n",
       "      <td>2019-02-20 13:39:21.7630</td>\n",
       "      <td>2019-02-20 13:52:04.8810</td>\n",
       "      <td>110.0</td>\n",
       "      <td>17th &amp; Folsom Street Park (17th St at Folsom St)</td>\n",
       "      <td>37.763708</td>\n",
       "      <td>-122.415204</td>\n",
       "      <td>5.0</td>\n",
       "      <td>Powell St BART Station (Market St at 5th St)</td>\n",
       "      <td>37.783899</td>\n",
       "      <td>-122.408445</td>\n",
       "      <td>6235</td>\n",
       "      <td>Subscriber</td>\n",
       "      <td>1986.0</td>\n",
       "      <td>Male</td>\n",
       "      <td>No</td>\n",
       "    </tr>\n",
       "    <tr>\n",
       "      <th>2313378</th>\n",
       "      <td>412</td>\n",
       "      <td>2019-03-22 19:41:28.5680</td>\n",
       "      <td>2019-03-22 19:48:20.7290</td>\n",
       "      <td>383.0</td>\n",
       "      <td>Golden Gate Ave at Franklin St</td>\n",
       "      <td>37.780787</td>\n",
       "      <td>-122.421934</td>\n",
       "      <td>52.0</td>\n",
       "      <td>McAllister St at Baker St</td>\n",
       "      <td>37.777416</td>\n",
       "      <td>-122.441838</td>\n",
       "      <td>6480</td>\n",
       "      <td>Subscriber</td>\n",
       "      <td>1992.0</td>\n",
       "      <td>Male</td>\n",
       "      <td>No</td>\n",
       "    </tr>\n",
       "    <tr>\n",
       "      <th>396597</th>\n",
       "      <td>1486</td>\n",
       "      <td>2018-04-12 16:50:37.4780</td>\n",
       "      <td>2018-04-12 17:15:24.4050</td>\n",
       "      <td>166.0</td>\n",
       "      <td>College Ave at Alcatraz Ave</td>\n",
       "      <td>37.851376</td>\n",
       "      <td>-122.252523</td>\n",
       "      <td>250.0</td>\n",
       "      <td>North Berkeley BART Station</td>\n",
       "      <td>37.874014</td>\n",
       "      <td>-122.283019</td>\n",
       "      <td>2058</td>\n",
       "      <td>Customer</td>\n",
       "      <td>1955.0</td>\n",
       "      <td>Male</td>\n",
       "      <td>No</td>\n",
       "    </tr>\n",
       "    <tr>\n",
       "      <th>1347440</th>\n",
       "      <td>533</td>\n",
       "      <td>2018-09-10 08:57:20.8340</td>\n",
       "      <td>2018-09-10 09:06:13.9710</td>\n",
       "      <td>44.0</td>\n",
       "      <td>Civic Center/UN Plaza BART Station (Market St ...</td>\n",
       "      <td>37.781074</td>\n",
       "      <td>-122.411738</td>\n",
       "      <td>21.0</td>\n",
       "      <td>Montgomery St BART Station (Market St at 2nd St)</td>\n",
       "      <td>37.789625</td>\n",
       "      <td>-122.400811</td>\n",
       "      <td>3690</td>\n",
       "      <td>Subscriber</td>\n",
       "      <td>1989.0</td>\n",
       "      <td>Female</td>\n",
       "      <td>No</td>\n",
       "    </tr>\n",
       "  </tbody>\n",
       "</table>\n",
       "</div>"
      ],
      "text/plain": [
       "         duration_sec                start_time                  end_time  \\\n",
       "1743364          1392  2018-12-28 11:39:22.7210  2018-12-28 12:02:34.9160   \n",
       "87787             293  2018-01-03 17:59:06.9650  2018-01-03 18:04:00.7100   \n",
       "380593            518  2018-04-17 08:19:19.2300  2018-04-17 08:27:58.1730   \n",
       "2059138           830  2019-02-28 17:14:54.2820  2019-02-28 17:28:44.3340   \n",
       "359259           3846  2018-04-21 14:44:56.3880  2018-04-21 15:49:02.6430   \n",
       "1571611           307  2018-10-04 15:31:16.5870  2018-10-04 15:36:24.0190   \n",
       "2119645           763  2019-02-20 13:39:21.7630  2019-02-20 13:52:04.8810   \n",
       "2313378           412  2019-03-22 19:41:28.5680  2019-03-22 19:48:20.7290   \n",
       "396597           1486  2018-04-12 16:50:37.4780  2018-04-12 17:15:24.4050   \n",
       "1347440           533  2018-09-10 08:57:20.8340  2018-09-10 09:06:13.9710   \n",
       "\n",
       "         start_station_id                                 start_station_name  \\\n",
       "1743364             368.0                               Myrtle St at Polk St   \n",
       "87787                14.0                              Clay St at Battery St   \n",
       "380593               67.0  San Francisco Caltrain Station 2  (Townsend St...   \n",
       "2059138              90.0                              Townsend St at 7th St   \n",
       "359259               15.0  San Francisco Ferry Building (Harry Bridges Pl...   \n",
       "1571611             349.0                               Howard St at Mary St   \n",
       "2119645             110.0   17th & Folsom Street Park (17th St at Folsom St)   \n",
       "2313378             383.0                     Golden Gate Ave at Franklin St   \n",
       "396597              166.0                        College Ave at Alcatraz Ave   \n",
       "1347440              44.0  Civic Center/UN Plaza BART Station (Market St ...   \n",
       "\n",
       "         start_station_latitude  start_station_longitude  end_station_id  \\\n",
       "1743364               37.785434              -122.419622            42.0   \n",
       "87787                 37.795001              -122.399970           323.0   \n",
       "380593                37.776639              -122.395526            21.0   \n",
       "2059138               37.771058              -122.402717           368.0   \n",
       "359259                37.795392              -122.394203             8.0   \n",
       "1571611               37.781010              -122.405666            60.0   \n",
       "2119645               37.763708              -122.415204             5.0   \n",
       "2313378               37.780787              -122.421934            52.0   \n",
       "396597                37.851376              -122.252523           250.0   \n",
       "1347440               37.781074              -122.411738            21.0   \n",
       "\n",
       "                                         end_station_name  \\\n",
       "1743364     San Francisco City Hall (Polk St at Grove St)   \n",
       "87787                                  Broadway at Kearny   \n",
       "380593   Montgomery St BART Station (Market St at 2nd St)   \n",
       "2059138                              Myrtle St at Polk St   \n",
       "359259                      The Embarcadero at Vallejo St   \n",
       "1571611                              8th St at Ringold St   \n",
       "2119645      Powell St BART Station (Market St at 5th St)   \n",
       "2313378                         McAllister St at Baker St   \n",
       "396597                        North Berkeley BART Station   \n",
       "1347440  Montgomery St BART Station (Market St at 2nd St)   \n",
       "\n",
       "         end_station_latitude  end_station_longitude  bike_id   user_type  \\\n",
       "1743364             37.778650            -122.418230     5463    Customer   \n",
       "87787               37.798014            -122.405950     3621  Subscriber   \n",
       "380593              37.789625            -122.400811     3386  Subscriber   \n",
       "2059138             37.785434            -122.419622     5932  Subscriber   \n",
       "359259              37.799953            -122.398525      670    Customer   \n",
       "1571611             37.774520            -122.409449     3906  Subscriber   \n",
       "2119645             37.783899            -122.408445     6235  Subscriber   \n",
       "2313378             37.777416            -122.441838     6480  Subscriber   \n",
       "396597              37.874014            -122.283019     2058    Customer   \n",
       "1347440             37.789625            -122.400811     3690  Subscriber   \n",
       "\n",
       "         member_birth_year member_gender bike_share_for_all_trip  \n",
       "1743364             1986.0          Male                      No  \n",
       "87787               1991.0          Male                      No  \n",
       "380593              1984.0          Male                      No  \n",
       "2059138             1981.0          Male                      No  \n",
       "359259                 NaN           NaN                      No  \n",
       "1571611             1992.0          Male                      No  \n",
       "2119645             1986.0          Male                      No  \n",
       "2313378             1992.0          Male                      No  \n",
       "396597              1955.0          Male                      No  \n",
       "1347440             1989.0        Female                      No  "
      ]
     },
     "execution_count": 4,
     "metadata": {},
     "output_type": "execute_result"
    }
   ],
   "source": [
    "df.sample(10)"
   ]
  },
  {
   "cell_type": "code",
   "execution_count": 5,
   "metadata": {},
   "outputs": [
    {
     "name": "stdout",
     "output_type": "stream",
     "text": [
      "<class 'pandas.core.frame.DataFrame'>\n",
      "RangeIndex: 2734625 entries, 0 to 2734624\n",
      "Data columns (total 16 columns):\n",
      "duration_sec               2734625 non-null int64\n",
      "start_time                 2734625 non-null object\n",
      "end_time                   2734625 non-null object\n",
      "start_station_id           2722124 non-null float64\n",
      "start_station_name         2722124 non-null object\n",
      "start_station_latitude     2734625 non-null float64\n",
      "start_station_longitude    2734625 non-null float64\n",
      "end_station_id             2722124 non-null float64\n",
      "end_station_name           2722124 non-null object\n",
      "end_station_latitude       2734625 non-null float64\n",
      "end_station_longitude      2734625 non-null float64\n",
      "bike_id                    2734625 non-null int64\n",
      "user_type                  2734625 non-null object\n",
      "member_birth_year          2583000 non-null float64\n",
      "member_gender              2583354 non-null object\n",
      "bike_share_for_all_trip    2734625 non-null object\n",
      "dtypes: float64(7), int64(2), object(7)\n",
      "memory usage: 333.8+ MB\n"
     ]
    }
   ],
   "source": [
    "df.info(null_counts=True)"
   ]
  },
  {
   "cell_type": "code",
   "execution_count": 6,
   "metadata": {
    "scrolled": true
   },
   "outputs": [
    {
     "data": {
      "text/plain": [
       "0"
      ]
     },
     "execution_count": 6,
     "metadata": {},
     "output_type": "execute_result"
    }
   ],
   "source": [
    "# Check duplicates\n",
    "df.duplicated().sum()"
   ]
  },
  {
   "cell_type": "code",
   "execution_count": 7,
   "metadata": {},
   "outputs": [
    {
     "name": "stdout",
     "output_type": "stream",
     "text": [
      "1878.0\n",
      "2001.0\n"
     ]
    }
   ],
   "source": [
    "# It is not possible so elderly users\n",
    "print(df['member_birth_year'].min())\n",
    "print(df['member_birth_year'].max())"
   ]
  },
  {
   "cell_type": "markdown",
   "metadata": {},
   "source": [
    "**Quality issues**\n",
    " * It is not possible so elderly users\n",
    " * The start_time and end_time fields must be of the timestamp type\n",
    " * The user_type, member_gender and bike_share_for_all_trip field can be of the category type\n",
    " * Añadir columnas de año, mes, día, semana y hora"
   ]
  },
  {
   "cell_type": "markdown",
   "metadata": {},
   "source": [
    "### Cleaning Data<a id='clean'></a>"
   ]
  },
  {
   "cell_type": "code",
   "execution_count": 8,
   "metadata": {},
   "outputs": [],
   "source": [
    "# Copy data\n",
    "df_clean = df.copy()"
   ]
  },
  {
   "cell_type": "markdown",
   "metadata": {},
   "source": [
    "#### Calculation of age and discarding users over 80 years"
   ]
  },
  {
   "cell_type": "code",
   "execution_count": 9,
   "metadata": {},
   "outputs": [],
   "source": [
    "# create age field\n",
    "df_clean['age'] = 2019-df_clean['member_birth_year']"
   ]
  },
  {
   "cell_type": "code",
   "execution_count": 10,
   "metadata": {
    "scrolled": true,
    "slideshow": {
     "slide_type": "slide"
    }
   },
   "outputs": [
    {
     "data": {
      "image/png": "[encoded data removed]",
      "text/plain": [
       "<Figure size 432x288 with 1 Axes>"
      ]
     },
     "metadata": {
      "needs_background": "light"
     },
     "output_type": "display_data"
    }
   ],
   "source": [
    "df_clean['age'].hist();"
   ]
  },
  {
   "cell_type": "code",
   "execution_count": 11,
   "metadata": {},
   "outputs": [],
   "source": [
    "# Discarding users over 80 years and null values\n",
    "df_clean = df_clean.query('age <= 80')"
   ]
  },
  {
   "cell_type": "code",
   "execution_count": 12,
   "metadata": {
    "slideshow": {
     "slide_type": "slide"
    }
   },
   "outputs": [
    {
     "data": {
      "image/png": "[encoded data removed]",
      "text/plain": [
       "<Figure size 432x288 with 1 Axes>"
      ]
     },
     "metadata": {
      "needs_background": "light"
     },
     "output_type": "display_data"
    }
   ],
   "source": [
    "df_clean['age'].hist();"
   ]
  },
  {
   "cell_type": "markdown",
   "metadata": {},
   "source": [
    "#### Change to timestamp type"
   ]
  },
  {
   "cell_type": "code",
   "execution_count": 13,
   "metadata": {},
   "outputs": [],
   "source": [
    "df_clean.start_time = pd.to_datetime(df_clean.start_time)\n",
    "df_clean.end_time = pd.to_datetime(df_clean.end_time)"
   ]
  },
  {
   "cell_type": "code",
   "execution_count": 14,
   "metadata": {
    "scrolled": true
   },
   "outputs": [
    {
     "data": {
      "text/plain": [
       "duration_sec                        int64\n",
       "start_time                 datetime64[ns]\n",
       "end_time                   datetime64[ns]\n",
       "start_station_id                  float64\n",
       "start_station_name                 object\n",
       "start_station_latitude            float64\n",
       "start_station_longitude           float64\n",
       "end_station_id                    float64\n",
       "end_station_name                   object\n",
       "end_station_latitude              float64\n",
       "end_station_longitude             float64\n",
       "bike_id                             int64\n",
       "user_type                          object\n",
       "member_birth_year                 float64\n",
       "member_gender                      object\n",
       "bike_share_for_all_trip            object\n",
       "age                               float64\n",
       "dtype: object"
      ]
     },
     "execution_count": 14,
     "metadata": {},
     "output_type": "execute_result"
    }
   ],
   "source": [
    "df_clean.dtypes"
   ]
  },
  {
   "cell_type": "markdown",
   "metadata": {},
   "source": [
    "#### Can be of the category type"
   ]
  },
  {
   "cell_type": "code",
   "execution_count": 15,
   "metadata": {},
   "outputs": [],
   "source": [
    "df_clean.user_type = df_clean.user_type.astype('category')\n",
    "# Desechamos Other gender\n",
    "df_clean = df_clean.query('member_gender != \"Other\"')\n",
    "df_clean.member_gender = df_clean.member_gender.astype('category')\n",
    "df_clean.bike_share_for_all_trip = df_clean.bike_share_for_all_trip.astype('category')"
   ]
  },
  {
   "cell_type": "code",
   "execution_count": 16,
   "metadata": {},
   "outputs": [
    {
     "data": {
      "text/plain": [
       "duration_sec                        int64\n",
       "start_time                 datetime64[ns]\n",
       "end_time                   datetime64[ns]\n",
       "start_station_id                  float64\n",
       "start_station_name                 object\n",
       "start_station_latitude            float64\n",
       "start_station_longitude           float64\n",
       "end_station_id                    float64\n",
       "end_station_name                   object\n",
       "end_station_latitude              float64\n",
       "end_station_longitude             float64\n",
       "bike_id                             int64\n",
       "user_type                        category\n",
       "member_birth_year                 float64\n",
       "member_gender                    category\n",
       "bike_share_for_all_trip          category\n",
       "age                               float64\n",
       "dtype: object"
      ]
     },
     "execution_count": 16,
     "metadata": {},
     "output_type": "execute_result"
    }
   ],
   "source": [
    "df_clean.dtypes"
   ]
  },
  {
   "cell_type": "markdown",
   "metadata": {},
   "source": [
    "#### Add columns for year, month, week, day and hour"
   ]
  },
  {
   "cell_type": "code",
   "execution_count": 17,
   "metadata": {},
   "outputs": [],
   "source": [
    "# Create columns\n",
    "df_clean['start_date'] = df_clean['start_time'].dt.date\n",
    "df_clean['year']=df_clean['start_time'].dt.year.astype(int)\n",
    "df_clean['month']=df_clean['start_time'].dt.month.astype(int)\n",
    "df_clean['week']=df_clean['start_time'].dt.strftime('%a')\n",
    "df_clean['day']=df_clean['start_time'].dt.day.astype(int)\n",
    "df_clean['hour']=df_clean['start_time'].dt.hour"
   ]
  },
  {
   "cell_type": "code",
   "execution_count": 18,
   "metadata": {
    "scrolled": false
   },
   "outputs": [
    {
     "name": "stdout",
     "output_type": "stream",
     "text": [
      "<class 'pandas.core.frame.DataFrame'>\n",
      "Int64Index: 2536612 entries, 0 to 2734624\n",
      "Data columns (total 23 columns):\n",
      "duration_sec               2536612 non-null int64\n",
      "start_time                 2536612 non-null datetime64[ns]\n",
      "end_time                   2536612 non-null datetime64[ns]\n",
      "start_station_id           2524538 non-null float64\n",
      "start_station_name         2524538 non-null object\n",
      "start_station_latitude     2536612 non-null float64\n",
      "start_station_longitude    2536612 non-null float64\n",
      "end_station_id             2524538 non-null float64\n",
      "end_station_name           2524538 non-null object\n",
      "end_station_latitude       2536612 non-null float64\n",
      "end_station_longitude      2536612 non-null float64\n",
      "bike_id                    2536612 non-null int64\n",
      "user_type                  2536612 non-null category\n",
      "member_birth_year          2536612 non-null float64\n",
      "member_gender              2536612 non-null category\n",
      "bike_share_for_all_trip    2536612 non-null category\n",
      "age                        2536612 non-null float64\n",
      "start_date                 2536612 non-null object\n",
      "year                       2536612 non-null int32\n",
      "month                      2536612 non-null int32\n",
      "week                       2536612 non-null object\n",
      "day                        2536612 non-null int32\n",
      "hour                       2536612 non-null int64\n",
      "dtypes: category(3), datetime64[ns](2), float64(8), int32(3), int64(3), object(4)\n",
      "memory usage: 384.6+ MB\n"
     ]
    }
   ],
   "source": [
    "df_clean.info(null_counts=True)"
   ]
  },
  {
   "cell_type": "markdown",
   "metadata": {},
   "source": [
    "#### Save the clean-master dataset"
   ]
  },
  {
   "cell_type": "code",
   "execution_count": 19,
   "metadata": {},
   "outputs": [],
   "source": [
    "#df_clean.to_csv('clean_master_gobike.csv', index=False)"
   ]
  },
  {
   "cell_type": "markdown",
   "metadata": {},
   "source": [
    "### What is the structure of your dataset?<a id='answer'></a>\n",
    "The final structure has more than 2.5 million records in 21 columns where we can see:\n",
    "- The times of the journeys\n",
    "- From where and where with geolocation\n",
    "- Age, gender and type of user\n",
    "- The id of the bicycle and if it is shared for the all trip.\n",
    "\n",
    "In addition columns of **year, week, month, day and hour** have been added for a better subsequent analysis"
   ]
  },
  {
   "cell_type": "code",
   "execution_count": 20,
   "metadata": {
    "scrolled": false
   },
   "outputs": [
    {
     "name": "stdout",
     "output_type": "stream",
     "text": [
      "2018-01-01 00:07:41.040000\n",
      "2019-04-30 23:59:04.739000\n",
      "(2536612, 23)\n",
      "duration_sec                        int64\n",
      "start_time                 datetime64[ns]\n",
      "end_time                   datetime64[ns]\n",
      "start_station_id                  float64\n",
      "start_station_name                 object\n",
      "start_station_latitude            float64\n",
      "start_station_longitude           float64\n",
      "end_station_id                    float64\n",
      "end_station_name                   object\n",
      "end_station_latitude              float64\n",
      "end_station_longitude             float64\n",
      "bike_id                             int64\n",
      "user_type                        category\n",
      "member_birth_year                 float64\n",
      "member_gender                    category\n",
      "bike_share_for_all_trip          category\n",
      "age                               float64\n",
      "start_date                         object\n",
      "year                                int32\n",
      "month                               int32\n",
      "week                               object\n",
      "day                                 int32\n",
      "hour                                int64\n",
      "dtype: object\n"
     ]
    }
   ],
   "source": [
    "print(df_clean['start_time'].min())\n",
    "print(df_clean['start_time'].max())\n",
    "print(df_clean.shape)\n",
    "print(df_clean.dtypes)"
   ]
  },
  {
   "cell_type": "markdown",
   "metadata": {},
   "source": [
    "### What is/are the main feature(s) of interest in your dataset?\n",
    "\n",
    "- Initially I would like to see what is the general trend of monthly use, use by age and by gender in general terms\n",
    "- Later I would like to check the same data with the year 2019 to see the trend.\n",
    "- How many are the peak hours, the days of the week with the highest demand and if they affect the months with the lowest temperatures?\n",
    "- And above all, see the flows of users going to and from where, time, and if they repeat the same flows back hours later.\n",
    "\n",
    "### What features in the dataset do you think will help support your investigation into your feature(s) of interest?\n",
    "\n",
    "- To support my research, the dataset has geolocation and time both start and end. This would be the most important for **see the behavior of the users regarding the trips.**"
   ]
  },
  {
   "cell_type": "markdown",
   "metadata": {},
   "source": [
    "## Univariate Exploration<a id='uni'></a>\n",
    "- I will begin this exploration with the monthly use of GoBike in 2018 and 2019, by month, week and hour."
   ]
  },
  {
   "cell_type": "code",
   "execution_count": 21,
   "metadata": {},
   "outputs": [],
   "source": [
    "grouped = df_clean.groupby('year')\n",
    "grouped18 = grouped.get_group(2018)\n",
    "grouped19 = grouped.get_group(2019)\n",
    "\n",
    "# week days\n",
    "weekday = ['Mon', 'Tue', 'Wed', 'Thu', 'Fri', 'Sat', 'Sun']\n",
    "\n",
    "# colors\n",
    "base_color = sb.color_palette()[0]\n",
    "colors = ['dodgerblue', 'magenta']\n",
    "\n",
    "# variables start/end station for station analisys\n",
    "startstation18 = grouped18.groupby('start_station_name')\n",
    "startstation19 = grouped19.groupby('start_station_name')\n",
    "\n",
    "endstation18 = grouped18.groupby('end_station_name')\n",
    "endstation19 = grouped19.groupby('end_station_name')"
   ]
  },
  {
   "cell_type": "code",
   "execution_count": 22,
   "metadata": {
    "scrolled": false,
    "slideshow": {
     "slide_type": "slide"
    }
   },
   "outputs": [
    {
     "data": {
      "image/png": "[encoded data removed]",
      "text/plain": [
       "<Figure size 720x360 with 2 Axes>"
      ]
     },
     "metadata": {
      "needs_background": "light"
     },
     "output_type": "display_data"
    }
   ],
   "source": [
    "g = sb.catplot(data=df_clean, x='month', col=\"year\", kind='count', sharey = False,\n",
    "            color = base_color)\n",
    "g.set_axis_labels(\"Month\", \"Trips\")\n",
    "g.set_titles(\"{col_name}\")\n",
    "g.fig.suptitle('Use bike in 2018 and first 4 month by 2019 per Month', y=1.05, fontsize=12, fontweight='semibold');"
   ]
  },
  {
   "cell_type": "markdown",
   "metadata": {},
   "source": [
    "I see that in the colder and rainier months, there is less demand, being the months of May to October when users make more trips. What is very significant is the large increase in demand in 2019 if we compare the first 4 months of each year. **We can talk about a 100% increase in demand.** \n",
    "Later I will make a more detailed analysis. "
   ]
  },
  {
   "cell_type": "code",
   "execution_count": 23,
   "metadata": {
    "scrolled": false,
    "slideshow": {
     "slide_type": "slide"
    }
   },
   "outputs": [
    {
     "data": {
      "image/png": "[encoded data removed]",
      "text/plain": [
       "<Figure size 720x360 with 2 Axes>"
      ]
     },
     "metadata": {
      "needs_background": "light"
     },
     "output_type": "display_data"
    }
   ],
   "source": [
    "g = sb.catplot(data=df_clean, x='week', col=\"year\", kind='count', sharey = False,\n",
    "            color = base_color, order = weekday)\n",
    "g.set_axis_labels(\"Weekday\", \"Trips\")\n",
    "g.set_titles(\"{col_name}\")\n",
    "g.fig.suptitle('Use bike in 2018 and first 4 month by 2019 per weekday', y=1.05, fontsize=12, fontweight='semibold');"
   ]
  },
  {
   "cell_type": "markdown",
   "metadata": {},
   "source": [
    "It can be seen that the usage trend per day of the week is the same in 2018 as in 2019"
   ]
  },
  {
   "cell_type": "code",
   "execution_count": 24,
   "metadata": {},
   "outputs": [
    {
     "data": {
      "image/png": "[encoded data removed]",
      "text/plain": [
       "<Figure size 720x360 with 2 Axes>"
      ]
     },
     "metadata": {
      "needs_background": "light"
     },
     "output_type": "display_data"
    }
   ],
   "source": [
    "g = sb.catplot(data=df_clean, x='hour', col=\"year\", kind='count', sharey = False,\n",
    "            color = base_color)\n",
    "g.set_axis_labels(\"Hour\", \"Trips\")\n",
    "g.set_titles(\"{col_name}\")\n",
    "g.fig.suptitle('Use bike in 2018 and first 4 month by 2019 per hora', y=1.05, fontsize=12, fontweight='semibold');"
   ]
  },
  {
   "cell_type": "markdown",
   "metadata": {},
   "source": [
    "The charts for 2018 and 2019 are practically traced. Two peak hours are observed, 7 AM and 17 PM and one valley from 10 AM to 15 PM. Which leads me to think that users use BoBike to get to and from work, **and that they return from work to more people on a bike than in the outbound.**\n",
    "This may be because on the way out, people hurry more in bed and choose another means of transportation faster. However, on returning with more time, it is nice to relax while taking a walk. **This last one is very interesting and I will try to explain it later.**"
   ]
  },
  {
   "cell_type": "code",
   "execution_count": 25,
   "metadata": {
    "scrolled": false
   },
   "outputs": [
    {
     "data": {
      "image/png": "[encoded data removed]",
      "text/plain": [
       "<Figure size 1080x360 with 3 Axes>"
      ]
     },
     "metadata": {
      "needs_background": "light"
     },
     "output_type": "display_data"
    }
   ],
   "source": [
    "plt.figure(figsize = [15, 5])\n",
    "\n",
    "# bar\n",
    "plt.subplot(131)\n",
    "\n",
    "sb.countplot(data = df_clean, x = 'member_gender', color = base_color)\n",
    "\n",
    "# add annotations\n",
    "n_points = df_clean.shape[0]\n",
    "cat_counts = df_clean['member_gender'].value_counts()\n",
    "locs, labels = plt.xticks() # get the current tick locations and labels\n",
    "\n",
    "# loop through each pair of locations and labels\n",
    "for loc, label in zip(locs, labels):\n",
    "\n",
    "    # get the text property for the label to get the correct count\n",
    "    count = cat_counts[label.get_text()]\n",
    "    pct_string = '{:0.0f}'.format(count)\n",
    "\n",
    "    # print the annotation just below the top of the bar\n",
    "    plt.text(loc, count-100000, pct_string, ha = 'center', color = 'w')\n",
    "\n",
    "# age\n",
    "plt.subplot(132)\n",
    "sb.boxplot(data=df_clean, x='age', color=base_color)\n",
    "\n",
    "# calculating male and female\n",
    "plt.subplot(133)\n",
    "\n",
    "male = df_clean.query('member_gender == \"Male\"')['bike_id'].count()\n",
    "female = df_clean.query('member_gender == \"Female\"')['bike_id'].count()\n",
    "\n",
    "labels = ['Male', 'Female']\n",
    "sizes = [male, female]\n",
    "explode = (0, 0.1)\n",
    "\n",
    "plt.pie(sizes, explode=explode, labels=labels, colors = colors,\n",
    "        autopct='%1.1f%%', shadow=True, startangle=90)\n",
    "plt.axis('equal')\n",
    "\n",
    "plt.suptitle('Gender and Age', y=1.03, fontsize=12, fontweight='semibold');"
   ]
  },
  {
   "cell_type": "markdown",
   "metadata": {},
   "source": [
    "We verified how there is a greater number of male users and that the majority are between 30 and 40 years old."
   ]
  },
  {
   "cell_type": "markdown",
   "metadata": {},
   "source": [
    "## Bivariate Exploration<a id='bi'></a>\n",
    "\n",
    "- Total by gender and age\n",
    "- Total by type of user and month"
   ]
  },
  {
   "cell_type": "code",
   "execution_count": 26,
   "metadata": {
    "scrolled": false
   },
   "outputs": [
    {
     "name": "stderr",
     "output_type": "stream",
     "text": [
      "C:\\ProgramData\\Anaconda3\\lib\\site-packages\\scipy\\stats\\stats.py:1713: FutureWarning:\n",
      "\n",
      "Using a non-tuple sequence for multidimensional indexing is deprecated; use `arr[tuple(seq)]` instead of `arr[seq]`. In the future this will be interpreted as an array index, `arr[np.array(seq)]`, which will result either in an error or a different result.\n",
      "\n"
     ]
    },
    {
     "data": {
      "image/png": "[encoded data removed]",
      "text/plain": [
       "<Figure size 1080x360 with 2 Axes>"
      ]
     },
     "metadata": {
      "needs_background": "light"
     },
     "output_type": "display_data"
    }
   ],
   "source": [
    "plt.figure(figsize = [15, 5])\n",
    "\n",
    "plt.subplot(121)\n",
    "sb.violinplot(data = df_clean, x = 'member_gender', y = 'age')\n",
    "\n",
    "plt.subplot(122)\n",
    "sb.violinplot(data = df_clean, x = 'month', y = 'user_type');"
   ]
  },
  {
   "cell_type": "markdown",
   "metadata": {},
   "source": [
    "We verify that the average age is practically the same in both genders and that the months with the highest number of users are in the first 4 months of the year."
   ]
  },
  {
   "cell_type": "markdown",
   "metadata": {},
   "source": [
    "## Multivariate Exploration<a id='multi'></a>\n",
    "\n",
    "I'm going to create datasets with new groupings to check the behavior in terms of schedules and paths of the users. "
   ]
  },
  {
   "cell_type": "code",
   "execution_count": 27,
   "metadata": {
    "scrolled": false
   },
   "outputs": [
    {
     "name": "stdout",
     "output_type": "stream",
     "text": [
      "<class 'pandas.core.frame.DataFrame'>\n",
      "RangeIndex: 20 entries, 0 to 19\n",
      "Data columns (total 10 columns):\n",
      "hour                       20 non-null int64\n",
      "start_station_id           20 non-null float64\n",
      "start_station_name         20 non-null object\n",
      "start_station_longitude    20 non-null float64\n",
      "start_station_latitude     20 non-null float64\n",
      "end_station_id             20 non-null float64\n",
      "end_station_name           20 non-null object\n",
      "end_station_longitude      20 non-null float64\n",
      "end_station_latitude       20 non-null float64\n",
      "bike_id                    20 non-null int64\n",
      "dtypes: float64(6), int64(2), object(2)\n",
      "memory usage: 1.6+ KB\n"
     ]
    }
   ],
   "source": [
    "# I'll just stay with the 20 most repeated trips\n",
    "df_flujo = df_clean[['start_station_id', 'end_station_id', 'bike_id', 'start_station_name', 'start_station_longitude', 'start_station_latitude', 'end_station_name',\n",
    "          'end_station_longitude', 'end_station_latitude', 'hour']]\n",
    "ida = df_flujo.groupby(['hour', 'start_station_id', 'start_station_name', 'start_station_longitude'\n",
    "                        , 'start_station_latitude'])['bike_id'].count()\n",
    "vuelta = df_flujo.groupby(['hour', 'end_station_id', 'end_station_name', 'end_station_longitude'\n",
    "                        , 'end_station_latitude'])['bike_id'].count()\n",
    "\n",
    "gr_trips = df_flujo.groupby(['hour'\n",
    ", 'start_station_id', 'start_station_name', 'start_station_longitude', 'start_station_latitude'\n",
    ", 'end_station_id', 'end_station_name', 'end_station_longitude', 'end_station_latitude'])['bike_id'].count()\n",
    "\n",
    "df_trips=gr_trips.sort_values(ascending=False).head(20).to_frame()\n",
    "\n",
    "df_trips.columns = [''.join(col).strip() for col in df_trips.columns.values]\n",
    "df_trips = df_trips.reset_index()\n",
    "df_trips.info()"
   ]
  },
  {
   "cell_type": "code",
   "execution_count": 28,
   "metadata": {
    "scrolled": true
   },
   "outputs": [
    {
     "data": {
      "text/html": [
       "<div>\n",
       "<style scoped>\n",
       "    .dataframe tbody tr th:only-of-type {\n",
       "        vertical-align: middle;\n",
       "    }\n",
       "\n",
       "    .dataframe tbody tr th {\n",
       "        vertical-align: top;\n",
       "    }\n",
       "\n",
       "    .dataframe thead th {\n",
       "        text-align: right;\n",
       "    }\n",
       "</style>\n",
       "<table border=\"1\" class=\"dataframe\">\n",
       "  <thead>\n",
       "    <tr style=\"text-align: right;\">\n",
       "      <th></th>\n",
       "      <th>hour</th>\n",
       "      <th>start_station_id</th>\n",
       "      <th>start_station_name</th>\n",
       "      <th>start_station_longitude</th>\n",
       "      <th>start_station_latitude</th>\n",
       "      <th>end_station_id</th>\n",
       "      <th>end_station_name</th>\n",
       "      <th>end_station_longitude</th>\n",
       "      <th>end_station_latitude</th>\n",
       "      <th>bike_id</th>\n",
       "    </tr>\n",
       "  </thead>\n",
       "  <tbody>\n",
       "    <tr>\n",
       "      <th>0</th>\n",
       "      <td>8</td>\n",
       "      <td>196.0</td>\n",
       "      <td>Grand Ave at Perkins St</td>\n",
       "      <td>-122.256460</td>\n",
       "      <td>37.808894</td>\n",
       "      <td>182.0</td>\n",
       "      <td>19th Street BART Station</td>\n",
       "      <td>-122.268247</td>\n",
       "      <td>37.809013</td>\n",
       "      <td>1653</td>\n",
       "    </tr>\n",
       "    <tr>\n",
       "      <th>1</th>\n",
       "      <td>17</td>\n",
       "      <td>6.0</td>\n",
       "      <td>The Embarcadero at Sansome St</td>\n",
       "      <td>-122.403234</td>\n",
       "      <td>37.804770</td>\n",
       "      <td>16.0</td>\n",
       "      <td>Steuart St at Market St</td>\n",
       "      <td>-122.394430</td>\n",
       "      <td>37.794130</td>\n",
       "      <td>1539</td>\n",
       "    </tr>\n",
       "    <tr>\n",
       "      <th>2</th>\n",
       "      <td>8</td>\n",
       "      <td>15.0</td>\n",
       "      <td>San Francisco Ferry Building (Harry Bridges Pl...</td>\n",
       "      <td>-122.394203</td>\n",
       "      <td>37.795392</td>\n",
       "      <td>6.0</td>\n",
       "      <td>The Embarcadero at Sansome St</td>\n",
       "      <td>-122.403234</td>\n",
       "      <td>37.804770</td>\n",
       "      <td>1417</td>\n",
       "    </tr>\n",
       "    <tr>\n",
       "      <th>3</th>\n",
       "      <td>17</td>\n",
       "      <td>81.0</td>\n",
       "      <td>Berry St at 4th St</td>\n",
       "      <td>-122.393170</td>\n",
       "      <td>37.775880</td>\n",
       "      <td>15.0</td>\n",
       "      <td>San Francisco Ferry Building (Harry Bridges Pl...</td>\n",
       "      <td>-122.394203</td>\n",
       "      <td>37.795392</td>\n",
       "      <td>1344</td>\n",
       "    </tr>\n",
       "    <tr>\n",
       "      <th>4</th>\n",
       "      <td>8</td>\n",
       "      <td>16.0</td>\n",
       "      <td>Steuart St at Market St</td>\n",
       "      <td>-122.394430</td>\n",
       "      <td>37.794130</td>\n",
       "      <td>6.0</td>\n",
       "      <td>The Embarcadero at Sansome St</td>\n",
       "      <td>-122.403234</td>\n",
       "      <td>37.804770</td>\n",
       "      <td>1282</td>\n",
       "    </tr>\n",
       "  </tbody>\n",
       "</table>\n",
       "</div>"
      ],
      "text/plain": [
       "   hour  start_station_id                                 start_station_name  \\\n",
       "0     8             196.0                            Grand Ave at Perkins St   \n",
       "1    17               6.0                      The Embarcadero at Sansome St   \n",
       "2     8              15.0  San Francisco Ferry Building (Harry Bridges Pl...   \n",
       "3    17              81.0                                 Berry St at 4th St   \n",
       "4     8              16.0                            Steuart St at Market St   \n",
       "\n",
       "   start_station_longitude  start_station_latitude  end_station_id  \\\n",
       "0              -122.256460               37.808894           182.0   \n",
       "1              -122.403234               37.804770            16.0   \n",
       "2              -122.394203               37.795392             6.0   \n",
       "3              -122.393170               37.775880            15.0   \n",
       "4              -122.394430               37.794130             6.0   \n",
       "\n",
       "                                    end_station_name  end_station_longitude  \\\n",
       "0                           19th Street BART Station            -122.268247   \n",
       "1                            Steuart St at Market St            -122.394430   \n",
       "2                      The Embarcadero at Sansome St            -122.403234   \n",
       "3  San Francisco Ferry Building (Harry Bridges Pl...            -122.394203   \n",
       "4                      The Embarcadero at Sansome St            -122.403234   \n",
       "\n",
       "   end_station_latitude  bike_id  \n",
       "0             37.809013     1653  \n",
       "1             37.794130     1539  \n",
       "2             37.804770     1417  \n",
       "3             37.795392     1344  \n",
       "4             37.804770     1282  "
      ]
     },
     "execution_count": 28,
     "metadata": {},
     "output_type": "execute_result"
    }
   ],
   "source": [
    "df_trips.head()"
   ]
  },
  {
   "cell_type": "markdown",
   "metadata": {},
   "source": [
    "#### I check that the trips are usually round trip from work"
   ]
  },
  {
   "cell_type": "code",
   "execution_count": 29,
   "metadata": {},
   "outputs": [],
   "source": [
    "s = df_trips.hour < 10 # ida\n",
    "v = df_trips.hour > 10 # vuelta\n",
    "df_ida = df_trips.where(s)\n",
    "df_vuelta = df_trips.where(v)\n",
    "df_ida = df_ida.dropna()\n",
    "df_vuelta = df_vuelta.dropna()"
   ]
  },
  {
   "cell_type": "code",
   "execution_count": 30,
   "metadata": {},
   "outputs": [],
   "source": [
    "df_ida = df_ida.sort_values(by=['hour', 'bike_id'], ascending=[True,False])\n",
    "df_ida = df_ida.rename(index=str, columns={\"start_station_name\": \"source\", \"end_station_name\": \"target\", \n",
    "                                           \"bike_id\": \"value\"})\n",
    "\n",
    "df_vuelta = df_vuelta.sort_values(by=['hour', 'bike_id'], ascending=[True,False])\n",
    "df_vuelta = df_vuelta.rename(index=str, columns={\"start_station_name\": \"source\", \"end_station_name\": \"target\", \n",
    "                                           \"bike_id\": \"value\"})"
   ]
  },
  {
   "cell_type": "code",
   "execution_count": 31,
   "metadata": {
    "scrolled": true
   },
   "outputs": [
    {
     "name": "stdout",
     "output_type": "stream",
     "text": [
      "<class 'pandas.core.frame.DataFrame'>\n",
      "Index: 9 entries, 19 to 13\n",
      "Data columns (total 10 columns):\n",
      "hour                       9 non-null float64\n",
      "start_station_id           9 non-null float64\n",
      "source                     9 non-null object\n",
      "start_station_longitude    9 non-null float64\n",
      "start_station_latitude     9 non-null float64\n",
      "end_station_id             9 non-null float64\n",
      "target                     9 non-null object\n",
      "end_station_longitude      9 non-null float64\n",
      "end_station_latitude       9 non-null float64\n",
      "value                      9 non-null float64\n",
      "dtypes: float64(8), object(2)\n",
      "memory usage: 792.0+ bytes\n",
      "None\n",
      "<class 'pandas.core.frame.DataFrame'>\n",
      "Index: 11 entries, 10 to 7\n",
      "Data columns (total 10 columns):\n",
      "hour                       11 non-null float64\n",
      "start_station_id           11 non-null float64\n",
      "source                     11 non-null object\n",
      "start_station_longitude    11 non-null float64\n",
      "start_station_latitude     11 non-null float64\n",
      "end_station_id             11 non-null float64\n",
      "target                     11 non-null object\n",
      "end_station_longitude      11 non-null float64\n",
      "end_station_latitude       11 non-null float64\n",
      "value                      11 non-null float64\n",
      "dtypes: float64(8), object(2)\n",
      "memory usage: 968.0+ bytes\n",
      "None\n"
     ]
    }
   ],
   "source": [
    "print(df_ida.info())\n",
    "print(df_vuelta.info())"
   ]
  },
  {
   "cell_type": "code",
   "execution_count": 32,
   "metadata": {
    "scrolled": false
   },
   "outputs": [
    {
     "data": {
      "image/png": "[encoded data removed]",
      "text/plain": [
       "<Figure size 1080x360 with 2 Axes>"
      ]
     },
     "metadata": {
      "needs_background": "light"
     },
     "output_type": "display_data"
    }
   ],
   "source": [
    "plt.figure(figsize = [15, 5])\n",
    "# bar\n",
    "plt.subplot(121)\n",
    "sb.countplot(data = df_ida, x = 'hour', color = base_color)\n",
    "plt.subplot(122)\n",
    "sb.countplot(data = df_vuelta, x = 'hour', color = base_color);"
   ]
  },
  {
   "cell_type": "markdown",
   "metadata": {},
   "source": [
    "#### We see how three schedules are repeated, one way and the other back. We can affirm that the 7 correspond to the 16, the 8 to the 17 and the 9 to the 18.\n",
    "\n",
    "#### We can also check that more users are returning than they are, less after 18.\n",
    "\n",
    "#### I conclude that if the return is later than 17, less users return than they are."
   ]
  },
  {
   "cell_type": "code",
   "execution_count": 33,
   "metadata": {},
   "outputs": [],
   "source": [
    "from ipysankeywidget import SankeyWidget\n",
    "from ipywidgets import Layout"
   ]
  },
  {
   "cell_type": "code",
   "execution_count": 34,
   "metadata": {},
   "outputs": [],
   "source": [
    "layout = Layout(width=\"800\", height=\"400\")\n",
    "def sankey(margin_top=10, **value):\n",
    "    \"\"\"Show SankeyWidget with default values for size and margins\"\"\"\n",
    "    return SankeyWidget(layout=layout,\n",
    "                        margins=dict(top=margin_top, bottom=0, left=200, right=200),\n",
    "                        **value)"
   ]
  },
  {
   "cell_type": "code",
   "execution_count": 35,
   "metadata": {
    "scrolled": true
   },
   "outputs": [],
   "source": [
    "links_ida = [\n",
    "    {'source': '7:00 Bay Pl at Vernon St', 'target': '19th Street BART Station', 'value': '904', 'type': 'a'},\n",
    "    {'source': '8:00 Market St at 4th St', 'target': '4th St at Harrison St', 'value': '938', 'type': 'c'},\n",
    "    {'source': '8:00 Market St at 5th St', 'target': '5th St at Brannan St', 'value': '939', 'type': 'd'},\n",
    "    {'source': '8:00 Bay Pl at Vernon St', 'target': '19th Street BART Station', 'value': '1089', 'type': 'a'},\n",
    "    {'source': '8:00 Steuart St at Market St', 'target': 'The Embarcadero at Sansome St', 'value': '1291', 'type': 'b'},\n",
    "    {'source': '8:00 Harry Bridges', 'target': 'The Embarcadero at Sansome St', 'value': '1420', 'type': 'b'},\n",
    "    {'source': '8:00 Grand Ave at Perkins St', 'target': '19th Street BART Station', 'value': '1673', 'type': 'a'},\n",
    "    {'source': '9:00 Berry St at 4th St', 'target': 'Howard St at Beale St', 'value': '944', 'type': 'f'},\n",
    "    {'source': '9:00 Grand Ave at Perkins St', 'target': '19th Street BART Station', 'value': '1151', 'type': 'a'},\n",
    "]\n",
    "links_vuelta = [\n",
    "    {'source': '16:00 The Embarcadero', 'target': 'Steuart St', 'value': '1090', 'type': 'a'},\n",
    "    {'source': '16:00 The Embarcadero', 'target': 'San Francisco Ferry', 'value': '922', 'type': 'b'},\n",
    "    {'source': '17:00 The Embarcadero', 'target': 'Steuart St', 'value': '1539', 'type': 'a'},\n",
    "    {'source': '17:00 Berry St at 4th St', 'target': 'San Francisco Ferry', 'value': '1344', 'type': 'b'},\n",
    "    {'source': '17:00 19th Street BART Station', 'target': 'Grand Ave', 'value': '1238', 'type': 'c'},\n",
    "    {'source': '17:00 Division St at Potrero Ave', 'target': 'San Francisco Caltrain', 'value': '1420', 'type': 'd'},\n",
    "    {'source': '17:00 Berry St at 5th St', 'target': 'San Francisco Ferry', 'value': '1138', 'type': 'b'},\n",
    "    {'source': '17:00 Montgomery St BART ', 'target': 'San Francisco Caltrain', 'value': '917', 'type': 'd'},\n",
    "    {'source': '17:00 Market St', 'target': 'San Francisco Caltrain', 'value': '900', 'type': 'd'},\n",
    "    {'source': '18:00 19th Street', 'target': 'Grand Ave', 'value': '1164', 'type': 'c'},\n",
    "]"
   ]
  },
  {
   "cell_type": "code",
   "execution_count": 36,
   "metadata": {
    "scrolled": false
   },
   "outputs": [
    {
     "data": {
      "application/vnd.jupyter.widget-view+json": {
       "model_id": "6137ec5f7bb74770a78201f5e2910a47",
       "version_major": 2,
       "version_minor": 0
      },
      "text/plain": [
       "SankeyWidget(layout=Layout(height='400', width='800'), linkLabelFormat='.1f', links=[{'source': '7:00 Bay Pl a…"
      ]
     },
     "metadata": {},
     "output_type": "display_data"
    }
   ],
   "source": [
    "sankey(links=links_ida, linkLabelFormat='.1f')"
   ]
  },
  {
   "cell_type": "markdown",
   "metadata": {},
   "source": [
    "<img src=\"ida.png\">"
   ]
  },
  {
   "cell_type": "markdown",
   "metadata": {},
   "source": [
    "#### In this graph we can see where the users are going most. Normanly it will be your job."
   ]
  },
  {
   "cell_type": "code",
   "execution_count": 37,
   "metadata": {
    "scrolled": false
   },
   "outputs": [
    {
     "data": {
      "application/vnd.jupyter.widget-view+json": {
       "model_id": "61b4202b65af4a3384a924a025895fc7",
       "version_major": 2,
       "version_minor": 0
      },
      "text/plain": [
       "SankeyWidget(layout=Layout(height='400', width='800'), linkLabelFormat='.1f', links=[{'source': '16:00 The Emb…"
      ]
     },
     "metadata": {},
     "output_type": "display_data"
    }
   ],
   "source": [
    "sankey(links=links_vuelta, linkLabelFormat='.1f')"
   ]
  },
  {
   "cell_type": "markdown",
   "metadata": {},
   "source": [
    "<img src=\"vuelta.png\">"
   ]
  },
  {
   "cell_type": "markdown",
   "metadata": {},
   "source": [
    "#### And this is where they come from."
   ]
  },
  {
   "cell_type": "markdown",
   "metadata": {},
   "source": [
    "### Final analysis:\n",
    "\n",
    "As more significant results I would highlight:\n",
    "- In 2019 there is an increase of approximately 100% in GoBike users.\n",
    "- The use of GoBike by men is much higher, but their age is similar, between 30 and 40 years of age.\n",
    "- Its use is greater than 7:00 a.m. to 10:00 p.m. and from 4:00 p.m. to 7:00 p.m., which suggests that it is to go to and from work.\n",
    "- We can also observe that more users are returning than they are. This is because in the morning most of the users go in another means of transport faster, but take the opportunity to return to GoBike.\n",
    "- If the return is to occur after 18:00, the effect is the opposite, fewer people return than they were.\n",
    "- Finally, the flow of people are reduced in few destinations. Possibly because that's where the jobs are."
   ]
  },
  {
   "cell_type": "code",
   "execution_count": null,
   "metadata": {},
   "outputs": [],
   "source": []
  }
 ],
 "metadata": {
  "kernelspec": {
   "display_name": "Python 3",
   "language": "python",
   "name": "python3"
  },
  "language_info": {
   "codemirror_mode": {
    "name": "ipython",
    "version": 3
   },
   "file_extension": ".py",
   "mimetype": "text/x-python",
   "name": "python",
   "nbconvert_exporter": "python",
   "pygments_lexer": "ipython3",
   "version": "3.7.1"
  }
 },
 "nbformat": 4,
 "nbformat_minor": 2
}
