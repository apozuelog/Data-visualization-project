{
 "cells": [
  {
   "cell_type": "markdown",
   "metadata": {
    "slideshow": {
     "slide_type": "slide"
    }
   },
   "source": [
    "# Data visualization project\n",
    "## Ford GoBike analisys and visualization\n",
    "<span style=\"color:lightslategray;font-size:12px;\">By Andrés Pozuelo, May-2019</span>\n",
    "## Index\n",
    "- [What is Ford GoBike?](#whatis)\n",
    "- [Gathering data and Create a dataset](#create)\n",
    "- [Assessing Data](#asse)\n",
    "- [Cleaning Data](#clean)\n",
    "- [Answering the questions](#answer)\n",
    "- [Univariate Exploration](#uni)\n",
    "- [Bivariate Exploration](#bi)\n",
    "- [Multivariate Exploration](#multi)"
   ]
  },
  {
   "cell_type": "markdown",
   "metadata": {},
   "source": [
    "### What is Ford GoBike? <a id='whatis'></a>\n",
    "Ford GoBike is the Bay Area's bike share system. Bay Area Bike Share was introduced in 2013 as a pilot program for the region, with 700 bikes and 70 stations across San Francisco and San Jose. Once expansion is complete, Ford GoBike will grow to 7,000 bikes across San Francisco, the East Bay and San Jose.\n",
    "\n",
    "Ford GoBike, like other bike share systems, consists of a fleet of specially designed, sturdy and durable bikes that are locked into a network of docking stations throughout the city. The bikes can be unlocked from one station and returned to any other station in the system, making them ideal for one-way trips. People use bike share to commute to work or school, run errands, get to appointments or social engagements and more. It's a fun, convenient and affordable way to get around.\n",
    "\n",
    "The bikes are available for use 24 hours/day, 7 days/week, 365 days/year and riders have access to all bikes in the network when they become a member or purchase a pass."
   ]
  },
  {
   "cell_type": "markdown",
   "metadata": {},
   "source": [
    "### Gathering data and Create a dataset<a id='create'></a>"
   ]
  },
  {
   "cell_type": "code",
   "execution_count": 2,
   "metadata": {},
   "outputs": [
    {
     "ename": "ModuleNotFoundError",
     "evalue": "No module named 'plotly'",
     "output_type": "error",
     "traceback": [
      "\u001b[1;31m---------------------------------------------------------------------------\u001b[0m",
      "\u001b[1;31mModuleNotFoundError\u001b[0m                       Traceback (most recent call last)",
      "\u001b[1;32m<ipython-input-2-998ee432a01a>\u001b[0m in \u001b[0;36m<module>\u001b[1;34m()\u001b[0m\n\u001b[0;32m      5\u001b[0m \u001b[1;32mimport\u001b[0m \u001b[0mdatetime\u001b[0m\u001b[1;33m\u001b[0m\u001b[0m\n\u001b[0;32m      6\u001b[0m \u001b[1;33m\u001b[0m\u001b[0m\n\u001b[1;32m----> 7\u001b[1;33m \u001b[1;32mimport\u001b[0m \u001b[0mplotly\u001b[0m\u001b[1;33m.\u001b[0m\u001b[0mplotly\u001b[0m \u001b[1;32mas\u001b[0m \u001b[0mpy\u001b[0m\u001b[1;33m\u001b[0m\u001b[0m\n\u001b[0m\u001b[0;32m      8\u001b[0m \u001b[1;32mimport\u001b[0m \u001b[0mplotly\u001b[0m\u001b[1;33m.\u001b[0m\u001b[0mgraph_objs\u001b[0m \u001b[1;32mas\u001b[0m \u001b[0mgo\u001b[0m\u001b[1;33m\u001b[0m\u001b[0m\n\u001b[0;32m      9\u001b[0m \u001b[1;33m\u001b[0m\u001b[0m\n",
      "\u001b[1;31mModuleNotFoundError\u001b[0m: No module named 'plotly'"
     ]
    }
   ],
   "source": [
    "import numpy as np\n",
    "import pandas as pd\n",
    "import matplotlib.pyplot as plt\n",
    "import seaborn as sb\n",
    "import datetime\n",
    "\n",
    "import plotly.plotly as py\n",
    "import plotly.graph_objs as go\n",
    "\n",
    "import os\n",
    "import glob\n",
    "\n",
    "%matplotlib inline\n",
    "from matplotlib.sankey import Sankey"
   ]
  },
  {
   "cell_type": "code",
   "execution_count": null,
   "metadata": {},
   "outputs": [],
   "source": [
    "all_files = glob.glob(os.path.join('csv\\*.csv'))\n",
    "df = pd.concat((pd.read_csv(f) for f in all_files), ignore_index = True)\n",
    "#df.to_csv('gobike.csv', index=False)"
   ]
  },
  {
   "cell_type": "markdown",
   "metadata": {},
   "source": [
    "#### Original structure\n",
    "This first dataset has more than 2.7 million records in 16 columns and includes records from 2018-01-01 to 2019-09-30."
   ]
  },
  {
   "cell_type": "code",
   "execution_count": null,
   "metadata": {
    "scrolled": true
   },
   "outputs": [],
   "source": [
    "print(df['start_time'].min())\n",
    "print(df['start_time'].max())\n",
    "print(df.shape)\n",
    "print(df.dtypes)"
   ]
  },
  {
   "cell_type": "markdown",
   "metadata": {},
   "source": [
    "### Assessing data<a id='asse'></a>"
   ]
  },
  {
   "cell_type": "code",
   "execution_count": null,
   "metadata": {},
   "outputs": [],
   "source": [
    "df.sample(10)"
   ]
  },
  {
   "cell_type": "code",
   "execution_count": null,
   "metadata": {},
   "outputs": [],
   "source": [
    "df.info(null_counts=True)"
   ]
  },
  {
   "cell_type": "code",
   "execution_count": null,
   "metadata": {
    "scrolled": true
   },
   "outputs": [],
   "source": [
    "# Check duplicates\n",
    "df.duplicated().sum()"
   ]
  },
  {
   "cell_type": "code",
   "execution_count": null,
   "metadata": {},
   "outputs": [],
   "source": [
    "# It is not possible so elderly users\n",
    "print(df['member_birth_year'].min())\n",
    "print(df['member_birth_year'].max())"
   ]
  },
  {
   "cell_type": "markdown",
   "metadata": {},
   "source": [
    "**Quality issues**\n",
    " * It is not possible so elderly users\n",
    " * The start_time and end_time fields must be of the timestamp type\n",
    " * The user_type, member_gender and bike_share_for_all_trip field can be of the category type\n",
    " * Añadir columnas de año, mes, día, semana y hora"
   ]
  },
  {
   "cell_type": "markdown",
   "metadata": {},
   "source": [
    "### Cleaning Data<a id='clean'></a>"
   ]
  },
  {
   "cell_type": "code",
   "execution_count": null,
   "metadata": {},
   "outputs": [],
   "source": [
    "# Copy data\n",
    "df_clean = df.copy()"
   ]
  },
  {
   "cell_type": "markdown",
   "metadata": {},
   "source": [
    "#### Calculation of age and discarding users over 80 years"
   ]
  },
  {
   "cell_type": "code",
   "execution_count": null,
   "metadata": {},
   "outputs": [],
   "source": [
    "# create age field\n",
    "df_clean['age'] = 2019-df_clean['member_birth_year']"
   ]
  },
  {
   "cell_type": "code",
   "execution_count": null,
   "metadata": {
    "scrolled": true,
    "slideshow": {
     "slide_type": "slide"
    }
   },
   "outputs": [],
   "source": [
    "df_clean['age'].hist();"
   ]
  },
  {
   "cell_type": "code",
   "execution_count": null,
   "metadata": {},
   "outputs": [],
   "source": [
    "# Discarding users over 80 years and null values\n",
    "df_clean = df_clean.query('age <= 80')"
   ]
  },
  {
   "cell_type": "code",
   "execution_count": null,
   "metadata": {
    "slideshow": {
     "slide_type": "slide"
    }
   },
   "outputs": [],
   "source": [
    "df_clean['age'].hist();"
   ]
  },
  {
   "cell_type": "markdown",
   "metadata": {},
   "source": [
    "#### Change to timestamp type"
   ]
  },
  {
   "cell_type": "code",
   "execution_count": null,
   "metadata": {},
   "outputs": [],
   "source": [
    "df_clean.start_time = pd.to_datetime(df_clean.start_time)\n",
    "df_clean.end_time = pd.to_datetime(df_clean.end_time)"
   ]
  },
  {
   "cell_type": "code",
   "execution_count": null,
   "metadata": {
    "scrolled": true
   },
   "outputs": [],
   "source": [
    "df_clean.dtypes"
   ]
  },
  {
   "cell_type": "markdown",
   "metadata": {},
   "source": [
    "#### Can be of the category type"
   ]
  },
  {
   "cell_type": "code",
   "execution_count": null,
   "metadata": {},
   "outputs": [],
   "source": [
    "df_clean.user_type = df_clean.user_type.astype('category')\n",
    "# Desechamos Other gender\n",
    "df_clean = df_clean.query('member_gender != \"Other\"')\n",
    "df_clean.member_gender = df_clean.member_gender.astype('category')\n",
    "df_clean.bike_share_for_all_trip = df_clean.bike_share_for_all_trip.astype('category')"
   ]
  },
  {
   "cell_type": "code",
   "execution_count": null,
   "metadata": {},
   "outputs": [],
   "source": [
    "df_clean.dtypes"
   ]
  },
  {
   "cell_type": "markdown",
   "metadata": {},
   "source": [
    "#### Add columns for year, month, week, day and hour"
   ]
  },
  {
   "cell_type": "code",
   "execution_count": null,
   "metadata": {},
   "outputs": [],
   "source": [
    "# Create columns\n",
    "df_clean['start_date'] = df_clean['start_time'].dt.date\n",
    "df_clean['year']=df_clean['start_time'].dt.year.astype(int)\n",
    "df_clean['month']=df_clean['start_time'].dt.month.astype(int)\n",
    "df_clean['week']=df_clean['start_time'].dt.strftime('%a')\n",
    "df_clean['day']=df_clean['start_time'].dt.day.astype(int)\n",
    "df_clean['hour']=df_clean['start_time'].dt.hour"
   ]
  },
  {
   "cell_type": "code",
   "execution_count": null,
   "metadata": {
    "scrolled": false
   },
   "outputs": [],
   "source": [
    "df_clean.info(null_counts=True)"
   ]
  },
  {
   "cell_type": "markdown",
   "metadata": {},
   "source": [
    "#### Save the clean-master dataset"
   ]
  },
  {
   "cell_type": "code",
   "execution_count": null,
   "metadata": {},
   "outputs": [],
   "source": [
    "#df_clean.to_csv('clean_master_gobike.csv', index=False)"
   ]
  },
  {
   "cell_type": "markdown",
   "metadata": {},
   "source": [
    "### What is the structure of your dataset?<a id='answer'></a>\n",
    "The final structure has more than 2.5 million records in 21 columns where we can see:\n",
    "- The times of the journeys\n",
    "- From where and where with geolocation\n",
    "- Age, gender and type of user\n",
    "- The id of the bicycle and if it is shared for the all trip.\n",
    "\n",
    "In addition columns of **year, week, month, day and hour** have been added for a better subsequent analysis"
   ]
  },
  {
   "cell_type": "code",
   "execution_count": null,
   "metadata": {
    "scrolled": false
   },
   "outputs": [],
   "source": [
    "print(df_clean['start_time'].min())\n",
    "print(df_clean['start_time'].max())\n",
    "print(df_clean.shape)\n",
    "print(df_clean.dtypes)"
   ]
  },
  {
   "cell_type": "markdown",
   "metadata": {},
   "source": [
    "### What is/are the main feature(s) of interest in your dataset?\n",
    "\n",
    "- Initially I would like to see what is the general trend of monthly use, use by age and by gender in general terms\n",
    "- Later I would like to check the same data with the year 2019 to see the trend.\n",
    "- How many are the peak hours, the days of the week with the highest demand and if they affect the months with the lowest temperatures?\n",
    "- And above all, see the flows of users going to and from where, time, and if they repeat the same flows back hours later.\n",
    "\n",
    "### What features in the dataset do you think will help support your investigation into your feature(s) of interest?\n",
    "\n",
    "- To support my research, the dataset has geolocation and time both start and end. This would be the most important for **see the behavior of the users regarding the trips.**"
   ]
  },
  {
   "cell_type": "markdown",
   "metadata": {},
   "source": [
    "## Univariate Exploration<a id='uni'></a>\n",
    "- I will begin this exploration with the monthly use of GoBike in 2018 and 2019, by month, week and hour."
   ]
  },
  {
   "cell_type": "code",
   "execution_count": null,
   "metadata": {},
   "outputs": [],
   "source": [
    "grouped = df_clean.groupby('year')\n",
    "grouped18 = grouped.get_group(2018)\n",
    "grouped19 = grouped.get_group(2019)\n",
    "\n",
    "# week days\n",
    "weekday = ['Mon', 'Tue', 'Wed', 'Thu', 'Fri', 'Sat', 'Sun']\n",
    "\n",
    "# colors\n",
    "base_color = sb.color_palette()[0]\n",
    "colors = ['dodgerblue', 'magenta']\n",
    "\n",
    "# variables start/end station for station analisys\n",
    "startstation18 = grouped18.groupby('start_station_name')\n",
    "startstation19 = grouped19.groupby('start_station_name')\n",
    "\n",
    "endstation18 = grouped18.groupby('end_station_name')\n",
    "endstation19 = grouped19.groupby('end_station_name')"
   ]
  },
  {
   "cell_type": "code",
   "execution_count": null,
   "metadata": {
    "scrolled": false,
    "slideshow": {
     "slide_type": "slide"
    }
   },
   "outputs": [],
   "source": [
    "g = sb.catplot(data=df_clean, x='month', col=\"year\", kind='count', sharey = False,\n",
    "            color = base_color)\n",
    "g.set_axis_labels(\"Month\", \"Trips\")\n",
    "g.set_titles(\"{col_name}\")\n",
    "g.fig.suptitle('Use bike in 2018 and first 4 month by 2019 per Month', y=1.05, fontsize=12, fontweight='semibold');"
   ]
  },
  {
   "cell_type": "markdown",
   "metadata": {},
   "source": [
    "I see that in the colder and rainier months, there is less demand, being the months of May to October when users make more trips. What is very significant is the large increase in demand in 2019 if we compare the first 4 months of each year. **We can talk about a 100% increase in demand.** \n",
    "Later I will make a more detailed analysis. "
   ]
  },
  {
   "cell_type": "code",
   "execution_count": null,
   "metadata": {
    "scrolled": false,
    "slideshow": {
     "slide_type": "slide"
    }
   },
   "outputs": [],
   "source": [
    "g = sb.catplot(data=df_clean, x='week', col=\"year\", kind='count', sharey = False,\n",
    "            color = base_color, order = weekday)\n",
    "g.set_axis_labels(\"Weekday\", \"Trips\")\n",
    "g.set_titles(\"{col_name}\")\n",
    "g.fig.suptitle('Use bike in 2018 and first 4 month by 2019 per weekday', y=1.05, fontsize=12, fontweight='semibold');"
   ]
  },
  {
   "cell_type": "markdown",
   "metadata": {},
   "source": [
    "It can be seen that the usage trend per day of the week is the same in 2018 as in 2019"
   ]
  },
  {
   "cell_type": "code",
   "execution_count": null,
   "metadata": {},
   "outputs": [],
   "source": [
    "g = sb.catplot(data=df_clean, x='hour', col=\"year\", kind='count', sharey = False,\n",
    "            color = base_color)\n",
    "g.set_axis_labels(\"Hour\", \"Trips\")\n",
    "g.set_titles(\"{col_name}\")\n",
    "g.fig.suptitle('Use bike in 2018 and first 4 month by 2019 per hora', y=1.05, fontsize=12, fontweight='semibold');"
   ]
  },
  {
   "cell_type": "markdown",
   "metadata": {},
   "source": [
    "The charts for 2018 and 2019 are practically traced. Two peak hours are observed, 7 AM and 17 PM and one valley from 10 AM to 15 PM. Which leads me to think that users use BoBike to get to and from work, **and that they return from work to more people on a bike than in the outbound.**\n",
    "This may be because on the way out, people hurry more in bed and choose another means of transportation faster. However, on returning with more time, it is nice to relax while taking a walk. **This last one is very interesting and I will try to explain it later.**"
   ]
  },
  {
   "cell_type": "code",
   "execution_count": null,
   "metadata": {
    "scrolled": false
   },
   "outputs": [],
   "source": [
    "plt.figure(figsize = [15, 5])\n",
    "\n",
    "# bar\n",
    "plt.subplot(131)\n",
    "\n",
    "sb.countplot(data = df_clean, x = 'member_gender', color = base_color)\n",
    "\n",
    "# add annotations\n",
    "n_points = df_clean.shape[0]\n",
    "cat_counts = df_clean['member_gender'].value_counts()\n",
    "locs, labels = plt.xticks() # get the current tick locations and labels\n",
    "\n",
    "# loop through each pair of locations and labels\n",
    "for loc, label in zip(locs, labels):\n",
    "\n",
    "    # get the text property for the label to get the correct count\n",
    "    count = cat_counts[label.get_text()]\n",
    "    pct_string = '{:0.0f}'.format(count)\n",
    "\n",
    "    # print the annotation just below the top of the bar\n",
    "    plt.text(loc, count-100000, pct_string, ha = 'center', color = 'w')\n",
    "\n",
    "# age\n",
    "plt.subplot(132)\n",
    "sb.boxplot(data=df_clean, x='age', color=base_color)\n",
    "\n",
    "# calculating male and female\n",
    "plt.subplot(133)\n",
    "\n",
    "male = df_clean.query('member_gender == \"Male\"')['bike_id'].count()\n",
    "female = df_clean.query('member_gender == \"Female\"')['bike_id'].count()\n",
    "\n",
    "labels = ['Male', 'Female']\n",
    "sizes = [male, female]\n",
    "explode = (0, 0.1)\n",
    "\n",
    "plt.pie(sizes, explode=explode, labels=labels, colors = colors,\n",
    "        autopct='%1.1f%%', shadow=True, startangle=90)\n",
    "plt.axis('equal')\n",
    "\n",
    "plt.suptitle('Gender and Age', y=1.03, fontsize=12, fontweight='semibold');"
   ]
  },
  {
   "cell_type": "markdown",
   "metadata": {},
   "source": [
    "We verified how there is a greater number of male users and that the majority are between 30 and 40 years old."
   ]
  },
  {
   "cell_type": "markdown",
   "metadata": {},
   "source": [
    "## Bivariate Exploration<a id='bi'></a>\n",
    "\n",
    "- Total by gender and age\n",
    "- Total by type of user and month"
   ]
  },
  {
   "cell_type": "code",
   "execution_count": null,
   "metadata": {
    "scrolled": false
   },
   "outputs": [],
   "source": [
    "plt.figure(figsize = [15, 5])\n",
    "\n",
    "plt.subplot(121)\n",
    "sb.violinplot(data = df_clean, x = 'member_gender', y = 'age')\n",
    "\n",
    "plt.subplot(122)\n",
    "sb.violinplot(data = df_clean, x = 'month', y = 'user_type');"
   ]
  },
  {
   "cell_type": "markdown",
   "metadata": {},
   "source": [
    "We verify that the average age is practically the same in both genders and that the months with the highest number of users are in the first 4 months of the year."
   ]
  },
  {
   "cell_type": "markdown",
   "metadata": {},
   "source": [
    "## Multivariate Exploration<a id='multi'></a>\n",
    "\n",
    "I'm going to create datasets with new groupings to check the behavior in terms of schedules and paths of the users. "
   ]
  },
  {
   "cell_type": "code",
   "execution_count": null,
   "metadata": {
    "scrolled": false
   },
   "outputs": [],
   "source": [
    "# I'll just stay with the 20 most repeated trips\n",
    "df_flujo = df_clean[['start_station_id', 'end_station_id', 'bike_id', 'start_station_name', 'start_station_longitude', 'start_station_latitude', 'end_station_name',\n",
    "          'end_station_longitude', 'end_station_latitude', 'hour']]\n",
    "ida = df_flujo.groupby(['hour', 'start_station_id', 'start_station_name', 'start_station_longitude'\n",
    "                        , 'start_station_latitude'])['bike_id'].count()\n",
    "vuelta = df_flujo.groupby(['hour', 'end_station_id', 'end_station_name', 'end_station_longitude'\n",
    "                        , 'end_station_latitude'])['bike_id'].count()\n",
    "\n",
    "gr_trips = df_flujo.groupby(['hour'\n",
    ", 'start_station_id', 'start_station_name', 'start_station_longitude', 'start_station_latitude'\n",
    ", 'end_station_id', 'end_station_name', 'end_station_longitude', 'end_station_latitude'])['bike_id'].count()\n",
    "\n",
    "df_trips=gr_trips.sort_values(ascending=False).head(20).to_frame()\n",
    "\n",
    "df_trips.columns = [''.join(col).strip() for col in df_trips.columns.values]\n",
    "df_trips = df_trips.reset_index()\n",
    "df_trips.info()"
   ]
  },
  {
   "cell_type": "code",
   "execution_count": null,
   "metadata": {
    "scrolled": true
   },
   "outputs": [],
   "source": [
    "df_trips.head()"
   ]
  },
  {
   "cell_type": "markdown",
   "metadata": {},
   "source": [
    "#### I check that the trips are usually round trip from work"
   ]
  },
  {
   "cell_type": "code",
   "execution_count": null,
   "metadata": {},
   "outputs": [],
   "source": [
    "s = df_trips.hour < 10 # ida\n",
    "v = df_trips.hour > 10 # vuelta\n",
    "df_ida = df_trips.where(s)\n",
    "df_vuelta = df_trips.where(v)\n",
    "df_ida = df_ida.dropna()\n",
    "df_vuelta = df_vuelta.dropna()"
   ]
  },
  {
   "cell_type": "code",
   "execution_count": null,
   "metadata": {},
   "outputs": [],
   "source": [
    "df_ida = df_ida.sort_values(by=['hour', 'bike_id'], ascending=[True,False])\n",
    "df_ida = df_ida.rename(index=str, columns={\"start_station_name\": \"source\", \"end_station_name\": \"target\", \n",
    "                                           \"bike_id\": \"value\"})\n",
    "\n",
    "df_vuelta = df_vuelta.sort_values(by=['hour', 'bike_id'], ascending=[True,False])\n",
    "df_vuelta = df_vuelta.rename(index=str, columns={\"start_station_name\": \"source\", \"end_station_name\": \"target\", \n",
    "                                           \"bike_id\": \"value\"})"
   ]
  },
  {
   "cell_type": "code",
   "execution_count": null,
   "metadata": {
    "scrolled": true
   },
   "outputs": [],
   "source": [
    "print(df_ida.info())\n",
    "print(df_vuelta.info())"
   ]
  },
  {
   "cell_type": "code",
   "execution_count": null,
   "metadata": {
    "scrolled": false
   },
   "outputs": [],
   "source": [
    "plt.figure(figsize = [15, 5])\n",
    "# bar\n",
    "plt.subplot(121)\n",
    "sb.countplot(data = df_ida, x = 'hour', color = base_color)\n",
    "plt.subplot(122)\n",
    "sb.countplot(data = df_vuelta, x = 'hour', color = base_color);"
   ]
  },
  {
   "cell_type": "markdown",
   "metadata": {},
   "source": [
    "#### We see how three schedules are repeated, one way and the other back. We can affirm that the 7 correspond to the 16, the 8 to the 17 and the 9 to the 18.\n",
    "\n",
    "#### We can also check that more users are returning than they are, less after 18.\n",
    "\n",
    "#### I conclude that if the return is later than 17, less users return than they are."
   ]
  },
  {
   "cell_type": "code",
   "execution_count": null,
   "metadata": {},
   "outputs": [],
   "source": [
    "from ipysankeywidget import SankeyWidget\n",
    "from ipywidgets import Layout"
   ]
  },
  {
   "cell_type": "code",
   "execution_count": null,
   "metadata": {},
   "outputs": [],
   "source": [
    "layout = Layout(width=\"800\", height=\"400\")\n",
    "def sankey(margin_top=10, **value):\n",
    "    \"\"\"Show SankeyWidget with default values for size and margins\"\"\"\n",
    "    return SankeyWidget(layout=layout,\n",
    "                        margins=dict(top=margin_top, bottom=0, left=200, right=200),\n",
    "                        **value)"
   ]
  },
  {
   "cell_type": "code",
   "execution_count": null,
   "metadata": {
    "scrolled": true
   },
   "outputs": [],
   "source": [
    "links_ida = [\n",
    "    {'source': '7:00 Bay Pl at Vernon St', 'target': '19th Street BART Station', 'value': '904', 'type': 'a'},\n",
    "    {'source': '8:00 Market St at 4th St', 'target': '4th St at Harrison St', 'value': '938', 'type': 'c'},\n",
    "    {'source': '8:00 Market St at 5th St', 'target': '5th St at Brannan St', 'value': '939', 'type': 'd'},\n",
    "    {'source': '8:00 Bay Pl at Vernon St', 'target': '19th Street BART Station', 'value': '1089', 'type': 'a'},\n",
    "    {'source': '8:00 Steuart St at Market St', 'target': 'The Embarcadero at Sansome St', 'value': '1291', 'type': 'b'},\n",
    "    {'source': '8:00 Harry Bridges', 'target': 'The Embarcadero at Sansome St', 'value': '1420', 'type': 'b'},\n",
    "    {'source': '8:00 Grand Ave at Perkins St', 'target': '19th Street BART Station', 'value': '1673', 'type': 'a'},\n",
    "    {'source': '9:00 Berry St at 4th St', 'target': 'Howard St at Beale St', 'value': '944', 'type': 'f'},\n",
    "    {'source': '9:00 Grand Ave at Perkins St', 'target': '19th Street BART Station', 'value': '1151', 'type': 'a'},\n",
    "]\n",
    "links_vuelta = [\n",
    "    {'source': '16:00 The Embarcadero', 'target': 'Steuart St', 'value': '1090', 'type': 'a'},\n",
    "    {'source': '16:00 The Embarcadero', 'target': 'San Francisco Ferry', 'value': '922', 'type': 'b'},\n",
    "    {'source': '17:00 The Embarcadero', 'target': 'Steuart St', 'value': '1539', 'type': 'a'},\n",
    "    {'source': '17:00 Berry St at 4th St', 'target': 'San Francisco Ferry', 'value': '1344', 'type': 'b'},\n",
    "    {'source': '17:00 19th Street BART Station', 'target': 'Grand Ave', 'value': '1238', 'type': 'c'},\n",
    "    {'source': '17:00 Division St at Potrero Ave', 'target': 'San Francisco Caltrain', 'value': '1420', 'type': 'd'},\n",
    "    {'source': '17:00 Berry St at 5th St', 'target': 'San Francisco Ferry', 'value': '1138', 'type': 'b'},\n",
    "    {'source': '17:00 Montgomery St BART ', 'target': 'San Francisco Caltrain', 'value': '917', 'type': 'd'},\n",
    "    {'source': '17:00 Market St', 'target': 'San Francisco Caltrain', 'value': '900', 'type': 'd'},\n",
    "    {'source': '18:00 19th Street', 'target': 'Grand Ave', 'value': '1164', 'type': 'c'},\n",
    "]"
   ]
  },
  {
   "cell_type": "code",
   "execution_count": null,
   "metadata": {
    "scrolled": true
   },
   "outputs": [],
   "source": [
    "sankey(links=links_ida, linkLabelFormat='.1f')"
   ]
  },
  {
   "attachments": {},
   "cell_type": "markdown",
   "metadata": {},
   "source": [
    "<img src=\"ida.png\">"
   ]
  },
  {
   "cell_type": "markdown",
   "metadata": {},
   "source": [
    "#### In this graph we can see where the users are going most. Normanly it will be your job."
   ]
  },
  {
   "cell_type": "code",
   "execution_count": null,
   "metadata": {
    "scrolled": false
   },
   "outputs": [],
   "source": [
    "sankey(links=links_vuelta, linkLabelFormat='.1f')"
   ]
  },
  {
   "attachments": {},
   "cell_type": "markdown",
   "metadata": {},
   "source": [
    "<img src=\"vuelta.png\">"
   ]
  },
  {
   "cell_type": "markdown",
   "metadata": {},
   "source": [
    "#### And this is where they come from."
   ]
  },
  {
   "cell_type": "markdown",
   "metadata": {},
   "source": [
    "### Final analysis:\n",
    "\n",
    "As more significant results I would highlight:\n",
    "- In 2019 there is an increase of approximately 100% in GoBike users.\n",
    "- The use of GoBike by men is much higher, but their age is similar, between 30 and 40 years of age.\n",
    "- Its use is greater than 7:00 a.m. to 10:00 p.m. and from 4:00 p.m. to 7:00 p.m., which suggests that it is to go to and from work.\n",
    "- We can also observe that more users are returning than they are. This is because in the morning most of the users go in another means of transport faster, but take the opportunity to return to GoBike.\n",
    "- If the return is to occur after 18:00, the effect is the opposite, fewer people return than they were.\n",
    "- Finally, the flow of people are reduced in few destinations. Possibly because that's where the jobs are."
   ]
  },
  {
   "cell_type": "code",
   "execution_count": null,
   "metadata": {},
   "outputs": [],
   "source": []
  }
 ],
 "metadata": {
  "kernelspec": {
   "display_name": "Python 3",
   "language": "python",
   "name": "python3"
  },
  "language_info": {
   "codemirror_mode": {
    "name": "ipython",
    "version": 3
   },
   "file_extension": ".py",
   "mimetype": "text/x-python",
   "name": "python",
   "nbconvert_exporter": "python",
   "pygments_lexer": "ipython3",
   "version": "3.7.0"
  }
 },
 "nbformat": 4,
 "nbformat_minor": 2
}
