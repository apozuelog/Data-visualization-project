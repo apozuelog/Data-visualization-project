{
 "cells": [
  {
   "cell_type": "markdown",
   "metadata": {},
   "source": [
    "# Data visualization project\n",
    "## Ford GoBike analisys and visualization\n",
    "<span style=\"color:lightslategray;font-size:12px;\">By Andrés Pozuelo, May-2019</span>\n",
    "## Index\n",
    "- [What is Ford GoBike?](#whatis)\n",
    "- [Gathering data and Create a dataset](#create)\n",
    "- [Assessing Data](#asse)\n",
    "- [Cleaning Data](#clean)\n",
    "- [Answering the questions](#answer)\n",
    "- [Univariate Exploration](#uni)\n",
    "- [Bivariate Exploration](#bi)\n",
    "- [Multivariate Exploration](#multi)"
   ]
  },
  {
   "cell_type": "markdown",
   "metadata": {},
   "source": [
    "### What is Ford GoBike? <a id='whatis'></a>\n",
    "Ford GoBike is the Bay Area's bike share system. Bay Area Bike Share was introduced in 2013 as a pilot program for the region, with 700 bikes and 70 stations across San Francisco and San Jose. Once expansion is complete, Ford GoBike will grow to 7,000 bikes across San Francisco, the East Bay and San Jose.\n",
    "\n",
    "Ford GoBike, like other bike share systems, consists of a fleet of specially designed, sturdy and durable bikes that are locked into a network of docking stations throughout the city. The bikes can be unlocked from one station and returned to any other station in the system, making them ideal for one-way trips. People use bike share to commute to work or school, run errands, get to appointments or social engagements and more. It's a fun, convenient and affordable way to get around.\n",
    "\n",
    "The bikes are available for use 24 hours/day, 7 days/week, 365 days/year and riders have access to all bikes in the network when they become a member or purchase a pass."
   ]
  },
  {
   "cell_type": "markdown",
   "metadata": {},
   "source": [
    "### Gathering data and Create a dataset<a id='create'></a>"
   ]
  },
  {
   "cell_type": "code",
   "execution_count": 125,
   "metadata": {},
   "outputs": [],
   "source": [
    "import numpy as np\n",
    "import pandas as pd\n",
    "import matplotlib.pyplot as plt\n",
    "import seaborn as sb\n",
    "import datetime\n",
    "\n",
    "import os\n",
    "import glob\n",
    "\n",
    "%matplotlib inline\n",
    "from matplotlib.sankey import Sankey"
   ]
  },
  {
   "cell_type": "code",
   "execution_count": 2,
   "metadata": {},
   "outputs": [],
   "source": [
    "all_files = glob.glob(os.path.join('csv\\*.csv'))\n",
    "df = pd.concat((pd.read_csv(f) for f in all_files), ignore_index = True)\n",
    "#df.to_csv('gobike.csv', index=False)"
   ]
  },
  {
   "cell_type": "markdown",
   "metadata": {},
   "source": [
    "#### Original structure\n",
    "This first dataset has more than 2.7 million records in 16 columns and includes records from 2018-01-01 to 2019-09-30."
   ]
  },
  {
   "cell_type": "code",
   "execution_count": 3,
   "metadata": {
    "scrolled": true
   },
   "outputs": [
    {
     "name": "stdout",
     "output_type": "stream",
     "text": [
      "2018-01-01 00:01:53.8470\n",
      "2019-04-30 23:59:04.7390\n",
      "(2734625, 16)\n",
      "duration_sec                 int64\n",
      "start_time                  object\n",
      "end_time                    object\n",
      "start_station_id           float64\n",
      "start_station_name          object\n",
      "start_station_latitude     float64\n",
      "start_station_longitude    float64\n",
      "end_station_id             float64\n",
      "end_station_name            object\n",
      "end_station_latitude       float64\n",
      "end_station_longitude      float64\n",
      "bike_id                      int64\n",
      "user_type                   object\n",
      "member_birth_year          float64\n",
      "member_gender               object\n",
      "bike_share_for_all_trip     object\n",
      "dtype: object\n"
     ]
    }
   ],
   "source": [
    "print(df['start_time'].min())\n",
    "print(df['start_time'].max())\n",
    "print(df.shape)\n",
    "print(df.dtypes)"
   ]
  },
  {
   "cell_type": "markdown",
   "metadata": {},
   "source": [
    "### Assessing data<a id='asse'></a>"
   ]
  },
  {
   "cell_type": "code",
   "execution_count": 4,
   "metadata": {},
   "outputs": [
    {
     "data": {
      "text/html": [
       "<div>\n",
       "<style scoped>\n",
       "    .dataframe tbody tr th:only-of-type {\n",
       "        vertical-align: middle;\n",
       "    }\n",
       "\n",
       "    .dataframe tbody tr th {\n",
       "        vertical-align: top;\n",
       "    }\n",
       "\n",
       "    .dataframe thead th {\n",
       "        text-align: right;\n",
       "    }\n",
       "</style>\n",
       "<table border=\"1\" class=\"dataframe\">\n",
       "  <thead>\n",
       "    <tr style=\"text-align: right;\">\n",
       "      <th></th>\n",
       "      <th>duration_sec</th>\n",
       "      <th>start_time</th>\n",
       "      <th>end_time</th>\n",
       "      <th>start_station_id</th>\n",
       "      <th>start_station_name</th>\n",
       "      <th>start_station_latitude</th>\n",
       "      <th>start_station_longitude</th>\n",
       "      <th>end_station_id</th>\n",
       "      <th>end_station_name</th>\n",
       "      <th>end_station_latitude</th>\n",
       "      <th>end_station_longitude</th>\n",
       "      <th>bike_id</th>\n",
       "      <th>user_type</th>\n",
       "      <th>member_birth_year</th>\n",
       "      <th>member_gender</th>\n",
       "      <th>bike_share_for_all_trip</th>\n",
       "    </tr>\n",
       "  </thead>\n",
       "  <tbody>\n",
       "    <tr>\n",
       "      <th>449208</th>\n",
       "      <td>227</td>\n",
       "      <td>2018-05-31 09:24:12.5300</td>\n",
       "      <td>2018-05-31 09:27:59.6760</td>\n",
       "      <td>17.0</td>\n",
       "      <td>Embarcadero BART Station (Beale St at Market St)</td>\n",
       "      <td>37.792251</td>\n",
       "      <td>-122.397086</td>\n",
       "      <td>27.0</td>\n",
       "      <td>Beale St at Harrison St</td>\n",
       "      <td>37.788059</td>\n",
       "      <td>-122.391865</td>\n",
       "      <td>3732</td>\n",
       "      <td>Subscriber</td>\n",
       "      <td>1962.0</td>\n",
       "      <td>Male</td>\n",
       "      <td>No</td>\n",
       "    </tr>\n",
       "    <tr>\n",
       "      <th>1024550</th>\n",
       "      <td>381</td>\n",
       "      <td>2018-08-30 22:56:19.6200</td>\n",
       "      <td>2018-08-30 23:02:41.4210</td>\n",
       "      <td>175.0</td>\n",
       "      <td>49th St at Telegraph Ave</td>\n",
       "      <td>37.835946</td>\n",
       "      <td>-122.262366</td>\n",
       "      <td>212.0</td>\n",
       "      <td>Mosswood Park</td>\n",
       "      <td>37.824931</td>\n",
       "      <td>-122.260479</td>\n",
       "      <td>585</td>\n",
       "      <td>Subscriber</td>\n",
       "      <td>1987.0</td>\n",
       "      <td>Male</td>\n",
       "      <td>No</td>\n",
       "    </tr>\n",
       "    <tr>\n",
       "      <th>2680711</th>\n",
       "      <td>262</td>\n",
       "      <td>2019-04-06 16:05:26.0000</td>\n",
       "      <td>2019-04-06 16:09:48.4140</td>\n",
       "      <td>284.0</td>\n",
       "      <td>Yerba Buena Center for the Arts (Howard St at ...</td>\n",
       "      <td>37.784872</td>\n",
       "      <td>-122.400876</td>\n",
       "      <td>349.0</td>\n",
       "      <td>Howard St at Mary St</td>\n",
       "      <td>37.781010</td>\n",
       "      <td>-122.405666</td>\n",
       "      <td>1423</td>\n",
       "      <td>Subscriber</td>\n",
       "      <td>1988.0</td>\n",
       "      <td>Female</td>\n",
       "      <td>No</td>\n",
       "    </tr>\n",
       "    <tr>\n",
       "      <th>1512706</th>\n",
       "      <td>594</td>\n",
       "      <td>2018-10-13 16:50:10.4870</td>\n",
       "      <td>2018-10-13 17:00:05.1090</td>\n",
       "      <td>43.0</td>\n",
       "      <td>San Francisco Public Library (Grove St at Hyde...</td>\n",
       "      <td>37.778768</td>\n",
       "      <td>-122.415929</td>\n",
       "      <td>31.0</td>\n",
       "      <td>Raymond Kimbell Playground</td>\n",
       "      <td>37.783813</td>\n",
       "      <td>-122.434559</td>\n",
       "      <td>4335</td>\n",
       "      <td>Subscriber</td>\n",
       "      <td>1984.0</td>\n",
       "      <td>Male</td>\n",
       "      <td>No</td>\n",
       "    </tr>\n",
       "    <tr>\n",
       "      <th>2543142</th>\n",
       "      <td>997</td>\n",
       "      <td>2019-04-23 17:38:44.7380</td>\n",
       "      <td>2019-04-23 17:55:22.6780</td>\n",
       "      <td>27.0</td>\n",
       "      <td>Beale St at Harrison St</td>\n",
       "      <td>37.788059</td>\n",
       "      <td>-122.391865</td>\n",
       "      <td>355.0</td>\n",
       "      <td>23rd St at Tennessee St</td>\n",
       "      <td>37.755367</td>\n",
       "      <td>-122.388795</td>\n",
       "      <td>1205</td>\n",
       "      <td>Subscriber</td>\n",
       "      <td>1991.0</td>\n",
       "      <td>Male</td>\n",
       "      <td>No</td>\n",
       "    </tr>\n",
       "    <tr>\n",
       "      <th>1138343</th>\n",
       "      <td>1369</td>\n",
       "      <td>2018-08-12 16:04:18.6970</td>\n",
       "      <td>2018-08-12 16:27:07.7150</td>\n",
       "      <td>50.0</td>\n",
       "      <td>2nd St at Townsend St</td>\n",
       "      <td>37.780526</td>\n",
       "      <td>-122.390288</td>\n",
       "      <td>21.0</td>\n",
       "      <td>Montgomery St BART Station (Market St at 2nd St)</td>\n",
       "      <td>37.789625</td>\n",
       "      <td>-122.400811</td>\n",
       "      <td>1260</td>\n",
       "      <td>Customer</td>\n",
       "      <td>1992.0</td>\n",
       "      <td>Male</td>\n",
       "      <td>No</td>\n",
       "    </tr>\n",
       "    <tr>\n",
       "      <th>429963</th>\n",
       "      <td>104</td>\n",
       "      <td>2018-04-04 09:06:12.9360</td>\n",
       "      <td>2018-04-04 09:07:57.2890</td>\n",
       "      <td>243.0</td>\n",
       "      <td>Bancroft Way at College Ave</td>\n",
       "      <td>37.869360</td>\n",
       "      <td>-122.254337</td>\n",
       "      <td>239.0</td>\n",
       "      <td>Bancroft Way at Telegraph Ave</td>\n",
       "      <td>37.868813</td>\n",
       "      <td>-122.258764</td>\n",
       "      <td>1129</td>\n",
       "      <td>Subscriber</td>\n",
       "      <td>1994.0</td>\n",
       "      <td>Male</td>\n",
       "      <td>Yes</td>\n",
       "    </tr>\n",
       "    <tr>\n",
       "      <th>2213067</th>\n",
       "      <td>911</td>\n",
       "      <td>2019-02-05 23:18:50.5550</td>\n",
       "      <td>2019-02-05 23:34:02.1320</td>\n",
       "      <td>308.0</td>\n",
       "      <td>San Pedro Square</td>\n",
       "      <td>37.336802</td>\n",
       "      <td>-121.894090</td>\n",
       "      <td>297.0</td>\n",
       "      <td>Locust St at Grant St</td>\n",
       "      <td>37.322980</td>\n",
       "      <td>-121.887931</td>\n",
       "      <td>2737</td>\n",
       "      <td>Subscriber</td>\n",
       "      <td>1976.0</td>\n",
       "      <td>Female</td>\n",
       "      <td>Yes</td>\n",
       "    </tr>\n",
       "    <tr>\n",
       "      <th>2063793</th>\n",
       "      <td>928</td>\n",
       "      <td>2019-02-28 08:33:10.6560</td>\n",
       "      <td>2019-02-28 08:48:39.3700</td>\n",
       "      <td>78.0</td>\n",
       "      <td>Folsom St at 9th St</td>\n",
       "      <td>37.773717</td>\n",
       "      <td>-122.411647</td>\n",
       "      <td>11.0</td>\n",
       "      <td>Davis St at Jackson St</td>\n",
       "      <td>37.797280</td>\n",
       "      <td>-122.398436</td>\n",
       "      <td>4834</td>\n",
       "      <td>Subscriber</td>\n",
       "      <td>1989.0</td>\n",
       "      <td>Male</td>\n",
       "      <td>No</td>\n",
       "    </tr>\n",
       "    <tr>\n",
       "      <th>838021</th>\n",
       "      <td>726</td>\n",
       "      <td>2018-07-28 18:59:47.5710</td>\n",
       "      <td>2018-07-28 19:11:54.5150</td>\n",
       "      <td>100.0</td>\n",
       "      <td>Bryant St at 15th St</td>\n",
       "      <td>37.767100</td>\n",
       "      <td>-122.410662</td>\n",
       "      <td>33.0</td>\n",
       "      <td>Golden Gate Ave at Hyde St</td>\n",
       "      <td>37.781650</td>\n",
       "      <td>-122.415408</td>\n",
       "      <td>2957</td>\n",
       "      <td>Subscriber</td>\n",
       "      <td>1989.0</td>\n",
       "      <td>Male</td>\n",
       "      <td>No</td>\n",
       "    </tr>\n",
       "  </tbody>\n",
       "</table>\n",
       "</div>"
      ],
      "text/plain": [
       "         duration_sec                start_time                  end_time  \\\n",
       "449208            227  2018-05-31 09:24:12.5300  2018-05-31 09:27:59.6760   \n",
       "1024550           381  2018-08-30 22:56:19.6200  2018-08-30 23:02:41.4210   \n",
       "2680711           262  2019-04-06 16:05:26.0000  2019-04-06 16:09:48.4140   \n",
       "1512706           594  2018-10-13 16:50:10.4870  2018-10-13 17:00:05.1090   \n",
       "2543142           997  2019-04-23 17:38:44.7380  2019-04-23 17:55:22.6780   \n",
       "1138343          1369  2018-08-12 16:04:18.6970  2018-08-12 16:27:07.7150   \n",
       "429963            104  2018-04-04 09:06:12.9360  2018-04-04 09:07:57.2890   \n",
       "2213067           911  2019-02-05 23:18:50.5550  2019-02-05 23:34:02.1320   \n",
       "2063793           928  2019-02-28 08:33:10.6560  2019-02-28 08:48:39.3700   \n",
       "838021            726  2018-07-28 18:59:47.5710  2018-07-28 19:11:54.5150   \n",
       "\n",
       "         start_station_id                                 start_station_name  \\\n",
       "449208               17.0   Embarcadero BART Station (Beale St at Market St)   \n",
       "1024550             175.0                           49th St at Telegraph Ave   \n",
       "2680711             284.0  Yerba Buena Center for the Arts (Howard St at ...   \n",
       "1512706              43.0  San Francisco Public Library (Grove St at Hyde...   \n",
       "2543142              27.0                            Beale St at Harrison St   \n",
       "1138343              50.0                              2nd St at Townsend St   \n",
       "429963              243.0                        Bancroft Way at College Ave   \n",
       "2213067             308.0                                   San Pedro Square   \n",
       "2063793              78.0                                Folsom St at 9th St   \n",
       "838021              100.0                               Bryant St at 15th St   \n",
       "\n",
       "         start_station_latitude  start_station_longitude  end_station_id  \\\n",
       "449208                37.792251              -122.397086            27.0   \n",
       "1024550               37.835946              -122.262366           212.0   \n",
       "2680711               37.784872              -122.400876           349.0   \n",
       "1512706               37.778768              -122.415929            31.0   \n",
       "2543142               37.788059              -122.391865           355.0   \n",
       "1138343               37.780526              -122.390288            21.0   \n",
       "429963                37.869360              -122.254337           239.0   \n",
       "2213067               37.336802              -121.894090           297.0   \n",
       "2063793               37.773717              -122.411647            11.0   \n",
       "838021                37.767100              -122.410662            33.0   \n",
       "\n",
       "                                         end_station_name  \\\n",
       "449208                            Beale St at Harrison St   \n",
       "1024550                                     Mosswood Park   \n",
       "2680711                              Howard St at Mary St   \n",
       "1512706                        Raymond Kimbell Playground   \n",
       "2543142                           23rd St at Tennessee St   \n",
       "1138343  Montgomery St BART Station (Market St at 2nd St)   \n",
       "429963                      Bancroft Way at Telegraph Ave   \n",
       "2213067                             Locust St at Grant St   \n",
       "2063793                            Davis St at Jackson St   \n",
       "838021                         Golden Gate Ave at Hyde St   \n",
       "\n",
       "         end_station_latitude  end_station_longitude  bike_id   user_type  \\\n",
       "449208              37.788059            -122.391865     3732  Subscriber   \n",
       "1024550             37.824931            -122.260479      585  Subscriber   \n",
       "2680711             37.781010            -122.405666     1423  Subscriber   \n",
       "1512706             37.783813            -122.434559     4335  Subscriber   \n",
       "2543142             37.755367            -122.388795     1205  Subscriber   \n",
       "1138343             37.789625            -122.400811     1260    Customer   \n",
       "429963              37.868813            -122.258764     1129  Subscriber   \n",
       "2213067             37.322980            -121.887931     2737  Subscriber   \n",
       "2063793             37.797280            -122.398436     4834  Subscriber   \n",
       "838021              37.781650            -122.415408     2957  Subscriber   \n",
       "\n",
       "         member_birth_year member_gender bike_share_for_all_trip  \n",
       "449208              1962.0          Male                      No  \n",
       "1024550             1987.0          Male                      No  \n",
       "2680711             1988.0        Female                      No  \n",
       "1512706             1984.0          Male                      No  \n",
       "2543142             1991.0          Male                      No  \n",
       "1138343             1992.0          Male                      No  \n",
       "429963              1994.0          Male                     Yes  \n",
       "2213067             1976.0        Female                     Yes  \n",
       "2063793             1989.0          Male                      No  \n",
       "838021              1989.0          Male                      No  "
      ]
     },
     "execution_count": 4,
     "metadata": {},
     "output_type": "execute_result"
    }
   ],
   "source": [
    "df.sample(10)"
   ]
  },
  {
   "cell_type": "code",
   "execution_count": 5,
   "metadata": {},
   "outputs": [
    {
     "name": "stdout",
     "output_type": "stream",
     "text": [
      "<class 'pandas.core.frame.DataFrame'>\n",
      "RangeIndex: 2734625 entries, 0 to 2734624\n",
      "Data columns (total 16 columns):\n",
      "duration_sec               2734625 non-null int64\n",
      "start_time                 2734625 non-null object\n",
      "end_time                   2734625 non-null object\n",
      "start_station_id           2722124 non-null float64\n",
      "start_station_name         2722124 non-null object\n",
      "start_station_latitude     2734625 non-null float64\n",
      "start_station_longitude    2734625 non-null float64\n",
      "end_station_id             2722124 non-null float64\n",
      "end_station_name           2722124 non-null object\n",
      "end_station_latitude       2734625 non-null float64\n",
      "end_station_longitude      2734625 non-null float64\n",
      "bike_id                    2734625 non-null int64\n",
      "user_type                  2734625 non-null object\n",
      "member_birth_year          2583000 non-null float64\n",
      "member_gender              2583354 non-null object\n",
      "bike_share_for_all_trip    2734625 non-null object\n",
      "dtypes: float64(7), int64(2), object(7)\n",
      "memory usage: 333.8+ MB\n"
     ]
    }
   ],
   "source": [
    "df.info(null_counts=True)"
   ]
  },
  {
   "cell_type": "code",
   "execution_count": 6,
   "metadata": {
    "scrolled": true
   },
   "outputs": [
    {
     "data": {
      "text/plain": [
       "0"
      ]
     },
     "execution_count": 6,
     "metadata": {},
     "output_type": "execute_result"
    }
   ],
   "source": [
    "# Check duplicates\n",
    "df.duplicated().sum()"
   ]
  },
  {
   "cell_type": "code",
   "execution_count": 7,
   "metadata": {},
   "outputs": [
    {
     "name": "stdout",
     "output_type": "stream",
     "text": [
      "1878.0\n",
      "2001.0\n"
     ]
    }
   ],
   "source": [
    "# It is not possible so elderly users\n",
    "print(df['member_birth_year'].min())\n",
    "print(df['member_birth_year'].max())"
   ]
  },
  {
   "cell_type": "markdown",
   "metadata": {},
   "source": [
    "**Quality issues**\n",
    " * It is not possible so elderly users\n",
    " * The start_time and end_time fields must be of the timestamp type\n",
    " * The user_type, member_gender and bike_share_for_all_trip field can be of the category type\n",
    " * Añadir columnas de año, mes, día, semana y hora"
   ]
  },
  {
   "cell_type": "markdown",
   "metadata": {},
   "source": [
    "### Cleaning Data<a id='clean'></a>"
   ]
  },
  {
   "cell_type": "code",
   "execution_count": 60,
   "metadata": {},
   "outputs": [],
   "source": [
    "# Copy data\n",
    "df_clean = df.copy()"
   ]
  },
  {
   "cell_type": "markdown",
   "metadata": {},
   "source": [
    "#### Calculation of age and discarding users over 80 years"
   ]
  },
  {
   "cell_type": "code",
   "execution_count": 61,
   "metadata": {},
   "outputs": [],
   "source": [
    "# create age field\n",
    "df_clean['age'] = 2019-df_clean['member_birth_year']"
   ]
  },
  {
   "cell_type": "code",
   "execution_count": 62,
   "metadata": {
    "scrolled": true
   },
   "outputs": [
    {
     "data": {
      "image/png": "[encoded data removed]",
      "text/plain": [
       "<Figure size 432x288 with 1 Axes>"
      ]
     },
     "metadata": {
      "needs_background": "light"
     },
     "output_type": "display_data"
    }
   ],
   "source": [
    "df_clean['age'].hist();"
   ]
  },
  {
   "cell_type": "code",
   "execution_count": 63,
   "metadata": {},
   "outputs": [],
   "source": [
    "# Discarding users over 80 years and null values\n",
    "df_clean = df_clean.query('age <= 80')"
   ]
  },
  {
   "cell_type": "code",
   "execution_count": 64,
   "metadata": {},
   "outputs": [
    {
     "data": {
      "image/png": "[encoded data removed]",
      "text/plain": [
       "<Figure size 432x288 with 1 Axes>"
      ]
     },
     "metadata": {
      "needs_background": "light"
     },
     "output_type": "display_data"
    }
   ],
   "source": [
    "df_clean['age'].hist();"
   ]
  },
  {
   "cell_type": "markdown",
   "metadata": {},
   "source": [
    "#### Change to timestamp type"
   ]
  },
  {
   "cell_type": "code",
   "execution_count": 65,
   "metadata": {},
   "outputs": [],
   "source": [
    "df_clean.start_time = pd.to_datetime(df_clean.start_time)\n",
    "df_clean.end_time = pd.to_datetime(df_clean.end_time)"
   ]
  },
  {
   "cell_type": "code",
   "execution_count": 66,
   "metadata": {
    "scrolled": true
   },
   "outputs": [
    {
     "data": {
      "text/plain": [
       "duration_sec                        int64\n",
       "start_time                 datetime64[ns]\n",
       "end_time                   datetime64[ns]\n",
       "start_station_id                  float64\n",
       "start_station_name                 object\n",
       "start_station_latitude            float64\n",
       "start_station_longitude           float64\n",
       "end_station_id                    float64\n",
       "end_station_name                   object\n",
       "end_station_latitude              float64\n",
       "end_station_longitude             float64\n",
       "bike_id                             int64\n",
       "user_type                          object\n",
       "member_birth_year                 float64\n",
       "member_gender                      object\n",
       "bike_share_for_all_trip            object\n",
       "age                               float64\n",
       "dtype: object"
      ]
     },
     "execution_count": 66,
     "metadata": {},
     "output_type": "execute_result"
    }
   ],
   "source": [
    "df_clean.dtypes"
   ]
  },
  {
   "cell_type": "markdown",
   "metadata": {},
   "source": [
    "#### Can be of the category type"
   ]
  },
  {
   "cell_type": "code",
   "execution_count": 71,
   "metadata": {},
   "outputs": [],
   "source": [
    "df_clean.user_type = df_clean.user_type.astype('category')\n",
    "# Desechamos Other gender\n",
    "df_clean = df_clean.query('member_gender != \"Other\"')\n",
    "df_clean.member_gender = df_clean.member_gender.astype('category')\n",
    "df_clean.bike_share_for_all_trip = df_clean.bike_share_for_all_trip.astype('category')"
   ]
  },
  {
   "cell_type": "code",
   "execution_count": 73,
   "metadata": {},
   "outputs": [
    {
     "data": {
      "text/plain": [
       "duration_sec                        int64\n",
       "start_time                 datetime64[ns]\n",
       "end_time                   datetime64[ns]\n",
       "start_station_id                  float64\n",
       "start_station_name                 object\n",
       "start_station_latitude            float64\n",
       "start_station_longitude           float64\n",
       "end_station_id                    float64\n",
       "end_station_name                   object\n",
       "end_station_latitude              float64\n",
       "end_station_longitude             float64\n",
       "bike_id                             int64\n",
       "user_type                        category\n",
       "member_birth_year                 float64\n",
       "member_gender                    category\n",
       "bike_share_for_all_trip          category\n",
       "age                               float64\n",
       "dtype: object"
      ]
     },
     "execution_count": 73,
     "metadata": {},
     "output_type": "execute_result"
    }
   ],
   "source": [
    "df_clean.dtypes"
   ]
  },
  {
   "cell_type": "markdown",
   "metadata": {},
   "source": [
    "#### Add columns for year, month, week, day and hour"
   ]
  },
  {
   "cell_type": "code",
   "execution_count": 74,
   "metadata": {},
   "outputs": [],
   "source": [
    "# Create columns\n",
    "df_clean['year']=df_clean['start_time'].dt.year.astype(int)\n",
    "df_clean['month']=df_clean['start_time'].dt.month.astype(int)\n",
    "df_clean['week']=df_clean['start_time'].dt.strftime('%a')\n",
    "df_clean['day']=df_clean['start_time'].dt.day.astype(int)\n",
    "df_clean['hour']=df_clean['start_time'].dt.hour"
   ]
  },
  {
   "cell_type": "code",
   "execution_count": 75,
   "metadata": {
    "scrolled": false
   },
   "outputs": [
    {
     "name": "stdout",
     "output_type": "stream",
     "text": [
      "<class 'pandas.core.frame.DataFrame'>\n",
      "Int64Index: 2536612 entries, 0 to 2734624\n",
      "Data columns (total 22 columns):\n",
      "duration_sec               2536612 non-null int64\n",
      "start_time                 2536612 non-null datetime64[ns]\n",
      "end_time                   2536612 non-null datetime64[ns]\n",
      "start_station_id           2524538 non-null float64\n",
      "start_station_name         2524538 non-null object\n",
      "start_station_latitude     2536612 non-null float64\n",
      "start_station_longitude    2536612 non-null float64\n",
      "end_station_id             2524538 non-null float64\n",
      "end_station_name           2524538 non-null object\n",
      "end_station_latitude       2536612 non-null float64\n",
      "end_station_longitude      2536612 non-null float64\n",
      "bike_id                    2536612 non-null int64\n",
      "user_type                  2536612 non-null category\n",
      "member_birth_year          2536612 non-null float64\n",
      "member_gender              2536612 non-null category\n",
      "bike_share_for_all_trip    2536612 non-null category\n",
      "age                        2536612 non-null float64\n",
      "year                       2536612 non-null int32\n",
      "month                      2536612 non-null int32\n",
      "week                       2536612 non-null object\n",
      "day                        2536612 non-null int32\n",
      "hour                       2536612 non-null int64\n",
      "dtypes: category(3), datetime64[ns](2), float64(8), int32(3), int64(3), object(3)\n",
      "memory usage: 365.3+ MB\n"
     ]
    }
   ],
   "source": [
    "df_clean.info(null_counts=True)"
   ]
  },
  {
   "cell_type": "markdown",
   "metadata": {},
   "source": [
    "#### Save the clean-master dataset"
   ]
  },
  {
   "cell_type": "code",
   "execution_count": 76,
   "metadata": {},
   "outputs": [],
   "source": [
    "#df_clean.to_csv('clean_master_gobike.csv', index=False)"
   ]
  },
  {
   "cell_type": "markdown",
   "metadata": {},
   "source": [
    "### What is the structure of your dataset?<a id='answer'></a>\n",
    "The final structure has more than 2.5 million records in 21 columns where we can see:\n",
    "- The times of the journeys\n",
    "- From where and where with geolocation\n",
    "- Age, gender and type of user\n",
    "- The id of the bicycle and if it is shared for the all trip.\n",
    "\n",
    "In addition columns of **year, week, month, day and hour** have been added for a better subsequent analysis"
   ]
  },
  {
   "cell_type": "code",
   "execution_count": 77,
   "metadata": {
    "scrolled": false
   },
   "outputs": [
    {
     "name": "stdout",
     "output_type": "stream",
     "text": [
      "2018-01-01 00:07:41.040000\n",
      "2019-04-30 23:59:04.739000\n",
      "(2536612, 22)\n",
      "duration_sec                        int64\n",
      "start_time                 datetime64[ns]\n",
      "end_time                   datetime64[ns]\n",
      "start_station_id                  float64\n",
      "start_station_name                 object\n",
      "start_station_latitude            float64\n",
      "start_station_longitude           float64\n",
      "end_station_id                    float64\n",
      "end_station_name                   object\n",
      "end_station_latitude              float64\n",
      "end_station_longitude             float64\n",
      "bike_id                             int64\n",
      "user_type                        category\n",
      "member_birth_year                 float64\n",
      "member_gender                    category\n",
      "bike_share_for_all_trip          category\n",
      "age                               float64\n",
      "year                                int32\n",
      "month                               int32\n",
      "week                               object\n",
      "day                                 int32\n",
      "hour                                int64\n",
      "dtype: object\n"
     ]
    }
   ],
   "source": [
    "print(df_clean['start_time'].min())\n",
    "print(df_clean['start_time'].max())\n",
    "print(df_clean.shape)\n",
    "print(df_clean.dtypes)"
   ]
  },
  {
   "cell_type": "markdown",
   "metadata": {},
   "source": [
    "### What is/are the main feature(s) of interest in your dataset?\n",
    "\n",
    "- Initially I would like to see what is the general trend of monthly use, use by age and by gender in general terms\n",
    "- Later I would like to check the same data with the year 2019 to see the trend.\n",
    "- How many are the peak hours, the days of the week with the highest demand and if they affect the months with the lowest temperatures?\n",
    "- And above all, see the flows of users going to and from where, time, and if they repeat the same flows back hours later.\n",
    "\n",
    "### What features in the dataset do you think will help support your investigation into your feature(s) of interest?\n",
    "\n",
    "- To support my research, the dataset has geolocation and time both start and end. This would be the most important for **see the behavior of the users regarding the trips.**"
   ]
  },
  {
   "cell_type": "markdown",
   "metadata": {},
   "source": [
    "## Univariate Exploration<a id='uni'></a>\n",
    "- First discovering the use of GoBike by age and gender."
   ]
  },
  {
   "cell_type": "code",
   "execution_count": 78,
   "metadata": {},
   "outputs": [],
   "source": [
    "grouped = df_clean.groupby('year')\n",
    "grouped18 = grouped.get_group(2018)\n",
    "grouped19 = grouped.get_group(2019)\n",
    "\n",
    "# week days\n",
    "weekday = ['Mon', 'Tue', 'Wed', 'Thu', 'Fri', 'Sat', 'Sun']\n",
    "\n",
    "# base color\n",
    "base_color = sb.color_palette()[0]\n",
    "\n",
    "# variables start/end station for station analisys\n",
    "startstation18 = grouped18.groupby('start_station_name')\n",
    "startstation19 = grouped19.groupby('start_station_name')\n",
    "\n",
    "endstation18 = grouped18.groupby('end_station_name')\n",
    "endstation19 = grouped19.groupby('end_station_name')"
   ]
  },
  {
   "cell_type": "code",
   "execution_count": 79,
   "metadata": {
    "scrolled": false
   },
   "outputs": [
    {
     "data": {
      "image/png": "[encoded data removed]",
      "text/plain": [
       "<Figure size 720x360 with 2 Axes>"
      ]
     },
     "metadata": {
      "needs_background": "light"
     },
     "output_type": "display_data"
    }
   ],
   "source": [
    "g = sb.catplot(data=df_clean, x='month', col=\"year\", kind='count', sharey = False,\n",
    "            color = base_color)\n",
    "g.set_axis_labels(\"Month\", \"Trips\")\n",
    "g.set_titles(\"{col_name}\")\n",
    "g.fig.suptitle('Use bike in 2018 and first 4 month by 2019 per Month', y=1.05, fontsize=12, fontweight='semibold');"
   ]
  },
  {
   "cell_type": "markdown",
   "metadata": {},
   "source": [
    "Indeed, the coldest and rainiest months there is less demand, being the months of May to October when users make more trips.\n",
    "What is very significant is the large increase in demand compared to the first 4 months of every year. **We can talk about a 100% increase in demand**.\n",
    "Later I will make a more detailed analysis."
   ]
  },
  {
   "cell_type": "code",
   "execution_count": 80,
   "metadata": {
    "scrolled": false
   },
   "outputs": [
    {
     "data": {
      "image/png": "[encoded data removed]",
      "text/plain": [
       "<Figure size 720x360 with 2 Axes>"
      ]
     },
     "metadata": {
      "needs_background": "light"
     },
     "output_type": "display_data"
    }
   ],
   "source": [
    "g = sb.catplot(data=df_clean, x='week', col=\"year\", kind='count', sharey = False,\n",
    "            color = base_color, order = weekday)\n",
    "g.set_axis_labels(\"Weekday\", \"Trips\")\n",
    "g.set_titles(\"{col_name}\")\n",
    "g.fig.suptitle('Use bike in 2018 and first 4 month by 2019 per weekday', y=1.05, fontsize=12, fontweight='semibold');"
   ]
  },
  {
   "cell_type": "markdown",
   "metadata": {},
   "source": [
    "It can be seen that the usage trend per day of the week is the same in 2018 as in 2019"
   ]
  },
  {
   "cell_type": "code",
   "execution_count": 81,
   "metadata": {},
   "outputs": [
    {
     "data": {
      "image/png": "[encoded data removed]",
      "text/plain": [
       "<Figure size 720x360 with 2 Axes>"
      ]
     },
     "metadata": {
      "needs_background": "light"
     },
     "output_type": "display_data"
    }
   ],
   "source": [
    "g = sb.catplot(data=df_clean, x='hour', col=\"year\", kind='count', sharey = False,\n",
    "            color = base_color)\n",
    "g.set_axis_labels(\"Hour\", \"Trips\")\n",
    "g.set_titles(\"{col_name}\")\n",
    "g.fig.suptitle('Use bike in 2018 and first 4 month by 2019 per hora', y=1.05, fontsize=12, fontweight='semibold');"
   ]
  },
  {
   "cell_type": "markdown",
   "metadata": {},
   "source": [
    "As happens with the days of the week, in the coming years.\n",
    "Two peak hours are observed, 7 AM and 17 PM and a valley from 10 AM to 15 PM. Which leads me to think that users use a bicycle to go to and from work, and that they return from work more people on a bicycle than life. This can be true throughout life, using another type of transport. Upon returning, and with more time, it is nice to relax taking a walk.\n",
    "**The latter is very interesting and try to expand it later.**"
   ]
  },
  {
   "cell_type": "code",
   "execution_count": 119,
   "metadata": {},
   "outputs": [
    {
     "data": {
      "image/png": "[encoded data removed]",
      "text/plain": [
       "<Figure size 720x360 with 2 Axes>"
      ]
     },
     "metadata": {
      "needs_background": "light"
     },
     "output_type": "display_data"
    }
   ],
   "source": [
    "plt.figure(figsize = [10, 5])\n",
    "\n",
    "# bar\n",
    "plt.subplot(121)\n",
    "\n",
    "sb.countplot(data = df_clean, x = 'member_gender', color = base_color)\n",
    "\n",
    "# add annotations\n",
    "n_points = df_clean.shape[0]\n",
    "cat_counts = df_clean['member_gender'].value_counts()\n",
    "locs, labels = plt.xticks() # get the current tick locations and labels\n",
    "\n",
    "# loop through each pair of locations and labels\n",
    "for loc, label in zip(locs, labels):\n",
    "\n",
    "    # get the text property for the label to get the correct count\n",
    "    count = cat_counts[label.get_text()]\n",
    "    pct_string = '{:0.0f}'.format(count)\n",
    "\n",
    "    # print the annotation just below the top of the bar\n",
    "    plt.text(loc, count-100000, pct_string, ha = 'center', color = 'w')\n",
    "\n",
    "# age\n",
    "plt.subplot(122)\n",
    "\n",
    "labels = ['Male', 'Female']\n",
    "sizes = [male_pie, female_pie]\n",
    "colors = ['darkorange', 'steelblue']\n",
    "explode = (0, 0.1)\n",
    "\n",
    "plt.pie(sizes, explode=explode, autopct='%1.1f%%', shadow=True, startangle=90)\n",
    "plt.axis('equal')\n",
    "\n",
    "plt.suptitle('User type split for GoBike sharing system', y=1.05, fontsize=12, fontweight='semibold');"
   ]
  },
  {
   "cell_type": "code",
   "execution_count": 158,
   "metadata": {
    "scrolled": false
   },
   "outputs": [
    {
     "data": {
      "text/plain": [
       "hour  start_station_name     end_station_name                         \n",
       "0     10th Ave at E 15th St  10th Ave at E 15th St                        3\n",
       "                             2nd Ave at E 18th St                         1\n",
       "                             Frank H Ogawa Plaza                          1\n",
       "      10th St at Empire St   10th St at Empire St                         1\n",
       "      10th St at Fallon St   10th Ave at E 15th St                        3\n",
       "                             24th St at Market St                         2\n",
       "                             2nd Ave at E 18th St                         6\n",
       "                             6th Ave at E 12th St (Temporary Location)    5\n",
       "Name: hour, dtype: int64"
      ]
     },
     "execution_count": 158,
     "metadata": {},
     "output_type": "execute_result"
    }
   ],
   "source": [
    "flujos = df_clean.groupby(['hour','start_station_name','end_station_name'])['hour'].count()\n",
    "flujos.head(8)"
   ]
  },
  {
   "cell_type": "code",
   "execution_count": 167,
   "metadata": {},
   "outputs": [
    {
     "data": {
      "text/plain": [
       "Text(0.5,1,'The default settings produce a diagram like this.')"
      ]
     },
     "execution_count": 167,
     "metadata": {},
     "output_type": "execute_result"
    },
    {
     "data": {
      "text/plain": [
       "<Figure size 1080x720 with 0 Axes>"
      ]
     },
     "metadata": {},
     "output_type": "display_data"
    },
    {
     "data": {
      "image/png": "[encoded data removed]",
      "text/plain": [
       "<Figure size 432x288 with 1 Axes>"
      ]
     },
     "metadata": {},
     "output_type": "display_data"
    }
   ],
   "source": [
    "flujos = df_clean.groupby(['start_station_name','hour'])['start_time'].count() \n",
    "\n",
    "fig = plt.figure(figsize = [15, 10])\n",
    "\n",
    "\n",
    "\n",
    "Sankey(flows=[3, 1, 1, 1, 3, 2, 6, 5],\n",
    "       labels=['10th Ave', 'Esprit Park', 'Draves Park', 'First', 'Second', 'Third', 'Fourth', 'Fifth'],\n",
    "       orientations=[-1, 1, 1, 0, 1, -1, 1, 1]).finish()\n",
    "plt.title(\"The default settings produce a diagram like this.\")"
   ]
  },
  {
   "cell_type": "code",
   "execution_count": null,
   "metadata": {},
   "outputs": [],
   "source": []
  },
  {
   "cell_type": "code",
   "execution_count": null,
   "metadata": {},
   "outputs": [],
   "source": []
  },
  {
   "cell_type": "code",
   "execution_count": null,
   "metadata": {},
   "outputs": [],
   "source": []
  },
  {
   "cell_type": "code",
   "execution_count": null,
   "metadata": {},
   "outputs": [],
   "source": []
  },
  {
   "cell_type": "code",
   "execution_count": null,
   "metadata": {},
   "outputs": [],
   "source": []
  },
  {
   "cell_type": "code",
   "execution_count": 149,
   "metadata": {
    "scrolled": true
   },
   "outputs": [
    {
     "data": {
      "image/png": "[encoded data removed]",
      "text/plain": [
       "<Figure size 576x216 with 1 Axes>"
      ]
     },
     "metadata": {
      "needs_background": "light"
     },
     "output_type": "display_data"
    }
   ],
   "source": [
    "plt.figure(figsize = [8, 3])\n",
    "sb.boxplot(data=df_clean, x='age', color=base_color);\n",
    "\n",
    "plt.suptitle('Age', y=1.03, fontsize=12, fontweight='semibold');"
   ]
  },
  {
   "cell_type": "code",
   "execution_count": null,
   "metadata": {},
   "outputs": [],
   "source": []
  },
  {
   "cell_type": "code",
   "execution_count": null,
   "metadata": {},
   "outputs": [],
   "source": []
  },
  {
   "cell_type": "code",
   "execution_count": null,
   "metadata": {},
   "outputs": [],
   "source": []
  },
  {
   "cell_type": "code",
   "execution_count": null,
   "metadata": {},
   "outputs": [],
   "source": []
  },
  {
   "cell_type": "code",
   "execution_count": null,
   "metadata": {},
   "outputs": [],
   "source": []
  },
  {
   "cell_type": "code",
   "execution_count": null,
   "metadata": {},
   "outputs": [],
   "source": []
  },
  {
   "cell_type": "code",
   "execution_count": null,
   "metadata": {},
   "outputs": [],
   "source": []
  },
  {
   "cell_type": "code",
   "execution_count": null,
   "metadata": {},
   "outputs": [],
   "source": []
  },
  {
   "cell_type": "code",
   "execution_count": null,
   "metadata": {},
   "outputs": [],
   "source": []
  },
  {
   "cell_type": "code",
   "execution_count": null,
   "metadata": {},
   "outputs": [],
   "source": []
  },
  {
   "cell_type": "code",
   "execution_count": null,
   "metadata": {},
   "outputs": [],
   "source": []
  },
  {
   "cell_type": "code",
   "execution_count": null,
   "metadata": {},
   "outputs": [],
   "source": []
  },
  {
   "cell_type": "code",
   "execution_count": null,
   "metadata": {},
   "outputs": [],
   "source": []
  },
  {
   "cell_type": "code",
   "execution_count": 150,
   "metadata": {},
   "outputs": [
    {
     "data": {
      "image/png": "[encoded data removed]",
      "text/plain": [
       "<Figure size 432x288 with 1 Axes>"
      ]
     },
     "metadata": {},
     "output_type": "display_data"
    }
   ],
   "source": [
    "# calculating male and female\n",
    "male = df_clean.query('member_gender == \"Male\"')['bike_id'].count()\n",
    "female = df_clean.query('member_gender == \"Female\"')['bike_id'].count()\n",
    "\n",
    "labels = ['Male', 'Female']\n",
    "sizes = [male, female]\n",
    "colors = ['darkorange', 'steelblue']\n",
    "explode = (0, 0.1)\n",
    "\n",
    "plt.pie(sizes, explode=explode, labels=labels, colors = colors,\n",
    "        autopct='%1.1f%%', shadow=True, startangle=90)\n",
    "plt.axis('equal')\n",
    "\n",
    "plt.suptitle('Gender', y=1.03, fontsize=12, fontweight='semibold');"
   ]
  },
  {
   "cell_type": "code",
   "execution_count": 151,
   "metadata": {},
   "outputs": [
    {
     "data": {
      "image/png": "[encoded data removed]",
      "text/plain": [
       "<Figure size 432x288 with 1 Axes>"
      ]
     },
     "metadata": {
      "needs_background": "light"
     },
     "output_type": "display_data"
    }
   ],
   "source": [
    "df_clean['age'].hist();"
   ]
  },
  {
   "cell_type": "code",
   "execution_count": 152,
   "metadata": {},
   "outputs": [
    {
     "data": {
      "image/png": "[encoded data removed]",
      "text/plain": [
       "<Figure size 576x576 with 1 Axes>"
      ]
     },
     "metadata": {},
     "output_type": "display_data"
    }
   ],
   "source": [
    "gpie = df_clean.groupby(['member_gender']).count()\n",
    "gpie = gpie.start_time\n",
    "gpie.plot(kind='pie', subplots=True, figsize=(8, 8));"
   ]
  },
  {
   "cell_type": "code",
   "execution_count": 153,
   "metadata": {},
   "outputs": [
    {
     "data": {
      "image/png": "[encoded data removed]",
      "text/plain": [
       "<Figure size 432x288 with 1 Axes>"
      ]
     },
     "metadata": {
      "needs_background": "light"
     },
     "output_type": "display_data"
    }
   ],
   "source": [
    "age10=df_clean['age'].value_counts()\n",
    "age10=age10.head(10)\n",
    "#fig = plt.figure(figsize=(30,20))\n",
    "age10.plot(kind='bar', color = sb.color_palette()[0])\n",
    "plt.title('Top 10 use by ages')\n",
    "plt.show();"
   ]
  },
  {
   "cell_type": "code",
   "execution_count": null,
   "metadata": {},
   "outputs": [],
   "source": []
  },
  {
   "cell_type": "markdown",
   "metadata": {},
   "source": [
    "> Make sure that, after every plot or related series of plots, that you\n",
    "include a Markdown cell with comments about what you observed, and what\n",
    "you plan on investigating next."
   ]
  },
  {
   "cell_type": "code",
   "execution_count": null,
   "metadata": {},
   "outputs": [],
   "source": []
  },
  {
   "cell_type": "markdown",
   "metadata": {},
   "source": [
    "### Discuss the distribution(s) of your variable(s) of interest. Were there any unusual points? Did you need to perform any transformations?\n",
    "\n",
    "> Your answer here!\n",
    "\n",
    "### Of the features you investigated, were there any unusual distributions? Did you perform any operations on the data to tidy, adjust, or change the form of the data? If so, why did you do this?\n",
    "\n",
    "> Your answer here!"
   ]
  },
  {
   "cell_type": "markdown",
   "metadata": {},
   "source": [
    "## Bivariate Exploration<a id='bi'></a>\n",
    "\n",
    "> In this section, investigate relationships between pairs of variables in your\n",
    "data. Make sure the variables that you cover here have been introduced in some\n",
    "fashion in the previous section (univariate exploration)."
   ]
  },
  {
   "cell_type": "code",
   "execution_count": null,
   "metadata": {},
   "outputs": [],
   "source": []
  },
  {
   "cell_type": "markdown",
   "metadata": {},
   "source": [
    "### Talk about some of the relationships you observed in this part of the investigation. How did the feature(s) of interest vary with other features in the dataset?\n",
    "\n",
    "> Your answer here!\n",
    "\n",
    "### Did you observe any interesting relationships between the other features (not the main feature(s) of interest)?\n",
    "\n",
    "> Your answer here!"
   ]
  },
  {
   "cell_type": "markdown",
   "metadata": {},
   "source": [
    "## Multivariate Exploration<a id='multi'></a>\n",
    "\n",
    "> Create plots of three or more variables to investigate your data even\n",
    "further. Make sure that your investigations are justified, and follow from\n",
    "your work in the previous sections."
   ]
  },
  {
   "cell_type": "code",
   "execution_count": null,
   "metadata": {},
   "outputs": [],
   "source": []
  },
  {
   "cell_type": "markdown",
   "metadata": {},
   "source": [
    "### Talk about some of the relationships you observed in this part of the investigation. Were there features that strengthened each other in terms of looking at your feature(s) of interest?\n",
    "\n",
    "> Your answer here!\n",
    "\n",
    "### Were there any interesting or surprising interactions between features?\n",
    "\n",
    "> Your answer here!"
   ]
  },
  {
   "cell_type": "markdown",
   "metadata": {},
   "source": [
    "> At the end of your report, make sure that you export the notebook as an\n",
    "html file from the `File > Download as... > HTML` menu. Make sure you keep\n",
    "track of where the exported file goes, so you can put it in the same folder\n",
    "as this notebook for project submission. Also, make sure you remove all of\n",
    "the quote-formatted guide notes like this one before you finish your report!"
   ]
  },
  {
   "cell_type": "code",
   "execution_count": null,
   "metadata": {},
   "outputs": [],
   "source": []
  }
 ],
 "metadata": {
  "kernelspec": {
   "display_name": "Python 3",
   "language": "python",
   "name": "python3"
  },
  "language_info": {
   "codemirror_mode": {
    "name": "ipython",
    "version": 3
   },
   "file_extension": ".py",
   "mimetype": "text/x-python",
   "name": "python",
   "nbconvert_exporter": "python",
   "pygments_lexer": "ipython3",
   "version": "3.7.1"
  }
 },
 "nbformat": 4,
 "nbformat_minor": 2
}
