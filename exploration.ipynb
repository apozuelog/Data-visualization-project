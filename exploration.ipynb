{
 "cells": [
  {
   "cell_type": "markdown",
   "metadata": {},
   "source": [
    "# Data visualization project\n",
    "## Ford GoBike analisys and visualization\n",
    "<span style=\"color:lightslategray;font-size:12px;\">By Andrés Pozuelo, May-2019</span>\n",
    "## Index\n",
    "- [What is Ford GoBike?](#whatis)\n",
    "- [Gathering data and Create a dataset](#create)\n",
    "- [Assessing Data](#asse)\n",
    "- [Cleaning Data](#clean)\n",
    "- [Answering the questions](#answer)\n",
    "- [Univariate Exploration](#uni)\n",
    "- [Bivariate Exploration](#bi)\n",
    "- [Multivariate Exploration](#multi)"
   ]
  },
  {
   "cell_type": "markdown",
   "metadata": {},
   "source": [
    "### What is Ford GoBike? <a id='whatis'></a>\n",
    "Ford GoBike is the Bay Area's bike share system. Bay Area Bike Share was introduced in 2013 as a pilot program for the region, with 700 bikes and 70 stations across San Francisco and San Jose. Once expansion is complete, Ford GoBike will grow to 7,000 bikes across San Francisco, the East Bay and San Jose.\n",
    "\n",
    "Ford GoBike, like other bike share systems, consists of a fleet of specially designed, sturdy and durable bikes that are locked into a network of docking stations throughout the city. The bikes can be unlocked from one station and returned to any other station in the system, making them ideal for one-way trips. People use bike share to commute to work or school, run errands, get to appointments or social engagements and more. It's a fun, convenient and affordable way to get around.\n",
    "\n",
    "The bikes are available for use 24 hours/day, 7 days/week, 365 days/year and riders have access to all bikes in the network when they become a member or purchase a pass."
   ]
  },
  {
   "cell_type": "markdown",
   "metadata": {},
   "source": [
    "### Gathering data and Create a dataset<a id='create'></a>"
   ]
  },
  {
   "cell_type": "code",
   "execution_count": 1,
   "metadata": {},
   "outputs": [],
   "source": [
    "import numpy as np\n",
    "import pandas as pd\n",
    "import matplotlib.pyplot as plt\n",
    "import seaborn as sns\n",
    "import datetime\n",
    "\n",
    "import os\n",
    "import glob\n",
    "\n",
    "%matplotlib inline"
   ]
  },
  {
   "cell_type": "code",
   "execution_count": 2,
   "metadata": {},
   "outputs": [],
   "source": [
    "all_files = glob.glob(os.path.join('csv\\*.csv'))\n",
    "df = pd.concat((pd.read_csv(f) for f in all_files), ignore_index = True)\n",
    "df.to_csv('gobike.csv', index=False)"
   ]
  },
  {
   "cell_type": "markdown",
   "metadata": {},
   "source": [
    "#### Original structure\n",
    "This first dataset has more than 2.7 million records in 16 columns and includes records from 2018-01-01 to 2019-09-30."
   ]
  },
  {
   "cell_type": "code",
   "execution_count": 3,
   "metadata": {
    "scrolled": true
   },
   "outputs": [
    {
     "name": "stdout",
     "output_type": "stream",
     "text": [
      "2018-01-01 00:01:53.8470\n",
      "2019-04-30 23:59:04.7390\n",
      "(2734625, 16)\n",
      "duration_sec                 int64\n",
      "start_time                  object\n",
      "end_time                    object\n",
      "start_station_id           float64\n",
      "start_station_name          object\n",
      "start_station_latitude     float64\n",
      "start_station_longitude    float64\n",
      "end_station_id             float64\n",
      "end_station_name            object\n",
      "end_station_latitude       float64\n",
      "end_station_longitude      float64\n",
      "bike_id                      int64\n",
      "user_type                   object\n",
      "member_birth_year          float64\n",
      "member_gender               object\n",
      "bike_share_for_all_trip     object\n",
      "dtype: object\n"
     ]
    }
   ],
   "source": [
    "print(df['start_time'].min())\n",
    "print(df['start_time'].max())\n",
    "print(df.shape)\n",
    "print(df.dtypes)"
   ]
  },
  {
   "cell_type": "markdown",
   "metadata": {},
   "source": [
    "### Assessing data<a id='asse'></a>"
   ]
  },
  {
   "cell_type": "code",
   "execution_count": 4,
   "metadata": {},
   "outputs": [
    {
     "data": {
      "text/html": [
       "<div>\n",
       "<style scoped>\n",
       "    .dataframe tbody tr th:only-of-type {\n",
       "        vertical-align: middle;\n",
       "    }\n",
       "\n",
       "    .dataframe tbody tr th {\n",
       "        vertical-align: top;\n",
       "    }\n",
       "\n",
       "    .dataframe thead th {\n",
       "        text-align: right;\n",
       "    }\n",
       "</style>\n",
       "<table border=\"1\" class=\"dataframe\">\n",
       "  <thead>\n",
       "    <tr style=\"text-align: right;\">\n",
       "      <th></th>\n",
       "      <th>duration_sec</th>\n",
       "      <th>start_time</th>\n",
       "      <th>end_time</th>\n",
       "      <th>start_station_id</th>\n",
       "      <th>start_station_name</th>\n",
       "      <th>start_station_latitude</th>\n",
       "      <th>start_station_longitude</th>\n",
       "      <th>end_station_id</th>\n",
       "      <th>end_station_name</th>\n",
       "      <th>end_station_latitude</th>\n",
       "      <th>end_station_longitude</th>\n",
       "      <th>bike_id</th>\n",
       "      <th>user_type</th>\n",
       "      <th>member_birth_year</th>\n",
       "      <th>member_gender</th>\n",
       "      <th>bike_share_for_all_trip</th>\n",
       "    </tr>\n",
       "  </thead>\n",
       "  <tbody>\n",
       "    <tr>\n",
       "      <th>1936965</th>\n",
       "      <td>551</td>\n",
       "      <td>2019-01-23 08:57:50.5220</td>\n",
       "      <td>2019-01-23 09:07:02.4730</td>\n",
       "      <td>239.0</td>\n",
       "      <td>Bancroft Way at Telegraph Ave</td>\n",
       "      <td>37.868813</td>\n",
       "      <td>-122.258764</td>\n",
       "      <td>253.0</td>\n",
       "      <td>Haste St at College Ave</td>\n",
       "      <td>37.866418</td>\n",
       "      <td>-122.253799</td>\n",
       "      <td>5563</td>\n",
       "      <td>Subscriber</td>\n",
       "      <td>1999.0</td>\n",
       "      <td>Male</td>\n",
       "      <td>No</td>\n",
       "    </tr>\n",
       "    <tr>\n",
       "      <th>1431489</th>\n",
       "      <td>621</td>\n",
       "      <td>2018-10-26 08:53:30.9650</td>\n",
       "      <td>2018-10-26 09:03:52.4010</td>\n",
       "      <td>16.0</td>\n",
       "      <td>Steuart St at Market St</td>\n",
       "      <td>37.794130</td>\n",
       "      <td>-122.394430</td>\n",
       "      <td>81.0</td>\n",
       "      <td>Berry St at 4th St</td>\n",
       "      <td>37.775880</td>\n",
       "      <td>-122.393170</td>\n",
       "      <td>2558</td>\n",
       "      <td>Subscriber</td>\n",
       "      <td>1984.0</td>\n",
       "      <td>Male</td>\n",
       "      <td>No</td>\n",
       "    </tr>\n",
       "    <tr>\n",
       "      <th>1425740</th>\n",
       "      <td>335</td>\n",
       "      <td>2018-10-27 08:21:27.6800</td>\n",
       "      <td>2018-10-27 08:27:03.3590</td>\n",
       "      <td>39.0</td>\n",
       "      <td>Scott St at Golden Gate Ave</td>\n",
       "      <td>37.778999</td>\n",
       "      <td>-122.436861</td>\n",
       "      <td>285.0</td>\n",
       "      <td>Webster St at O'Farrell St</td>\n",
       "      <td>37.783521</td>\n",
       "      <td>-122.431158</td>\n",
       "      <td>3391</td>\n",
       "      <td>Subscriber</td>\n",
       "      <td>1991.0</td>\n",
       "      <td>Female</td>\n",
       "      <td>No</td>\n",
       "    </tr>\n",
       "    <tr>\n",
       "      <th>872816</th>\n",
       "      <td>810</td>\n",
       "      <td>2018-07-23 21:45:36.6680</td>\n",
       "      <td>2018-07-23 21:59:07.2740</td>\n",
       "      <td>179.0</td>\n",
       "      <td>Telegraph Ave at 27th St</td>\n",
       "      <td>37.816073</td>\n",
       "      <td>-122.267886</td>\n",
       "      <td>179.0</td>\n",
       "      <td>Telegraph Ave at 27th St</td>\n",
       "      <td>37.816073</td>\n",
       "      <td>-122.267886</td>\n",
       "      <td>3746</td>\n",
       "      <td>Subscriber</td>\n",
       "      <td>1981.0</td>\n",
       "      <td>Male</td>\n",
       "      <td>No</td>\n",
       "    </tr>\n",
       "    <tr>\n",
       "      <th>2140713</th>\n",
       "      <td>227</td>\n",
       "      <td>2019-02-17 16:30:54.3100</td>\n",
       "      <td>2019-02-17 16:34:41.3600</td>\n",
       "      <td>53.0</td>\n",
       "      <td>Grove St at Divisadero</td>\n",
       "      <td>37.775946</td>\n",
       "      <td>-122.437777</td>\n",
       "      <td>73.0</td>\n",
       "      <td>Pierce St at Haight St</td>\n",
       "      <td>37.771793</td>\n",
       "      <td>-122.433708</td>\n",
       "      <td>4615</td>\n",
       "      <td>Subscriber</td>\n",
       "      <td>1931.0</td>\n",
       "      <td>Male</td>\n",
       "      <td>No</td>\n",
       "    </tr>\n",
       "    <tr>\n",
       "      <th>502055</th>\n",
       "      <td>1434</td>\n",
       "      <td>2018-05-21 19:26:07.9130</td>\n",
       "      <td>2018-05-21 19:50:02.4720</td>\n",
       "      <td>24.0</td>\n",
       "      <td>Spear St at Folsom St</td>\n",
       "      <td>37.789677</td>\n",
       "      <td>-122.390428</td>\n",
       "      <td>53.0</td>\n",
       "      <td>Grove St at Divisadero</td>\n",
       "      <td>37.775946</td>\n",
       "      <td>-122.437777</td>\n",
       "      <td>446</td>\n",
       "      <td>Subscriber</td>\n",
       "      <td>1993.0</td>\n",
       "      <td>Male</td>\n",
       "      <td>No</td>\n",
       "    </tr>\n",
       "    <tr>\n",
       "      <th>1796193</th>\n",
       "      <td>550</td>\n",
       "      <td>2018-12-14 17:37:56.2540</td>\n",
       "      <td>2018-12-14 17:47:07.1710</td>\n",
       "      <td>253.0</td>\n",
       "      <td>Haste St at College Ave</td>\n",
       "      <td>37.866418</td>\n",
       "      <td>-122.253799</td>\n",
       "      <td>245.0</td>\n",
       "      <td>Downtown Berkeley BART</td>\n",
       "      <td>37.870139</td>\n",
       "      <td>-122.268422</td>\n",
       "      <td>3436</td>\n",
       "      <td>Customer</td>\n",
       "      <td>1991.0</td>\n",
       "      <td>Male</td>\n",
       "      <td>No</td>\n",
       "    </tr>\n",
       "    <tr>\n",
       "      <th>1311511</th>\n",
       "      <td>417</td>\n",
       "      <td>2018-09-14 18:51:27.7230</td>\n",
       "      <td>2018-09-14 18:58:25.2700</td>\n",
       "      <td>181.0</td>\n",
       "      <td>Grand Ave at Webster St</td>\n",
       "      <td>37.811377</td>\n",
       "      <td>-122.265192</td>\n",
       "      <td>339.0</td>\n",
       "      <td>Jackson St at 11th St</td>\n",
       "      <td>37.800002</td>\n",
       "      <td>-122.266438</td>\n",
       "      <td>3247</td>\n",
       "      <td>Subscriber</td>\n",
       "      <td>1935.0</td>\n",
       "      <td>Male</td>\n",
       "      <td>Yes</td>\n",
       "    </tr>\n",
       "    <tr>\n",
       "      <th>448658</th>\n",
       "      <td>540</td>\n",
       "      <td>2018-05-31 10:38:38.7920</td>\n",
       "      <td>2018-05-31 10:47:39.2360</td>\n",
       "      <td>267.0</td>\n",
       "      <td>Derby St at College Ave</td>\n",
       "      <td>37.861804</td>\n",
       "      <td>-122.253569</td>\n",
       "      <td>171.0</td>\n",
       "      <td>Rockridge BART Station</td>\n",
       "      <td>37.844279</td>\n",
       "      <td>-122.251900</td>\n",
       "      <td>705</td>\n",
       "      <td>Subscriber</td>\n",
       "      <td>1997.0</td>\n",
       "      <td>Female</td>\n",
       "      <td>No</td>\n",
       "    </tr>\n",
       "    <tr>\n",
       "      <th>1511144</th>\n",
       "      <td>421</td>\n",
       "      <td>2018-10-14 09:18:37.3410</td>\n",
       "      <td>2018-10-14 09:25:38.5510</td>\n",
       "      <td>86.0</td>\n",
       "      <td>Market St at Dolores St</td>\n",
       "      <td>37.769305</td>\n",
       "      <td>-122.426826</td>\n",
       "      <td>223.0</td>\n",
       "      <td>16th St Mission BART Station 2</td>\n",
       "      <td>37.764765</td>\n",
       "      <td>-122.420091</td>\n",
       "      <td>3816</td>\n",
       "      <td>Subscriber</td>\n",
       "      <td>1957.0</td>\n",
       "      <td>Male</td>\n",
       "      <td>No</td>\n",
       "    </tr>\n",
       "  </tbody>\n",
       "</table>\n",
       "</div>"
      ],
      "text/plain": [
       "         duration_sec                start_time                  end_time  \\\n",
       "1936965           551  2019-01-23 08:57:50.5220  2019-01-23 09:07:02.4730   \n",
       "1431489           621  2018-10-26 08:53:30.9650  2018-10-26 09:03:52.4010   \n",
       "1425740           335  2018-10-27 08:21:27.6800  2018-10-27 08:27:03.3590   \n",
       "872816            810  2018-07-23 21:45:36.6680  2018-07-23 21:59:07.2740   \n",
       "2140713           227  2019-02-17 16:30:54.3100  2019-02-17 16:34:41.3600   \n",
       "502055           1434  2018-05-21 19:26:07.9130  2018-05-21 19:50:02.4720   \n",
       "1796193           550  2018-12-14 17:37:56.2540  2018-12-14 17:47:07.1710   \n",
       "1311511           417  2018-09-14 18:51:27.7230  2018-09-14 18:58:25.2700   \n",
       "448658            540  2018-05-31 10:38:38.7920  2018-05-31 10:47:39.2360   \n",
       "1511144           421  2018-10-14 09:18:37.3410  2018-10-14 09:25:38.5510   \n",
       "\n",
       "         start_station_id             start_station_name  \\\n",
       "1936965             239.0  Bancroft Way at Telegraph Ave   \n",
       "1431489              16.0        Steuart St at Market St   \n",
       "1425740              39.0    Scott St at Golden Gate Ave   \n",
       "872816              179.0       Telegraph Ave at 27th St   \n",
       "2140713              53.0         Grove St at Divisadero   \n",
       "502055               24.0          Spear St at Folsom St   \n",
       "1796193             253.0        Haste St at College Ave   \n",
       "1311511             181.0        Grand Ave at Webster St   \n",
       "448658              267.0        Derby St at College Ave   \n",
       "1511144              86.0        Market St at Dolores St   \n",
       "\n",
       "         start_station_latitude  start_station_longitude  end_station_id  \\\n",
       "1936965               37.868813              -122.258764           253.0   \n",
       "1431489               37.794130              -122.394430            81.0   \n",
       "1425740               37.778999              -122.436861           285.0   \n",
       "872816                37.816073              -122.267886           179.0   \n",
       "2140713               37.775946              -122.437777            73.0   \n",
       "502055                37.789677              -122.390428            53.0   \n",
       "1796193               37.866418              -122.253799           245.0   \n",
       "1311511               37.811377              -122.265192           339.0   \n",
       "448658                37.861804              -122.253569           171.0   \n",
       "1511144               37.769305              -122.426826           223.0   \n",
       "\n",
       "                       end_station_name  end_station_latitude  \\\n",
       "1936965         Haste St at College Ave             37.866418   \n",
       "1431489              Berry St at 4th St             37.775880   \n",
       "1425740      Webster St at O'Farrell St             37.783521   \n",
       "872816         Telegraph Ave at 27th St             37.816073   \n",
       "2140713          Pierce St at Haight St             37.771793   \n",
       "502055           Grove St at Divisadero             37.775946   \n",
       "1796193          Downtown Berkeley BART             37.870139   \n",
       "1311511           Jackson St at 11th St             37.800002   \n",
       "448658           Rockridge BART Station             37.844279   \n",
       "1511144  16th St Mission BART Station 2             37.764765   \n",
       "\n",
       "         end_station_longitude  bike_id   user_type  member_birth_year  \\\n",
       "1936965            -122.253799     5563  Subscriber             1999.0   \n",
       "1431489            -122.393170     2558  Subscriber             1984.0   \n",
       "1425740            -122.431158     3391  Subscriber             1991.0   \n",
       "872816             -122.267886     3746  Subscriber             1981.0   \n",
       "2140713            -122.433708     4615  Subscriber             1931.0   \n",
       "502055             -122.437777      446  Subscriber             1993.0   \n",
       "1796193            -122.268422     3436    Customer             1991.0   \n",
       "1311511            -122.266438     3247  Subscriber             1935.0   \n",
       "448658             -122.251900      705  Subscriber             1997.0   \n",
       "1511144            -122.420091     3816  Subscriber             1957.0   \n",
       "\n",
       "        member_gender bike_share_for_all_trip  \n",
       "1936965          Male                      No  \n",
       "1431489          Male                      No  \n",
       "1425740        Female                      No  \n",
       "872816           Male                      No  \n",
       "2140713          Male                      No  \n",
       "502055           Male                      No  \n",
       "1796193          Male                      No  \n",
       "1311511          Male                     Yes  \n",
       "448658         Female                      No  \n",
       "1511144          Male                      No  "
      ]
     },
     "execution_count": 4,
     "metadata": {},
     "output_type": "execute_result"
    }
   ],
   "source": [
    "df.sample(10)"
   ]
  },
  {
   "cell_type": "code",
   "execution_count": 5,
   "metadata": {},
   "outputs": [
    {
     "name": "stdout",
     "output_type": "stream",
     "text": [
      "<class 'pandas.core.frame.DataFrame'>\n",
      "RangeIndex: 2734625 entries, 0 to 2734624\n",
      "Data columns (total 16 columns):\n",
      "duration_sec               2734625 non-null int64\n",
      "start_time                 2734625 non-null object\n",
      "end_time                   2734625 non-null object\n",
      "start_station_id           2722124 non-null float64\n",
      "start_station_name         2722124 non-null object\n",
      "start_station_latitude     2734625 non-null float64\n",
      "start_station_longitude    2734625 non-null float64\n",
      "end_station_id             2722124 non-null float64\n",
      "end_station_name           2722124 non-null object\n",
      "end_station_latitude       2734625 non-null float64\n",
      "end_station_longitude      2734625 non-null float64\n",
      "bike_id                    2734625 non-null int64\n",
      "user_type                  2734625 non-null object\n",
      "member_birth_year          2583000 non-null float64\n",
      "member_gender              2583354 non-null object\n",
      "bike_share_for_all_trip    2734625 non-null object\n",
      "dtypes: float64(7), int64(2), object(7)\n",
      "memory usage: 333.8+ MB\n"
     ]
    }
   ],
   "source": [
    "df.info(null_counts=True)"
   ]
  },
  {
   "cell_type": "code",
   "execution_count": 6,
   "metadata": {
    "scrolled": true
   },
   "outputs": [
    {
     "data": {
      "text/plain": [
       "0"
      ]
     },
     "execution_count": 6,
     "metadata": {},
     "output_type": "execute_result"
    }
   ],
   "source": [
    "# Check duplicates\n",
    "df.duplicated().sum()"
   ]
  },
  {
   "cell_type": "code",
   "execution_count": 7,
   "metadata": {},
   "outputs": [
    {
     "name": "stdout",
     "output_type": "stream",
     "text": [
      "1878.0\n",
      "2001.0\n"
     ]
    }
   ],
   "source": [
    "# It is not possible so elderly users\n",
    "print(df['member_birth_year'].min())\n",
    "print(df['member_birth_year'].max())"
   ]
  },
  {
   "cell_type": "markdown",
   "metadata": {},
   "source": [
    "**Quality issues**\n",
    " * It is not possible so elderly users\n",
    " * The start_time and end_time fields must be of the timestamp type\n",
    " * The user_type, member_gender and bike_share_for_all_trip field can be of the category type\n",
    " * Añadir columnas de año, mes, día, semana y hora"
   ]
  },
  {
   "cell_type": "markdown",
   "metadata": {},
   "source": [
    "### Cleaning Data<a id='clean'></a>"
   ]
  },
  {
   "cell_type": "code",
   "execution_count": 8,
   "metadata": {},
   "outputs": [],
   "source": [
    "# Copy data\n",
    "df_clean = df.copy()"
   ]
  },
  {
   "cell_type": "markdown",
   "metadata": {},
   "source": [
    "#### Calculation of age and discarding users over 80 years"
   ]
  },
  {
   "cell_type": "code",
   "execution_count": 9,
   "metadata": {},
   "outputs": [],
   "source": [
    "# create age field\n",
    "df_clean['age'] = 2019-df_clean['member_birth_year']"
   ]
  },
  {
   "cell_type": "code",
   "execution_count": 10,
   "metadata": {
    "scrolled": true
   },
   "outputs": [
    {
     "data": {
      "image/png": "[encoded data removed]",
      "text/plain": [
       "<Figure size 432x288 with 1 Axes>"
      ]
     },
     "metadata": {
      "needs_background": "light"
     },
     "output_type": "display_data"
    }
   ],
   "source": [
    "df_clean['age'].hist();"
   ]
  },
  {
   "cell_type": "code",
   "execution_count": 11,
   "metadata": {},
   "outputs": [],
   "source": [
    "# Discarding users over 80 years and null values\n",
    "df_clean = df_clean.query('age <= 80')"
   ]
  },
  {
   "cell_type": "code",
   "execution_count": 12,
   "metadata": {},
   "outputs": [
    {
     "data": {
      "image/png": "[encoded data removed]",
      "text/plain": [
       "<Figure size 432x288 with 1 Axes>"
      ]
     },
     "metadata": {
      "needs_background": "light"
     },
     "output_type": "display_data"
    }
   ],
   "source": [
    "df_clean['age'].hist();"
   ]
  },
  {
   "cell_type": "markdown",
   "metadata": {},
   "source": [
    "#### Change to timestamp type"
   ]
  },
  {
   "cell_type": "code",
   "execution_count": 13,
   "metadata": {},
   "outputs": [],
   "source": [
    "df_clean.start_time = pd.to_datetime(df_clean.start_time)\n",
    "df_clean.end_time = pd.to_datetime(df_clean.end_time)"
   ]
  },
  {
   "cell_type": "code",
   "execution_count": 14,
   "metadata": {
    "scrolled": true
   },
   "outputs": [
    {
     "data": {
      "text/plain": [
       "duration_sec                        int64\n",
       "start_time                 datetime64[ns]\n",
       "end_time                   datetime64[ns]\n",
       "start_station_id                  float64\n",
       "start_station_name                 object\n",
       "start_station_latitude            float64\n",
       "start_station_longitude           float64\n",
       "end_station_id                    float64\n",
       "end_station_name                   object\n",
       "end_station_latitude              float64\n",
       "end_station_longitude             float64\n",
       "bike_id                             int64\n",
       "user_type                          object\n",
       "member_birth_year                 float64\n",
       "member_gender                      object\n",
       "bike_share_for_all_trip            object\n",
       "age                               float64\n",
       "dtype: object"
      ]
     },
     "execution_count": 14,
     "metadata": {},
     "output_type": "execute_result"
    }
   ],
   "source": [
    "df_clean.dtypes"
   ]
  },
  {
   "cell_type": "markdown",
   "metadata": {},
   "source": [
    "#### Can be of the category type"
   ]
  },
  {
   "cell_type": "code",
   "execution_count": 15,
   "metadata": {},
   "outputs": [],
   "source": [
    "df_clean.user_type = df_clean.user_type.astype('category')\n",
    "df_clean.member_gender = df_clean.member_gender.astype('category')\n",
    "df_clean.bike_share_for_all_trip = df_clean.bike_share_for_all_trip.astype('category')"
   ]
  },
  {
   "cell_type": "code",
   "execution_count": 16,
   "metadata": {},
   "outputs": [
    {
     "data": {
      "text/plain": [
       "duration_sec                        int64\n",
       "start_time                 datetime64[ns]\n",
       "end_time                   datetime64[ns]\n",
       "start_station_id                  float64\n",
       "start_station_name                 object\n",
       "start_station_latitude            float64\n",
       "start_station_longitude           float64\n",
       "end_station_id                    float64\n",
       "end_station_name                   object\n",
       "end_station_latitude              float64\n",
       "end_station_longitude             float64\n",
       "bike_id                             int64\n",
       "user_type                        category\n",
       "member_birth_year                 float64\n",
       "member_gender                    category\n",
       "bike_share_for_all_trip          category\n",
       "age                               float64\n",
       "dtype: object"
      ]
     },
     "execution_count": 16,
     "metadata": {},
     "output_type": "execute_result"
    }
   ],
   "source": [
    "df_clean.dtypes"
   ]
  },
  {
   "cell_type": "markdown",
   "metadata": {},
   "source": [
    "#### Add columns for year, month, week, day and hour"
   ]
  },
  {
   "cell_type": "code",
   "execution_count": 17,
   "metadata": {},
   "outputs": [],
   "source": [
    "# Create columns\n",
    "df_clean['year']=df_clean['start_time'].dt.year.astype(int)\n",
    "df_clean['month']=df_clean['start_time'].dt.month.astype(int)\n",
    "df_clean['week']=df_clean['start_time'].dt.strftime('%a')\n",
    "df_clean['day']=df_clean['start_time'].dt.day.astype(int)\n",
    "df_clean['hour']=df_clean['start_time'].dt.hour"
   ]
  },
  {
   "cell_type": "code",
   "execution_count": 18,
   "metadata": {},
   "outputs": [
    {
     "name": "stdout",
     "output_type": "stream",
     "text": [
      "<class 'pandas.core.frame.DataFrame'>\n",
      "Int64Index: 2579666 entries, 0 to 2734624\n",
      "Data columns (total 22 columns):\n",
      "duration_sec               2579666 non-null int64\n",
      "start_time                 2579666 non-null datetime64[ns]\n",
      "end_time                   2579666 non-null datetime64[ns]\n",
      "start_station_id           2567499 non-null float64\n",
      "start_station_name         2567499 non-null object\n",
      "start_station_latitude     2579666 non-null float64\n",
      "start_station_longitude    2579666 non-null float64\n",
      "end_station_id             2567499 non-null float64\n",
      "end_station_name           2567499 non-null object\n",
      "end_station_latitude       2579666 non-null float64\n",
      "end_station_longitude      2579666 non-null float64\n",
      "bike_id                    2579666 non-null int64\n",
      "user_type                  2579666 non-null category\n",
      "member_birth_year          2579666 non-null float64\n",
      "member_gender              2579666 non-null category\n",
      "bike_share_for_all_trip    2579666 non-null category\n",
      "age                        2579666 non-null float64\n",
      "year                       2579666 non-null int32\n",
      "month                      2579666 non-null int32\n",
      "week                       2579666 non-null object\n",
      "day                        2579666 non-null int32\n",
      "hour                       2579666 non-null int64\n",
      "dtypes: category(3), datetime64[ns](2), float64(8), int32(3), int64(3), object(3)\n",
      "memory usage: 371.5+ MB\n"
     ]
    }
   ],
   "source": [
    "df_clean.info(null_counts=True)"
   ]
  },
  {
   "cell_type": "markdown",
   "metadata": {},
   "source": [
    "#### Save the clean-master dataset"
   ]
  },
  {
   "cell_type": "code",
   "execution_count": 19,
   "metadata": {},
   "outputs": [],
   "source": [
    "df_clean.to_csv('clean_master_gobike.csv', index=False)"
   ]
  },
  {
   "cell_type": "markdown",
   "metadata": {},
   "source": [
    "### What is the structure of your dataset?<a id='answer'></a>\n",
    "The final structure has more than 2.5 million records in 21 columns where we can see:\n",
    "- The times of the journeys\n",
    "- From where and where with geolocation\n",
    "- Age, gender and type of user\n",
    "- The id of the bicycle and if it is shared for the all trip.\n",
    "\n",
    "In addition columns of **year, week, month, day and hour** have been added for a better subsequent analysis"
   ]
  },
  {
   "cell_type": "code",
   "execution_count": 20,
   "metadata": {
    "scrolled": true
   },
   "outputs": [
    {
     "name": "stdout",
     "output_type": "stream",
     "text": [
      "2018-01-01 00:07:41.040000\n",
      "2019-04-30 23:59:04.739000\n",
      "(2579666, 22)\n",
      "duration_sec                        int64\n",
      "start_time                 datetime64[ns]\n",
      "end_time                   datetime64[ns]\n",
      "start_station_id                  float64\n",
      "start_station_name                 object\n",
      "start_station_latitude            float64\n",
      "start_station_longitude           float64\n",
      "end_station_id                    float64\n",
      "end_station_name                   object\n",
      "end_station_latitude              float64\n",
      "end_station_longitude             float64\n",
      "bike_id                             int64\n",
      "user_type                        category\n",
      "member_birth_year                 float64\n",
      "member_gender                    category\n",
      "bike_share_for_all_trip          category\n",
      "age                               float64\n",
      "year                                int32\n",
      "month                               int32\n",
      "week                               object\n",
      "day                                 int32\n",
      "hour                                int64\n",
      "dtype: object\n"
     ]
    }
   ],
   "source": [
    "print(df_clean['start_time'].min())\n",
    "print(df_clean['start_time'].max())\n",
    "print(df_clean.shape)\n",
    "print(df_clean.dtypes)"
   ]
  },
  {
   "cell_type": "markdown",
   "metadata": {},
   "source": [
    "### What is/are the main feature(s) of interest in your dataset?\n",
    "\n",
    "- I am interested in discovering the use of GoBike by age and gender.\n",
    "- What are the peak hours, the days of the week, the greatest demand and if they affect the months with the lowest temperatures.\n",
    "- And above all, see the flows of users going to and from where, time, and if they repeat the same flows back hours later.\n",
    "\n",
    "### What features in the dataset do you think will help support your investigation into your feature(s) of interest?\n",
    "\n",
    "- To support my research, the dataset has geolocation and time both start and end. This would be the most important for **see the behavior of the users regarding the trips.**"
   ]
  },
  {
   "cell_type": "markdown",
   "metadata": {},
   "source": [
    "## Univariate Exploration<a id='uni'></a>\n",
    "- First discovering the use of GoBike by age and gender."
   ]
  },
  {
   "cell_type": "code",
   "execution_count": 66,
   "metadata": {
    "scrolled": true
   },
   "outputs": [
    {
     "data": {
      "image/png": "[encoded data removed]",
      "text/plain": [
       "<Figure size 576x216 with 1 Axes>"
      ]
     },
     "metadata": {
      "needs_background": "light"
     },
     "output_type": "display_data"
    }
   ],
   "source": [
    "plt.figure(figsize = [8, 3])\n",
    "sns.boxplot(data=df_clean, x='age', color=sns.color_palette()[0]);\n",
    "\n",
    "plt.suptitle('Age', y=1.03, fontsize=12, fontweight='semibold');"
   ]
  },
  {
   "cell_type": "code",
   "execution_count": 68,
   "metadata": {},
   "outputs": [
    {
     "data": {
      "image/png": "[encoded data removed]",
      "text/plain": [
       "<Figure size 432x288 with 1 Axes>"
      ]
     },
     "metadata": {},
     "output_type": "display_data"
    }
   ],
   "source": [
    "# calculating male and female\n",
    "male = df_clean.query('member_gender == \"Male\"')['bike_id'].count()\n",
    "female = df_clean.query('member_gender == \"Female\"')['bike_id'].count()\n",
    "\n",
    "labels = ['Male', 'Female']\n",
    "sizes = [male, female]\n",
    "colors = ['darkorange', 'steelblue']\n",
    "explode = (0, 0.1)\n",
    "\n",
    "plt.pie(sizes, explode=explode, labels=labels, colors = colors,\n",
    "        autopct='%1.1f%%', shadow=True, startangle=90)\n",
    "plt.axis('equal')\n",
    "\n",
    "plt.suptitle('Gender', y=1.03, fontsize=12, fontweight='semibold');"
   ]
  },
  {
   "cell_type": "code",
   "execution_count": null,
   "metadata": {},
   "outputs": [],
   "source": [
    "df_clean['age'].hist();"
   ]
  },
  {
   "cell_type": "code",
   "execution_count": 52,
   "metadata": {},
   "outputs": [
    {
     "data": {
      "image/png": "[encoded data removed]",
      "text/plain": [
       "<Figure size 576x576 with 1 Axes>"
      ]
     },
     "metadata": {},
     "output_type": "display_data"
    }
   ],
   "source": [
    "gpie = df_clean.groupby(['member_gender']).count()\n",
    "gpie = gpie.start_time\n",
    "gpie.plot(kind='pie', subplots=True, figsize=(8, 8));"
   ]
  },
  {
   "cell_type": "code",
   "execution_count": null,
   "metadata": {},
   "outputs": [],
   "source": [
    "age10=df_clean['age'].value_counts()\n",
    "age10=age10.head(10)\n",
    "#fig = plt.figure(figsize=(30,20))\n",
    "age10.plot(kind='bar', color = sns.color_palette()[0])\n",
    "plt.title('Top 10 use by ages')\n",
    "plt.show();"
   ]
  },
  {
   "cell_type": "code",
   "execution_count": null,
   "metadata": {},
   "outputs": [],
   "source": []
  },
  {
   "cell_type": "markdown",
   "metadata": {},
   "source": [
    "> Make sure that, after every plot or related series of plots, that you\n",
    "include a Markdown cell with comments about what you observed, and what\n",
    "you plan on investigating next."
   ]
  },
  {
   "cell_type": "code",
   "execution_count": null,
   "metadata": {},
   "outputs": [],
   "source": []
  },
  {
   "cell_type": "markdown",
   "metadata": {},
   "source": [
    "### Discuss the distribution(s) of your variable(s) of interest. Were there any unusual points? Did you need to perform any transformations?\n",
    "\n",
    "> Your answer here!\n",
    "\n",
    "### Of the features you investigated, were there any unusual distributions? Did you perform any operations on the data to tidy, adjust, or change the form of the data? If so, why did you do this?\n",
    "\n",
    "> Your answer here!"
   ]
  },
  {
   "cell_type": "markdown",
   "metadata": {},
   "source": [
    "## Bivariate Exploration<a id='bi'></a>\n",
    "\n",
    "> In this section, investigate relationships between pairs of variables in your\n",
    "data. Make sure the variables that you cover here have been introduced in some\n",
    "fashion in the previous section (univariate exploration)."
   ]
  },
  {
   "cell_type": "code",
   "execution_count": null,
   "metadata": {},
   "outputs": [],
   "source": []
  },
  {
   "cell_type": "markdown",
   "metadata": {},
   "source": [
    "### Talk about some of the relationships you observed in this part of the investigation. How did the feature(s) of interest vary with other features in the dataset?\n",
    "\n",
    "> Your answer here!\n",
    "\n",
    "### Did you observe any interesting relationships between the other features (not the main feature(s) of interest)?\n",
    "\n",
    "> Your answer here!"
   ]
  },
  {
   "cell_type": "markdown",
   "metadata": {},
   "source": [
    "## Multivariate Exploration<a id='multi'></a>\n",
    "\n",
    "> Create plots of three or more variables to investigate your data even\n",
    "further. Make sure that your investigations are justified, and follow from\n",
    "your work in the previous sections."
   ]
  },
  {
   "cell_type": "code",
   "execution_count": null,
   "metadata": {},
   "outputs": [],
   "source": []
  },
  {
   "cell_type": "markdown",
   "metadata": {},
   "source": [
    "### Talk about some of the relationships you observed in this part of the investigation. Were there features that strengthened each other in terms of looking at your feature(s) of interest?\n",
    "\n",
    "> Your answer here!\n",
    "\n",
    "### Were there any interesting or surprising interactions between features?\n",
    "\n",
    "> Your answer here!"
   ]
  },
  {
   "cell_type": "markdown",
   "metadata": {},
   "source": [
    "> At the end of your report, make sure that you export the notebook as an\n",
    "html file from the `File > Download as... > HTML` menu. Make sure you keep\n",
    "track of where the exported file goes, so you can put it in the same folder\n",
    "as this notebook for project submission. Also, make sure you remove all of\n",
    "the quote-formatted guide notes like this one before you finish your report!"
   ]
  },
  {
   "cell_type": "code",
   "execution_count": null,
   "metadata": {},
   "outputs": [],
   "source": []
  }
 ],
 "metadata": {
  "kernelspec": {
   "display_name": "Python 3",
   "language": "python",
   "name": "python3"
  },
  "language_info": {
   "codemirror_mode": {
    "name": "ipython",
    "version": 3
   },
   "file_extension": ".py",
   "mimetype": "text/x-python",
   "name": "python",
   "nbconvert_exporter": "python",
   "pygments_lexer": "ipython3",
   "version": "3.7.1"
  }
 },
 "nbformat": 4,
 "nbformat_minor": 2
}
